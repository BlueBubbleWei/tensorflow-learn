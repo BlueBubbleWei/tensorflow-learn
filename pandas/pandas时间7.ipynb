{
 "cells": [
  {
   "cell_type": "code",
   "execution_count": 4,
   "metadata": {},
   "outputs": [],
   "source": [
    "import numpy as np\n",
    "import pandas as pd"
   ]
  },
  {
   "cell_type": "code",
   "execution_count": 5,
   "metadata": {},
   "outputs": [
    {
     "name": "stdout",
     "output_type": "stream",
     "text": [
      "2 days 02:15:30\n"
     ]
    }
   ],
   "source": [
    "# 时间差(Timedelta)是时间上的差异，以不同的单位来表示。例如：日，小时，分钟，秒。它们可以是正值，也可以是负值。\n",
    "# 可以使用各种参数创建Timedelta对象\n",
    "\n",
    "timediff=pd.Timedelta('2 days 2 hours 15 minutes 30 seconds')\n",
    "print(timediff)"
   ]
  },
  {
   "cell_type": "code",
   "execution_count": 6,
   "metadata": {},
   "outputs": [
    {
     "name": "stdout",
     "output_type": "stream",
     "text": [
      "0 days 06:00:00\n"
     ]
    }
   ],
   "source": [
    "# 整数\n",
    "# 通过传递一个整数值与指定单位，这样的一个参数也可以用来创建Timedelta对象。\n",
    "timediff=pd.Timedelta(6,unit='h')\n",
    "print(timediff)"
   ]
  },
  {
   "cell_type": "code",
   "execution_count": 7,
   "metadata": {},
   "outputs": [
    {
     "name": "stdout",
     "output_type": "stream",
     "text": [
      "2 days 00:00:00\n"
     ]
    }
   ],
   "source": [
    "# 数据偏移\n",
    "# 例如 - 周，天，小时，分钟，秒，毫秒，微秒，纳秒的数据偏移也可用于构建。\n",
    "timediff=pd.Timedelta(days=2)\n",
    "print(timediff)"
   ]
  },
  {
   "cell_type": "code",
   "execution_count": 8,
   "metadata": {},
   "outputs": [
    {
     "name": "stdout",
     "output_type": "stream",
     "text": [
      "           A      B\n",
      "0 2012-01-01 0 days\n",
      "1 2012-01-02 1 days\n",
      "2 2012-01-03 2 days\n"
     ]
    }
   ],
   "source": [
    "# 运算操作\n",
    "# 可以在Series/DataFrames上执行运算操作，\n",
    "# 并通过在datetime64 [ns]系列或在时间戳上减法操作来构造timedelta64 [ns]系列。\n",
    "s=pd.Series(pd.date_range('2012-1-1',periods=3,freq='D'))\n",
    "td=pd.Series([pd.Timedelta(days=i) for i in range(3)])\n",
    "df=pd.DataFrame(dict(A=s,B=td))\n",
    "print(df)"
   ]
  },
  {
   "cell_type": "code",
   "execution_count": 9,
   "metadata": {},
   "outputs": [
    {
     "name": "stdout",
     "output_type": "stream",
     "text": [
      "           A      B          C\n",
      "0 2012-01-01 0 days 2012-01-01\n",
      "1 2012-01-02 1 days 2012-01-03\n",
      "2 2012-01-03 2 days 2012-01-05\n"
     ]
    }
   ],
   "source": [
    "# 相加操作\n",
    "df['C']=df['A']+df['B']\n",
    "print(df)"
   ]
  },
  {
   "cell_type": "code",
   "execution_count": 11,
   "metadata": {},
   "outputs": [
    {
     "name": "stdout",
     "output_type": "stream",
     "text": [
      "           A      B          C          D\n",
      "0 2012-01-01 0 days 2012-01-01 2012-01-01\n",
      "1 2012-01-02 1 days 2012-01-03 2012-01-02\n",
      "2 2012-01-03 2 days 2012-01-05 2012-01-03\n"
     ]
    }
   ],
   "source": [
    "# 相减操作\n",
    "df['C']=df['A']+df['B']\n",
    "df['D']=df['C']-df['B']\n",
    "print(df)"
   ]
  },
  {
   "cell_type": "code",
   "execution_count": 12,
   "metadata": {},
   "outputs": [],
   "source": [
    "# Pandas分类数据\n",
    "# 通常实时的数据包括重复的文本列。例如：性别，国家和代码等特征总是重复的。这些是分类数据的例子。\n",
    "\n",
    "# 分类变量只能采用有限的数量，而且通常是固定的数量。\n",
    "# 除了固定长度，分类数据可能有顺序，但不能执行数字操作。 分类是Pandas数据类型。\n",
    "\n",
    "# 分类数据类型在以下情况下非常有用 -\n",
    "\n",
    "# 一个字符串变量，只包含几个不同的值。将这样的字符串变量转换为分类变量将会节省一些内存。\n",
    "# 变量的词汇顺序与逻辑顺序(\"one\"，\"two\"，\"three\")不同。 \n",
    "# 通过转换为分类并指定类别上的顺序，排序和最小/最大将使用逻辑顺序，而不是词法顺序。\n",
    "# 作为其他python库的一个信号，这个列应该被当作一个分类变量(例如，使用合适的统计方法或plot类型)。\n",
    "\n"
   ]
  },
  {
   "cell_type": "code",
   "execution_count": 13,
   "metadata": {},
   "outputs": [
    {
     "name": "stdout",
     "output_type": "stream",
     "text": [
      "0    a\n",
      "1    b\n",
      "2    c\n",
      "3    a\n",
      "dtype: category\n",
      "Categories (3, object): [a, b, c]\n"
     ]
    }
   ],
   "source": [
    "# 对象创建\n",
    "\n",
    "# 分类对象可以通过多种方式创建。下面介绍了不同的方法 -\n",
    "\n",
    "# 类别/分类\n",
    "\n",
    "# 通过在pandas对象创建中将dtype指定为“category”。\n",
    "s=pd.Series(['a','b','c','a'],dtype='category')\n",
    "print(s)"
   ]
  },
  {
   "cell_type": "code",
   "execution_count": 29,
   "metadata": {},
   "outputs": [
    {
     "name": "stdout",
     "output_type": "stream",
     "text": [
      "[a, b, c, a, b, c]\n",
      "Categories (3, object): [a, b, c]\n",
      "*********************************************\n",
      "[a, b, a, b, NaN, NaN]\n",
      "Categories (2, object): [a, b]\n",
      "*********************************************\n",
      "[a, b, NaN, NaN]\n",
      "Categories (2, object): [b < a]\n"
     ]
    }
   ],
   "source": [
    "# 传递给系列对象的元素数量是四个，但类别只有三个。观察相同的输出类别。\n",
    "\n",
    "# pd.Categorical\n",
    "\n",
    "# 使用标准Pandas分类构造函数，我们可以创建一个类别对象。\n",
    "# andas.Categorical(values, categories, ordered)\n",
    "\n",
    "cat=pd.Categorical(['a','b','c','a','b','c'])#去除重复\n",
    "print(cat)\n",
    "\n",
    "print('***'*15)\n",
    "# cat = cat=pd.Categorical(['a','b','c','a','b','c','d'], ['c', 'b', 'a'])\n",
    "# print (cat)\n",
    "\n",
    "cat= cat=pd.Categorical(['a','b','a','b','c','d'],['a','b'])#第二个参数表示类别\n",
    "print(cat)\n",
    "# 这里，第二个参数表示类别。因此，在类别中不存在的任何值将被视为NaN。\n",
    "\n",
    "print('***'*15)\n",
    "cat=pd.Categorical(['a','b','c','d'],['b','a'],ordered=True)\n",
    "print(cat)\n",
    "# 从逻辑上讲，排序(ordered)意味着，a大于b，b大于c。"
   ]
  },
  {
   "cell_type": "code",
   "execution_count": 33,
   "metadata": {},
   "outputs": [
    {
     "name": "stdout",
     "output_type": "stream",
     "text": [
      "       cat  s\n",
      "count    3  3\n",
      "unique   2  2\n",
      "top      c  c\n",
      "freq     2  2\n",
      "*********************************************\n",
      "count     3\n",
      "unique    2\n",
      "top       c\n",
      "freq      2\n",
      "Name: cat, dtype: object\n"
     ]
    }
   ],
   "source": [
    "# 描述\n",
    "\n",
    "# 使用分类数据上的.describe()命令，可以得到与类型字符串的Series或DataFrame类似的输出。\n",
    "cat=pd.Categorical(['a','c','c',np.nan],categories=['b','a','c'])\n",
    "df=pd.DataFrame({'cat':cat,'s':['a','c','c',np.nan]})\n",
    "print(df.describe())\n",
    "print('***'*15)\n",
    "print(df['cat'].describe())"
   ]
  },
  {
   "cell_type": "code",
   "execution_count": 34,
   "metadata": {},
   "outputs": [
    {
     "name": "stdout",
     "output_type": "stream",
     "text": [
      "Index(['b', 'a', 'c'], dtype='object')\n"
     ]
    }
   ],
   "source": [
    "# 获取类别的属性\n",
    "# obj.cat.categories命令用于获取对象的类别。\n",
    "s=pd.Categorical(['a','b','c',np.nan],categories=['b','a','c'])\n",
    "print(s.categories)"
   ]
  },
  {
   "cell_type": "code",
   "execution_count": 35,
   "metadata": {},
   "outputs": [
    {
     "name": "stdout",
     "output_type": "stream",
     "text": [
      "False\n"
     ]
    }
   ],
   "source": [
    "# obj.ordered命令用于获取对象的顺序。\n",
    "cat=pd.Categorical(['a','b','c',np.nan],categories=['b','a','c'])\n",
    "print(cat.ordered)\n",
    "# 该函数返回结果为：False，因为这里没有指定任何顺序。"
   ]
  },
  {
   "cell_type": "code",
   "execution_count": 37,
   "metadata": {},
   "outputs": [
    {
     "name": "stdout",
     "output_type": "stream",
     "text": [
      "Index(['Group a', 'Group b', 'Group c'], dtype='object')\n"
     ]
    }
   ],
   "source": [
    "# 重命名类别\n",
    "# 重命名类别是通过将新值分配给series.cat.categories属性来完成的。\n",
    "s=pd.Series(['a','b','c','a'],dtype='category')\n",
    "s.cat.categories=['Group %s' % g for g in s.cat.categories]\n",
    "print(s.cat.categories)\n",
    "# 初始类别[a，b，c]由对象的s.cat.categories属性更新。"
   ]
  },
  {
   "cell_type": "code",
   "execution_count": 39,
   "metadata": {},
   "outputs": [
    {
     "name": "stdout",
     "output_type": "stream",
     "text": [
      "Index(['a', 'b', 'c', 4], dtype='object')\n"
     ]
    }
   ],
   "source": [
    "# 附加新类别\n",
    "# 使用Categorical.add.categories()方法，可以追加新的类别。\n",
    "s=pd.Series(['a','b','c','a'],dtype='category')\n",
    "s=s.cat.add_categories([4])\n",
    "print(s.cat.categories)"
   ]
  },
  {
   "cell_type": "code",
   "execution_count": 41,
   "metadata": {},
   "outputs": [
    {
     "name": "stdout",
     "output_type": "stream",
     "text": [
      "原始数据是\n",
      "0    a\n",
      "1    b\n",
      "2    c\n",
      "3    a\n",
      "dtype: category\n",
      "Categories (3, object): [a, b, c]\n",
      "================================================================================\n",
      "移除之后\n",
      "0    NaN\n",
      "1      b\n",
      "2      c\n",
      "3    NaN\n",
      "dtype: category\n",
      "Categories (2, object): [b, c]\n"
     ]
    }
   ],
   "source": [
    "# 删除类别\n",
    "# 使用Categorical.remove_categories()方法，可以删除不需要的类别。\n",
    "s=pd.Series(['a','b','c','a'],dtype='category')\n",
    "print('原始数据是')\n",
    "print(s)\n",
    "print('========'*10)\n",
    "print('移除之后')\n",
    "print(s.cat.remove_categories('a'))"
   ]
  },
  {
   "cell_type": "code",
   "execution_count": 45,
   "metadata": {},
   "outputs": [
    {
     "name": "stdout",
     "output_type": "stream",
     "text": [
      "0    False\n",
      "1    False\n",
      "2     True\n",
      "dtype: bool\n"
     ]
    },
    {
     "name": "stderr",
     "output_type": "stream",
     "text": [
      "d:\\python3\\lib\\site-packages\\ipykernel_launcher.py:9: FutureWarning: specifying 'categories' or 'ordered' in .astype() is deprecated; pass a CategoricalDtype instead\n",
      "  if __name__ == '__main__':\n",
      "d:\\python3\\lib\\site-packages\\ipykernel_launcher.py:10: FutureWarning: specifying 'categories' or 'ordered' in .astype() is deprecated; pass a CategoricalDtype instead\n",
      "  # Remove the CWD from sys.path while we load stuff.\n"
     ]
    }
   ],
   "source": [
    "# 分类数据的比较\n",
    "\n",
    "# 在三种情况下可以将分类数据与其他对象进行比较 -\n",
    "\n",
    "# 将等号(==和!=)与类别数据相同长度的类似列表的对象(列表，系列，数组…)进行比较。\n",
    "# 当ordered==True和类别是相同时，所有比较(==，!=，>，>=，<，和<=)分类数据到另一个分类系列。\n",
    "# 将分类数据与标量进行比较。\n",
    "\n",
    "cat=pd.Series([1,2,3]).astype('category',categories=[1,2,3],ordered=True)\n",
    "cat1=pd.Series([1,2,2]).astype('category',categories=[1,2,3],ordered=True)\n",
    "print(cat>cat1)"
   ]
  },
  {
   "cell_type": "code",
   "execution_count": null,
   "metadata": {},
   "outputs": [],
   "source": []
  }
 ],
 "metadata": {
  "kernelspec": {
   "display_name": "Python 3",
   "language": "python",
   "name": "python3"
  },
  "language_info": {
   "codemirror_mode": {
    "name": "ipython",
    "version": 3
   },
   "file_extension": ".py",
   "mimetype": "text/x-python",
   "name": "python",
   "nbconvert_exporter": "python",
   "pygments_lexer": "ipython3",
   "version": "3.6.4"
  }
 },
 "nbformat": 4,
 "nbformat_minor": 2
}
