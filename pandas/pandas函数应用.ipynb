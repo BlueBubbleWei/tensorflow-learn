{
 "cells": [
  {
   "cell_type": "code",
   "execution_count": 1,
   "metadata": {},
   "outputs": [],
   "source": [
    "import numpy as np\n",
    "import pandas as pd"
   ]
  },
  {
   "cell_type": "code",
   "execution_count": 10,
   "metadata": {},
   "outputs": [
    {
     "name": "stdout",
     "output_type": "stream",
     "text": [
      "       col1      col2      col3\n",
      "0 -0.752477 -1.907248 -1.021043\n",
      "1 -0.290498  1.155396 -2.467624\n",
      "2 -1.553578  0.158605 -1.239208\n",
      "3  0.124439  1.918635  0.355261\n",
      "4 -1.320469 -0.021269  0.669347\n"
     ]
    },
    {
     "data": {
      "text/html": [
       "<div>\n",
       "<style scoped>\n",
       "    .dataframe tbody tr th:only-of-type {\n",
       "        vertical-align: middle;\n",
       "    }\n",
       "\n",
       "    .dataframe tbody tr th {\n",
       "        vertical-align: top;\n",
       "    }\n",
       "\n",
       "    .dataframe thead th {\n",
       "        text-align: right;\n",
       "    }\n",
       "</style>\n",
       "<table border=\"1\" class=\"dataframe\">\n",
       "  <thead>\n",
       "    <tr style=\"text-align: right;\">\n",
       "      <th></th>\n",
       "      <th>col1</th>\n",
       "      <th>col2</th>\n",
       "      <th>col3</th>\n",
       "    </tr>\n",
       "  </thead>\n",
       "  <tbody>\n",
       "    <tr>\n",
       "      <th>0</th>\n",
       "      <td>1.247523</td>\n",
       "      <td>0.092752</td>\n",
       "      <td>0.978957</td>\n",
       "    </tr>\n",
       "    <tr>\n",
       "      <th>1</th>\n",
       "      <td>1.709502</td>\n",
       "      <td>3.155396</td>\n",
       "      <td>-0.467624</td>\n",
       "    </tr>\n",
       "    <tr>\n",
       "      <th>2</th>\n",
       "      <td>0.446422</td>\n",
       "      <td>2.158605</td>\n",
       "      <td>0.760792</td>\n",
       "    </tr>\n",
       "    <tr>\n",
       "      <th>3</th>\n",
       "      <td>2.124439</td>\n",
       "      <td>3.918635</td>\n",
       "      <td>2.355261</td>\n",
       "    </tr>\n",
       "    <tr>\n",
       "      <th>4</th>\n",
       "      <td>0.679531</td>\n",
       "      <td>1.978731</td>\n",
       "      <td>2.669347</td>\n",
       "    </tr>\n",
       "  </tbody>\n",
       "</table>\n",
       "</div>"
      ],
      "text/plain": [
       "       col1      col2      col3\n",
       "0  1.247523  0.092752  0.978957\n",
       "1  1.709502  3.155396 -0.467624\n",
       "2  0.446422  2.158605  0.760792\n",
       "3  2.124439  3.918635  2.355261\n",
       "4  0.679531  1.978731  2.669347"
      ]
     },
     "execution_count": 10,
     "metadata": {},
     "output_type": "execute_result"
    }
   ],
   "source": [
    "# 表格函数应用\n",
    "# 可以通过将函数和适当数量的参数作为管道参数来执行自定义操作。\n",
    "# 因此，对整个DataFrame执行操作。\n",
    "# 例如，为DataFrame中的所有元素相加一个值2。 然后，\n",
    "# 加法器函数\n",
    "# 加法器函数将两个数值作为参数添加并返回总和。\n",
    "\n",
    "\n",
    "def adder(ele1,ele2):\n",
    "    return ele1 + ele2\n",
    "\n",
    "# 现在将使用自定义函数对DataFrame进行操作。\n",
    "df=pd.DataFrame(np.random.randn(5,3),columns=['col1','col2','col3'])\n",
    "print(df)\n",
    "df.pipe(adder,2)\n"
   ]
  },
  {
   "cell_type": "code",
   "execution_count": 14,
   "metadata": {},
   "outputs": [
    {
     "name": "stdout",
     "output_type": "stream",
     "text": [
      "       col1      col2      col3\n",
      "0  0.001923  0.581719  0.084672\n",
      "1 -0.294147 -0.762654 -0.282585\n",
      "2 -0.364970 -0.231298  1.204251\n",
      "3  2.569534  0.832736 -0.868350\n",
      "4  0.339195 -0.293103 -0.352835\n"
     ]
    },
    {
     "data": {
      "text/html": [
       "<div>\n",
       "<style scoped>\n",
       "    .dataframe tbody tr th:only-of-type {\n",
       "        vertical-align: middle;\n",
       "    }\n",
       "\n",
       "    .dataframe tbody tr th {\n",
       "        vertical-align: top;\n",
       "    }\n",
       "\n",
       "    .dataframe thead th {\n",
       "        text-align: right;\n",
       "    }\n",
       "</style>\n",
       "<table border=\"1\" class=\"dataframe\">\n",
       "  <thead>\n",
       "    <tr style=\"text-align: right;\">\n",
       "      <th></th>\n",
       "      <th>col1</th>\n",
       "      <th>col2</th>\n",
       "      <th>col3</th>\n",
       "    </tr>\n",
       "  </thead>\n",
       "  <tbody>\n",
       "    <tr>\n",
       "      <th>0</th>\n",
       "      <td>2.001923</td>\n",
       "      <td>2.581719</td>\n",
       "      <td>2.084672</td>\n",
       "    </tr>\n",
       "    <tr>\n",
       "      <th>1</th>\n",
       "      <td>1.705853</td>\n",
       "      <td>1.237346</td>\n",
       "      <td>1.717415</td>\n",
       "    </tr>\n",
       "    <tr>\n",
       "      <th>2</th>\n",
       "      <td>1.635030</td>\n",
       "      <td>1.768702</td>\n",
       "      <td>3.204251</td>\n",
       "    </tr>\n",
       "    <tr>\n",
       "      <th>3</th>\n",
       "      <td>4.569534</td>\n",
       "      <td>2.832736</td>\n",
       "      <td>1.131650</td>\n",
       "    </tr>\n",
       "    <tr>\n",
       "      <th>4</th>\n",
       "      <td>2.339195</td>\n",
       "      <td>1.706897</td>\n",
       "      <td>1.647165</td>\n",
       "    </tr>\n",
       "  </tbody>\n",
       "</table>\n",
       "</div>"
      ],
      "text/plain": [
       "       col1      col2      col3\n",
       "0  2.001923  2.581719  2.084672\n",
       "1  1.705853  1.237346  1.717415\n",
       "2  1.635030  1.768702  3.204251\n",
       "3  4.569534  2.832736  1.131650\n",
       "4  2.339195  1.706897  1.647165"
      ]
     },
     "execution_count": 14,
     "metadata": {},
     "output_type": "execute_result"
    }
   ],
   "source": [
    "# 下面来看看完整的程序\n",
    "def adder(ele1,ele2):\n",
    "    return ele1+ele2\n",
    "df=pd.DataFrame(np.random.randn(5,3),columns=['col1','col2','col3'])\n",
    "print(df)\n",
    "df.pipe(adder,2)\n"
   ]
  },
  {
   "cell_type": "code",
   "execution_count": 35,
   "metadata": {},
   "outputs": [
    {
     "name": "stdout",
     "output_type": "stream",
     "text": [
      "       col1      col2      col3\n",
      "0 -1.739949  1.830270 -0.347230\n",
      "1 -2.021610 -0.203300 -2.710378\n",
      "2  0.502278  0.821228 -0.223299\n",
      "3  0.489046 -0.411263 -0.210310\n",
      "4 -0.168609  1.716777  0.902562\n",
      "       col1      col2      col3\n",
      "0 -1.739949  1.830270 -0.347230\n",
      "1 -2.021610 -0.203300 -2.710378\n",
      "2  0.502278  0.821228 -0.223299\n",
      "3  0.489046 -0.411263 -0.210310\n",
      "4 -0.168609  1.716777  0.902562\n"
     ]
    }
   ],
   "source": [
    "# 行或列智能函数应用\n",
    "# 可以使用apply()方法沿DataFrame或Panel的轴应用任意函数，它与描述性统计方法一样，采用可选的轴参数。\n",
    "# 默认情况下，操作按列执行，将每列列为数组。\n",
    "df=pd.DataFrame(np.random.randn(5,3),columns=['col1','col2','col3'])\n",
    "print(df)\n",
    "\n",
    "# 通过传递axis参数，可以在行上执行操作。\n",
    "# df.apply(np.mean,axis=1)\n",
    "# print(df)\n",
    "df.apply(np.mean)\n",
    "# print(df)"
   ]
  },
  {
   "cell_type": "code",
   "execution_count": 28,
   "metadata": {},
   "outputs": [
    {
     "name": "stdout",
     "output_type": "stream",
     "text": [
      "       col1      col2      col3\n",
      "0  0.692983  1.266406 -1.190533\n",
      "1 -1.130362 -1.042387  1.077111\n",
      "2 -1.057252 -0.430771 -0.646164\n",
      "3 -0.806946 -0.503188  1.795152\n",
      "4  0.932269 -0.950562  0.146680\n"
     ]
    },
    {
     "data": {
      "text/plain": [
       "col1    2.062632\n",
       "col2    2.308793\n",
       "col3    2.985685\n",
       "dtype: float64"
      ]
     },
     "execution_count": 28,
     "metadata": {},
     "output_type": "execute_result"
    }
   ],
   "source": [
    "df=pd.DataFrame(np.random.randn(5,3),columns=['col1','col2','col3'])\n",
    "print(df)\n",
    "df.apply(lambda x: x.max() -x.min())\n"
   ]
  },
  {
   "cell_type": "code",
   "execution_count": 38,
   "metadata": {},
   "outputs": [
    {
     "name": "stdout",
     "output_type": "stream",
     "text": [
      "       col1      col2      col3\n",
      "0 -0.408652 -0.230126 -2.030047\n",
      "1  1.188513  1.443385  0.125650\n",
      "2  1.297633  0.048628 -0.170912\n",
      "3  2.510776  0.311117  0.804013\n",
      "4  0.550406  1.268099  0.468241\n",
      "         col1        col2        col3\n",
      "0  -40.865208  -23.012636 -203.004654\n",
      "1  118.851348  144.338504   12.565037\n",
      "2  129.763269    4.862821  -17.091194\n",
      "3  251.077555   31.111693   80.401258\n",
      "4   55.040566  126.809872   46.824094\n"
     ]
    }
   ],
   "source": [
    "# 元素智能函数应用\n",
    "# 并不是所有的函数都可以向量化(也不是返回另一个数组的NumPy数组，也不是任何值)，\n",
    "# 在DataFrame上的方法applymap()和类似地在Series上的map()接受任何Python函数，并且返回单个值。\n",
    "df=pd.DataFrame(np.random.randn(5,3),columns=['col1','col2','col3'])\n",
    "print(df)\n",
    "df['col1'].map(lambda x: x*100)\n",
    "\n",
    "dp=df.applymap(lambda x : x*100)\n",
    "print(dp)\n"
   ]
  },
  {
   "cell_type": "code",
   "execution_count": 40,
   "metadata": {},
   "outputs": [
    {
     "name": "stdout",
     "output_type": "stream",
     "text": [
      "            A       C           D     x         y\n",
      "0  2018-01-01  medium  108.387341   0.0  0.939003\n",
      "1  2018-01-02   heigh  109.075052   1.0  0.563962\n",
      "2  2018-01-03     low   79.606080   2.0  0.909817\n",
      "3  2018-01-04  medium   88.617510   3.0  0.545213\n",
      "4  2018-01-05   heigh  100.051192   4.0  0.143629\n",
      "5  2018-01-06  medium   97.832465   5.0  0.742746\n",
      "6  2018-01-07     low   96.675470   6.0  0.576823\n",
      "7  2018-01-08   heigh  107.743586   7.0  0.367384\n",
      "8  2018-01-09     low  100.874075   8.0  0.963473\n",
      "9  2018-01-10     low  106.941345   9.0  0.134140\n",
      "10 2018-01-11  medium  102.378710  10.0  0.386765\n",
      "11 2018-01-12     low  105.071501  11.0  0.182720\n",
      "12 2018-01-13   heigh   96.571473  12.0  0.167989\n",
      "13 2018-01-14   heigh   79.825020  13.0  0.461962\n",
      "14 2018-01-15   heigh  109.833968  14.0  0.452231\n",
      "15 2018-01-16  medium   95.180111  15.0  0.213183\n",
      "16 2018-01-17     low   97.649798  16.0  0.801732\n",
      "17 2018-01-18   heigh  107.532118  17.0  0.970711\n",
      "18 2018-01-19     low   98.796283  18.0  0.013375\n",
      "19 2018-01-20     low  110.169977  19.0  0.196644\n",
      "           A   B       C           D\n",
      "0 2018-01-01 NaN  medium  108.387341\n",
      "2 2018-01-03 NaN     low   79.606080\n",
      "5 2018-01-06 NaN  medium   97.832465\n"
     ]
    }
   ],
   "source": [
    "# 重新索引会更改DataFrame的行标签和列标签。\n",
    "# 重新索引意味着符合数据以匹配特定轴上的一组给定的标签。\n",
    "# 可以通过索引来实现多个操作 -\n",
    "# 重新排序现有数据以匹配一组新的标签。\n",
    "# 在没有标签数据的标签位置插入缺失值(NA)标记。\n",
    "\n",
    "N=20\n",
    "df=pd.DataFrame({\n",
    "    'A':pd.date_range(start='20180101',periods=N,freq='D'),\n",
    "    'x':np.linspace(0,stop=N-1,num=N),\n",
    "    'y':np.random.rand(N),\n",
    "    'C':np.random.choice(['low','medium','heigh'],N).tolist(),\n",
    "    'D':np.random.normal(100,10,size=(N)).tolist()\n",
    "})\n",
    "print(df)\n",
    "df_reindexed=df.reindex(index=[0,2,5],columns=['A','B','C','D'])\n",
    "print(df_reindexed)\n"
   ]
  },
  {
   "cell_type": "code",
   "execution_count": 48,
   "metadata": {},
   "outputs": [
    {
     "name": "stdout",
     "output_type": "stream",
     "text": [
      "       col1      col2      col3\n",
      "0  0.097341  1.711128 -0.347246\n",
      "1 -0.262972  0.721103 -0.945549\n",
      "2 -0.009840 -0.488548 -0.696697\n",
      "3  1.620523  1.635759  1.267819\n",
      "4  1.089772  0.585452  1.195187\n",
      "5 -0.856863 -0.065114  0.777254\n",
      "6  0.508558 -1.078923 -0.657348\n",
      "***************************************************************************\n",
      "       col1      col2      col3\n",
      "0 -1.765944 -0.690243  1.168287\n",
      "1 -1.114742  0.484350  0.058878\n",
      "2  0.391093 -0.494790  0.125297\n",
      "3  0.038258  1.475333  0.595360\n",
      "4 -1.767276 -1.123037 -0.531421\n",
      "5  0.214125 -1.736327  0.565436\n",
      "6  0.427817  1.323404 -0.674408\n",
      "7       NaN       NaN       NaN\n",
      "8       NaN       NaN       NaN\n",
      "9       NaN       NaN       NaN\n",
      "补全数据\n",
      "       col1      col2      col3\n",
      "0 -1.765944 -0.690243  1.168287\n",
      "1 -1.114742  0.484350  0.058878\n",
      "2  0.391093 -0.494790  0.125297\n",
      "3  0.038258  1.475333  0.595360\n",
      "4 -1.767276 -1.123037 -0.531421\n",
      "5  0.214125 -1.736327  0.565436\n",
      "6  0.427817  1.323404 -0.674408\n",
      "7  0.427817  1.323404 -0.674408\n",
      "8  0.427817  1.323404 -0.674408\n",
      "9  0.427817  1.323404 -0.674408\n"
     ]
    }
   ],
   "source": [
    "# 重建索引与其他对象对齐\n",
    "# 有时可能希望采取一个对象和重新索引，其轴被标记为与另一个对象相同。\n",
    "df1=pd.DataFrame(np.random.randn(10,3),columns=['col1','col2','col3'])\n",
    "df2=pd.DataFrame(np.random.randn(7,3),columns=['col1','col2','col3'])\n",
    "df1=df1.reindex_like(df2)\n",
    "print(df1)\n",
    "# 注意 - 在这里，df1数据帧(DataFrame)被更改并重新编号，如df2。 \n",
    "# 列名称应该匹配，否则将为整个列标签添加NAN\n",
    "\n",
    "print('*****'*15)\n",
    "# 填充时重新加注\n",
    "# reindex()采用可选参数方法，它是一个填充方法，其值如下：\n",
    "# pad/ffill - 向前填充值\n",
    "# bfill/backfill - 向后填充值\n",
    "# nearest - 从最近的索引值填充\n",
    "df1=pd.DataFrame(np.random.randn(10,3),columns=['col1','col2','col3'])\n",
    "df2=pd.DataFrame(np.random.randn(7,3),columns=['col1','col2','col3'])\n",
    "print(df2.reindex_like(df1))\n",
    "print('补全数据')\n",
    "print(df2.reindex_like(df1,method='ffill'))\n",
    "# 注 - 最后四行被填充了。"
   ]
  },
  {
   "cell_type": "code",
   "execution_count": 49,
   "metadata": {},
   "outputs": [
    {
     "name": "stdout",
     "output_type": "stream",
     "text": [
      "       col1      col2      col3\n",
      "0  1.745883 -0.288680  1.001290\n",
      "1  0.192043 -0.794579 -0.942893\n",
      "2  0.865370 -0.449743 -2.742722\n",
      "3  0.505724 -0.245576  0.325858\n",
      "4  0.164651 -1.660368 -1.472954\n",
      "5 -0.390024  0.580016 -0.417919\n",
      "6 -1.020407  0.211701  1.131153\n",
      "7       NaN       NaN       NaN\n",
      "8       NaN       NaN       NaN\n",
      "9       NaN       NaN       NaN\n",
      "************************************************************\n",
      "数据帧向前填充限制为1\n",
      "       col1      col2      col3\n",
      "0  1.745883 -0.288680  1.001290\n",
      "1  0.192043 -0.794579 -0.942893\n",
      "2  0.865370 -0.449743 -2.742722\n",
      "3  0.505724 -0.245576  0.325858\n",
      "4  0.164651 -1.660368 -1.472954\n",
      "5 -0.390024  0.580016 -0.417919\n",
      "6 -1.020407  0.211701  1.131153\n",
      "7 -1.020407  0.211701  1.131153\n",
      "8       NaN       NaN       NaN\n",
      "9       NaN       NaN       NaN\n"
     ]
    }
   ],
   "source": [
    "# 重建索引时的填充限制\n",
    "# 限制参数在重建索引时提供对填充的额外控制。限制指定连续匹配的最大计数。\n",
    "df1=pd.DataFrame(np.random.randn(10,3),columns=['col1','col2','col3'])\n",
    "df2=pd.DataFrame(np.random.randn(7,3),columns=['col1','col2','col3'])\n",
    "print(df2.reindex_like(df1))\n",
    "print('****'*15)\n",
    "print('数据帧向前填充限制为1')\n",
    "print(df2.reindex_like(df1,method='ffill',limit=1))\n",
    "# 注意 - 只有第7行由前6行填充。 然后，其它行按原样保留。"
   ]
  },
  {
   "cell_type": "code",
   "execution_count": 50,
   "metadata": {},
   "outputs": [
    {
     "name": "stdout",
     "output_type": "stream",
     "text": [
      "       col1      col2      col3\n",
      "0 -2.755287 -2.115145  0.159374\n",
      "1 -0.286716  1.055608  0.237885\n",
      "2 -0.162800 -0.295921 -2.087107\n",
      "3 -0.972743 -0.431690  0.047728\n",
      "4 -1.124524  0.435752 -0.570334\n",
      "5  0.059583 -0.136953  0.281095\n",
      "重命名以后的行和列\n",
      "              c1        c2      col3\n",
      "apple  -2.755287 -2.115145  0.159374\n",
      "banana -0.286716  1.055608  0.237885\n",
      "durian -0.162800 -0.295921 -2.087107\n",
      "3      -0.972743 -0.431690  0.047728\n",
      "4      -1.124524  0.435752 -0.570334\n",
      "5       0.059583 -0.136953  0.281095\n"
     ]
    }
   ],
   "source": [
    "# 重命名\n",
    "# rename()方法允许基于一些映射(字典或者系列)或任意函数来重新标记一个轴。\n",
    "df1=pd.DataFrame(np.random.randn(6,3),columns=['col1','col2','col3'])\n",
    "print(df1)\n",
    "print('重命名以后的行和列')\n",
    "print(df1.rename(columns={'col1':'c1','col2':'c2'},\n",
    "    index={0:'apple',1:'banana',2:'durian'}\n",
    "                ))\n",
    "# rename()方法提供了一个inplace命名参数，默认为False并复制底层数据。 \n",
    "# 指定传递inplace = True则表示将数据重命名。"
   ]
  },
  {
   "cell_type": "code",
   "execution_count": 51,
   "metadata": {},
   "outputs": [
    {
     "name": "stdout",
     "output_type": "stream",
     "text": [
      "A\n",
      "C\n",
      "D\n",
      "x\n",
      "y\n"
     ]
    }
   ],
   "source": [
    "# Pandas对象之间的基本迭代的行为取决于类型。\n",
    "# 当迭代一个系列时，它被视为数组式，基本迭代产生这些值。\n",
    "# 其他数据结构，如：DataFrame和Panel，遵循类似惯例迭代对象的键。\n",
    "# 简而言之，基本迭代(对于i在对象中)产生 -\n",
    "# Series - 值\n",
    "# DataFrame - 列标签\n",
    "# Pannel - 项目标签\n",
    "\n",
    "# 迭代DataFrame\n",
    "# 迭代DataFrame提供列名。现在来看看下面的例子来理解这个概念。\n",
    "N=20\n",
    "df=pd.DataFrame({\n",
    "    'A':pd.date_range(start='20180101',periods=N,freq='D'),\n",
    "    'x':np.linspace(0,stop=N-1,num=N),\n",
    "    'y':np.random.rand(N),\n",
    "    'C':np.random.choice(['Low','Medium','Heigh'],N).tolist(),\n",
    "    'D':np.random.normal(100,10,size=(N)).tolist()\n",
    "})\n",
    "\n",
    "for col in df:\n",
    "    print(col)"
   ]
  },
  {
   "cell_type": "code",
   "execution_count": 55,
   "metadata": {
    "scrolled": true
   },
   "outputs": [
    {
     "name": "stdout",
     "output_type": "stream",
     "text": [
      "       col1      col2      col3\n",
      "0 -0.591557 -0.529616 -0.323126\n",
      "1 -1.764371 -0.180232  0.991270\n",
      "2 -0.174809  0.688083  1.074894\n",
      "3  0.548210  0.288900  0.237567\n",
      "col1 0   -0.591557\n",
      "1   -1.764371\n",
      "2   -0.174809\n",
      "3    0.548210\n",
      "Name: col1, dtype: float64\n",
      "col2 0   -0.529616\n",
      "1   -0.180232\n",
      "2    0.688083\n",
      "3    0.288900\n",
      "Name: col2, dtype: float64\n",
      "col3 0   -0.323126\n",
      "1    0.991270\n",
      "2    1.074894\n",
      "3    0.237567\n",
      "Name: col3, dtype: float64\n"
     ]
    }
   ],
   "source": [
    "# 要遍历数据帧(DataFrame)中的行，可以使用以下函数 -\n",
    "# iteritems() - 迭代(key，value)对\n",
    "# iterrows() - 将行迭代为(索引，系列)对\n",
    "# itertuples() - 以namedtuples的形式迭代行\n",
    "df=pd.DataFrame(np.random.randn(4,3),columns=['col1','col2','col3'])\n",
    "print(df)\n",
    "for key,value in df.iteritems():\n",
    "    print(key,value)\n",
    "\n"
   ]
  },
  {
   "cell_type": "code",
   "execution_count": 56,
   "metadata": {},
   "outputs": [
    {
     "name": "stdout",
     "output_type": "stream",
     "text": [
      "************************************************************\n",
      "0 col1   -0.591557\n",
      "col2   -0.529616\n",
      "col3   -0.323126\n",
      "Name: 0, dtype: float64\n",
      "1 col1   -1.764371\n",
      "col2   -0.180232\n",
      "col3    0.991270\n",
      "Name: 1, dtype: float64\n",
      "2 col1   -0.174809\n",
      "col2    0.688083\n",
      "col3    1.074894\n",
      "Name: 2, dtype: float64\n",
      "3 col1    0.548210\n",
      "col2    0.288900\n",
      "col3    0.237567\n",
      "Name: 3, dtype: float64\n"
     ]
    }
   ],
   "source": [
    "print('****'*15)\n",
    "# iterrows()示例\n",
    "# iterrows()返回迭代器，产生每个索引值以及包含每行数据的序列。\n",
    "for row_index,row in df.iterrows():\n",
    "    print(row_index,row)"
   ]
  },
  {
   "cell_type": "code",
   "execution_count": 57,
   "metadata": {},
   "outputs": [
    {
     "name": "stdout",
     "output_type": "stream",
     "text": [
      "Pandas(Index=0, col1=-0.39504924161791183, col2=-2.2382836688424246, col3=1.4426523217502223)\n",
      "Pandas(Index=1, col1=-0.6890234949693067, col2=-0.39313063969504725, col3=1.0069722504316967)\n",
      "Pandas(Index=2, col1=0.28640230022880003, col2=0.10015119050040078, col3=0.1305728449320259)\n",
      "Pandas(Index=3, col1=0.30051133907509325, col2=0.5858180908214139, col3=-2.49276877027981)\n"
     ]
    }
   ],
   "source": [
    "# itertuples()示例\n",
    "# itertuples()方法将为DataFrame中的每一行返回一个产生一个命名元组的迭代器。\n",
    "# 元组的第一个元素将是行的相应索引值，而剩余的值是行值。\n",
    "df=pd.DataFrame(np.random.randn(4,3),columns=['col1','col2','col3'])\n",
    "for row in df.itertuples():\n",
    "    print(row)"
   ]
  },
  {
   "cell_type": "code",
   "execution_count": 59,
   "metadata": {},
   "outputs": [
    {
     "name": "stdout",
     "output_type": "stream",
     "text": [
      "       col2      col1\n",
      "1 -0.561941  0.134821\n",
      "4 -0.015912  0.982347\n",
      "6 -0.551074 -0.232039\n",
      "2  0.501239  0.452409\n",
      "3  1.244757 -1.704429\n",
      "5  0.689269 -0.655131\n",
      "8  0.067806  1.255158\n",
      "8  0.384026 -0.251397\n",
      "0 -0.268109  1.018756\n",
      "7  0.633806  3.895012\n"
     ]
    }
   ],
   "source": [
    "# Pandas有两种排序方式，它们分别是 -\n",
    "# 按标签\n",
    "# 按实际值\n",
    "unsorted_df=pd.DataFrame(np.random.randn(10,2),index=[1,4,6,2,3,5,8,8,0,7],columns=['col2','col1'])\n",
    "mns=['col2','col1']\n",
    "print(unsorted_df)"
   ]
  },
  {
   "cell_type": "code",
   "execution_count": 60,
   "metadata": {},
   "outputs": [
    {
     "name": "stdout",
     "output_type": "stream",
     "text": [
      "       col2      col1\n",
      "0 -1.223311 -1.564494\n",
      "1  0.414072 -0.761651\n",
      "2  0.274626  0.042983\n",
      "3 -0.816167 -0.965537\n",
      "4 -1.514548  0.611020\n",
      "5  0.843185 -0.845181\n",
      "6  1.167532 -1.010269\n",
      "7  0.486040 -1.172796\n",
      "8  1.452975  0.570129\n",
      "8 -0.268818  0.344669\n"
     ]
    }
   ],
   "source": [
    "# 按标签排序\n",
    "# 使用sort_index()方法，通过传递axis参数和排序顺序，可以对DataFrame进行排序。 \n",
    "# 默认情况下，按照升序对行标签进行排序。\n",
    "unsorted_df=pd.DataFrame(np.random.randn(10,2),index=[1,4,6,2,3,5,8,8,0,7],columns=['col2','col1'])\n",
    "sorted_df=unsorted_df.sort_index()\n",
    "print(sorted_df)"
   ]
  },
  {
   "cell_type": "code",
   "execution_count": 61,
   "metadata": {},
   "outputs": [
    {
     "name": "stdout",
     "output_type": "stream",
     "text": [
      "       col2      col1\n",
      "8  1.312224 -0.223037\n",
      "8  1.194150  1.029150\n",
      "7 -0.087979  0.615953\n",
      "6  2.170505  0.833031\n",
      "5  0.620579  1.057862\n",
      "4 -0.466403  1.513894\n",
      "3  1.837838  1.163646\n",
      "2  2.104083 -0.509531\n",
      "1 -1.287812 -1.650778\n",
      "0  1.276593  0.058968\n"
     ]
    }
   ],
   "source": [
    "# 排序顺序\n",
    "# 通过将布尔值传递给升序参数，可以控制排序顺序。\n",
    "unsorted_df=pd.DataFrame(np.random.randn(10,2),index=[1,4,6,2,3,5,8,8,0,7],columns=['col2','col1'])\n",
    "sorted_df=unsorted_df.sort_index(ascending=False)\n",
    "print(sorted_df)"
   ]
  },
  {
   "cell_type": "code",
   "execution_count": 65,
   "metadata": {},
   "outputs": [
    {
     "name": "stdout",
     "output_type": "stream",
     "text": [
      "       col2      col1\n",
      "1  0.071020  0.422506\n",
      "4 -0.293831 -2.032947\n",
      "6 -0.402666 -1.430422\n",
      "2  0.212297  0.270772\n",
      "3  0.603610  0.990193\n",
      "5  0.034328 -0.677082\n",
      "8  0.723225 -1.268431\n",
      "8 -1.415268  1.568484\n",
      "0 -0.013483 -0.370087\n",
      "7 -1.661323  0.916876\n",
      "       col1      col2\n",
      "1  0.422506  0.071020\n",
      "4 -2.032947 -0.293831\n",
      "6 -1.430422 -0.402666\n",
      "2  0.270772  0.212297\n",
      "3  0.990193  0.603610\n",
      "5 -0.677082  0.034328\n",
      "8 -1.268431  0.723225\n",
      "8  1.568484 -1.415268\n",
      "0 -0.370087 -0.013483\n",
      "7  0.916876 -1.661323\n"
     ]
    }
   ],
   "source": [
    "# 按列排列\n",
    "# 通过传递axis参数值为0或1，可以对列标签进行排序。\n",
    "# 默认情况下，axis = 0，逐行排列。\n",
    "unsorted_df=pd.DataFrame(np.random.randn(10,2),index=[1,4,6,2,3,5,8,8,0,7],columns=['col2','col1'])\n",
    "print(unsorted_df)\n",
    "sorted_df=unsorted_df.sort_index(axis=1)\n",
    "print(sorted_df)"
   ]
  },
  {
   "cell_type": "code",
   "execution_count": 67,
   "metadata": {},
   "outputs": [
    {
     "name": "stdout",
     "output_type": "stream",
     "text": [
      "   col1  col2\n",
      "0     2     1\n",
      "1     1     3\n",
      "2     1     2\n",
      "3     1     4\n",
      "   col1  col2\n",
      "1     1     3\n",
      "2     1     2\n",
      "3     1     4\n",
      "0     2     1\n"
     ]
    }
   ],
   "source": [
    "# 按值排序\n",
    "# 像索引排序一样，sort_values()是按值排序的方法。它接受一个by参数，\n",
    "# 它将使用要与其排序值的DataFrame的列名称。\n",
    "\n",
    "unsorted_df=pd.DataFrame({'col1':[2,1,1,1],'col2':[1,3,2,4]})\n",
    "print(unsorted_df)\n",
    "sorted_df=unsorted_df.sort_values(by='col1')\n",
    "print(sorted_df)\n",
    "# 注意： 观察上面的输出结果，col1值被排序，相应的col2值和行索引将随col1一起改变。\n",
    "# 因此，它们看起来没有排序。"
   ]
  },
  {
   "cell_type": "code",
   "execution_count": 69,
   "metadata": {},
   "outputs": [
    {
     "name": "stdout",
     "output_type": "stream",
     "text": [
      "   col1  col2\n",
      "0     2     1\n",
      "1     1     3\n",
      "2     1     2\n",
      "3     1     4\n",
      "   col1  col2\n",
      "2     1     2\n",
      "1     1     3\n",
      "3     1     4\n",
      "0     2     1\n"
     ]
    }
   ],
   "source": [
    "# 通过by参数指定需要列值，\n",
    "unsorted_df=pd.DataFrame({'col1':[2,1,1,1],'col2':[1,3,2,4]})\n",
    "print(unsorted_df)\n",
    "sorted_df=unsorted_df.sort_values(by=['col1','col2'])\n",
    "print(sorted_df)"
   ]
  },
  {
   "cell_type": "code",
   "execution_count": 71,
   "metadata": {},
   "outputs": [
    {
     "name": "stdout",
     "output_type": "stream",
     "text": [
      "   col1  col2\n",
      "0     2     1\n",
      "1     1     3\n",
      "2     1     2\n",
      "3     1     4\n",
      "   col1  col2\n",
      "1     1     3\n",
      "2     1     2\n",
      "3     1     4\n",
      "0     2     1\n"
     ]
    }
   ],
   "source": [
    "# 排序算法\n",
    "# sort_values()提供了从mergeesort，heapsort和quicksort中选择算法的一个配置。\n",
    "# Mergesort是唯一稳定的算法。\n",
    "unsorted_df=pd.DataFrame({'col1':[2,1,1,1],'col2':[1,3,2,4]})\n",
    "print(unsorted_df)\n",
    "sorted_df=unsorted_df.sort_values(by='col1',kind='mergesort')\n",
    "print(sorted_df)"
   ]
  },
  {
   "cell_type": "code",
   "execution_count": 81,
   "metadata": {},
   "outputs": [
    {
     "name": "stdout",
     "output_type": "stream",
     "text": [
      "0       tom\n",
      "1    A lice\n",
      "2     Ari a\n",
      "3      1234\n",
      "4     steve\n",
      "5       NaN\n",
      "dtype: object\n",
      "************************************************************\n",
      "0    3.0\n",
      "1    6.0\n",
      "2    5.0\n",
      "3    4.0\n",
      "4    5.0\n",
      "5    NaN\n",
      "dtype: float64\n",
      "************************************************************\n",
      "0       tom\n",
      "1    A lice\n",
      "2     Ari a\n",
      "3      1234\n",
      "4     steve\n",
      "5       NaN\n",
      "dtype: object\n",
      "************************************************************\n",
      "0        [tom]\n",
      "1    [A, lice]\n",
      "2     [Ari, a]\n",
      "3       [1234]\n",
      "4      [steve]\n",
      "5          NaN\n",
      "dtype: object\n",
      "************************************************************\n",
      "tom<=>A lice<=>Ari a<=>1234<=>steve\n"
     ]
    }
   ],
   "source": [
    "# 在本章中，我们将使用基本系列/索引来讨论字符串操作。\n",
    "# 在随后的章节中，将学习如何将这些字符串函数应用于数据帧(DataFrame)。\n",
    "# Pandas提供了一组字符串函数，可以方便地对字符串数据进行操作。\n",
    "# 最重要的是，这些函数忽略(或排除)丢失/NaN值。\n",
    "\n",
    "\n",
    "s=pd.Series(['tom','A lice','Ari a','1234','steve',np.nan])\n",
    "print(s)"
   ]
  },
  {
   "cell_type": "code",
   "execution_count": 80,
   "metadata": {},
   "outputs": [
    {
     "name": "stdout",
     "output_type": "stream",
     "text": [
      "************************************************************\n",
      "0       tom\n",
      "1    a lice\n",
      "2     ari a\n",
      "3      1234\n",
      "4     steve\n",
      "5       NaN\n",
      "dtype: object\n"
     ]
    }
   ],
   "source": [
    "\n",
    "print('****'*15)\n",
    "# lower()函数示例\n",
    "print(s.str.lower())"
   ]
  },
  {
   "cell_type": "code",
   "execution_count": 82,
   "metadata": {},
   "outputs": [
    {
     "name": "stdout",
     "output_type": "stream",
     "text": [
      "************************************************************\n",
      "0       TOM\n",
      "1    A LICE\n",
      "2     ARI A\n",
      "3      1234\n",
      "4     STEVE\n",
      "5       NaN\n",
      "dtype: object\n"
     ]
    }
   ],
   "source": [
    "print('****'*15)\n",
    "#  upper()函数示例\n",
    "print(s.str.upper())"
   ]
  },
  {
   "cell_type": "code",
   "execution_count": 83,
   "metadata": {},
   "outputs": [
    {
     "name": "stdout",
     "output_type": "stream",
     "text": [
      "************************************************************\n",
      "0    3.0\n",
      "1    6.0\n",
      "2    5.0\n",
      "3    4.0\n",
      "4    5.0\n",
      "5    NaN\n",
      "dtype: float64\n"
     ]
    }
   ],
   "source": [
    "print('****'*15)\n",
    "#  len()函数示例\n",
    "print(s.str.len())"
   ]
  },
  {
   "cell_type": "code",
   "execution_count": 84,
   "metadata": {},
   "outputs": [
    {
     "name": "stdout",
     "output_type": "stream",
     "text": [
      "************************************************************\n",
      "0       tom\n",
      "1    A lice\n",
      "2     Ari a\n",
      "3      1234\n",
      "4     steve\n",
      "5       NaN\n",
      "dtype: object\n"
     ]
    }
   ],
   "source": [
    "print('****'*15)\n",
    "# strip()函数示例\n",
    "print(s.str.strip())"
   ]
  },
  {
   "cell_type": "code",
   "execution_count": 85,
   "metadata": {},
   "outputs": [
    {
     "name": "stdout",
     "output_type": "stream",
     "text": [
      "************************************************************\n",
      "0        [tom]\n",
      "1    [A, lice]\n",
      "2     [Ari, a]\n",
      "3       [1234]\n",
      "4      [steve]\n",
      "5          NaN\n",
      "dtype: object\n"
     ]
    }
   ],
   "source": [
    "print('****'*15)\n",
    "# split(pattern)函数示例\n",
    "print(s.str.split(' '))"
   ]
  },
  {
   "cell_type": "code",
   "execution_count": 86,
   "metadata": {},
   "outputs": [
    {
     "name": "stdout",
     "output_type": "stream",
     "text": [
      "************************************************************\n",
      "tom<=>A lice<=>Ari a<=>1234<=>steve\n"
     ]
    }
   ],
   "source": [
    "print('****'*15)\n",
    "# cat(sep=pattern)函数示例\n",
    "print(s.str.cat(sep='<=>'))"
   ]
  },
  {
   "cell_type": "code",
   "execution_count": 87,
   "metadata": {},
   "outputs": [
    {
     "name": "stdout",
     "output_type": "stream",
     "text": [
      "   1234  A lice  Ari a  steve  tom\n",
      "0     0       0      0      0    1\n",
      "1     0       1      0      0    0\n",
      "2     0       0      1      0    0\n",
      "3     1       0      0      0    0\n",
      "4     0       0      0      1    0\n",
      "5     0       0      0      0    0\n"
     ]
    }
   ],
   "source": [
    "#  get_dummies()函数示例\n",
    "print(s.str.get_dummies())"
   ]
  },
  {
   "cell_type": "code",
   "execution_count": 88,
   "metadata": {},
   "outputs": [
    {
     "name": "stdout",
     "output_type": "stream",
     "text": [
      "0    False\n",
      "1     True\n",
      "2     True\n",
      "3    False\n",
      "4    False\n",
      "5      NaN\n",
      "dtype: object\n"
     ]
    }
   ],
   "source": [
    "# contains()函数示例\n",
    "print(s.str.contains(' '))"
   ]
  },
  {
   "cell_type": "code",
   "execution_count": 89,
   "metadata": {},
   "outputs": [
    {
     "name": "stdout",
     "output_type": "stream",
     "text": [
      "0       tom\n",
      "1    A lice\n",
      "2     Ari a\n",
      "3      1234\n",
      "4     @teve\n",
      "5       NaN\n",
      "dtype: object\n"
     ]
    }
   ],
   "source": [
    "# replace(a,b)函数示例\n",
    "print(s.str.replace('s','@'))"
   ]
  },
  {
   "cell_type": "code",
   "execution_count": 90,
   "metadata": {},
   "outputs": [
    {
     "name": "stdout",
     "output_type": "stream",
     "text": [
      "0          tomtom\n",
      "1    A liceA lice\n",
      "2      Ari aAri a\n",
      "3        12341234\n",
      "4      stevesteve\n",
      "5             NaN\n",
      "dtype: object\n"
     ]
    }
   ],
   "source": [
    "# repeat(value)函数示例\n",
    "print(s.str.repeat(2))"
   ]
  },
  {
   "cell_type": "code",
   "execution_count": 91,
   "metadata": {},
   "outputs": [
    {
     "name": "stdout",
     "output_type": "stream",
     "text": [
      "0    1.0\n",
      "1    0.0\n",
      "2    0.0\n",
      "3    0.0\n",
      "4    0.0\n",
      "5    NaN\n",
      "dtype: float64\n"
     ]
    }
   ],
   "source": [
    "#  count(pattern)函数示例\n",
    "print(s.str.count('m'))"
   ]
  },
  {
   "cell_type": "code",
   "execution_count": 92,
   "metadata": {},
   "outputs": [
    {
     "name": "stdout",
     "output_type": "stream",
     "text": [
      "0    False\n",
      "1    False\n",
      "2    False\n",
      "3    False\n",
      "4     True\n",
      "5      NaN\n",
      "dtype: object\n"
     ]
    }
   ],
   "source": [
    "#  startswith(pattern)函数示例\n",
    "print(s.str.startswith('s'))"
   ]
  },
  {
   "cell_type": "code",
   "execution_count": 93,
   "metadata": {},
   "outputs": [
    {
     "name": "stdout",
     "output_type": "stream",
     "text": [
      "0     True\n",
      "1    False\n",
      "2    False\n",
      "3    False\n",
      "4    False\n",
      "5      NaN\n",
      "dtype: object\n"
     ]
    }
   ],
   "source": [
    "# endswith(pattern)函数示例\n",
    "print(s.str.endswith('m'))"
   ]
  },
  {
   "cell_type": "code",
   "execution_count": 94,
   "metadata": {},
   "outputs": [
    {
     "name": "stdout",
     "output_type": "stream",
     "text": [
      "0    1.0\n",
      "1   -1.0\n",
      "2   -1.0\n",
      "3   -1.0\n",
      "4   -1.0\n",
      "5    NaN\n",
      "dtype: float64\n"
     ]
    }
   ],
   "source": [
    "#  find(pattern)函数示例\n",
    "print(s.str.find('om'))"
   ]
  },
  {
   "cell_type": "code",
   "execution_count": 96,
   "metadata": {},
   "outputs": [
    {
     "name": "stdout",
     "output_type": "stream",
     "text": [
      "0     []\n",
      "1     []\n",
      "2    [a]\n",
      "3     []\n",
      "4     []\n",
      "5    NaN\n",
      "dtype: object\n"
     ]
    }
   ],
   "source": [
    "#  findall(pattern)函数示例\n",
    "print(s.str.findall('a'))"
   ]
  },
  {
   "cell_type": "code",
   "execution_count": 97,
   "metadata": {},
   "outputs": [
    {
     "name": "stdout",
     "output_type": "stream",
     "text": [
      "0       TOM\n",
      "1    a LICE\n",
      "2     aRI A\n",
      "3      1234\n",
      "4     STEVE\n",
      "5       NaN\n",
      "dtype: object\n"
     ]
    }
   ],
   "source": [
    "# swapcase()函数示例\n",
    "print(s.str.swapcase())"
   ]
  },
  {
   "cell_type": "code",
   "execution_count": 98,
   "metadata": {},
   "outputs": [
    {
     "name": "stdout",
     "output_type": "stream",
     "text": [
      "0     True\n",
      "1    False\n",
      "2    False\n",
      "3    False\n",
      "4     True\n",
      "5      NaN\n",
      "dtype: object\n"
     ]
    }
   ],
   "source": [
    "#  islower()函数示例\n",
    "print(s.str.islower())"
   ]
  },
  {
   "cell_type": "code",
   "execution_count": 99,
   "metadata": {},
   "outputs": [
    {
     "name": "stdout",
     "output_type": "stream",
     "text": [
      "0    False\n",
      "1    False\n",
      "2    False\n",
      "3    False\n",
      "4    False\n",
      "5      NaN\n",
      "dtype: object\n"
     ]
    }
   ],
   "source": [
    "#  isupper()函数示例\n",
    "print(s.str.isupper())"
   ]
  },
  {
   "cell_type": "code",
   "execution_count": 101,
   "metadata": {},
   "outputs": [
    {
     "name": "stdout",
     "output_type": "stream",
     "text": [
      "0    False\n",
      "1    False\n",
      "2    False\n",
      "3     True\n",
      "4    False\n",
      "5      NaN\n",
      "dtype: object\n"
     ]
    }
   ],
   "source": [
    "#  isnumeric()函数示例\n",
    "print(s.str.isnumeric())"
   ]
  },
  {
   "cell_type": "code",
   "execution_count": 104,
   "metadata": {},
   "outputs": [
    {
     "name": "stdout",
     "output_type": "stream",
     "text": [
      "display.max_rows= 60\n",
      "display.max_columns= 20\n"
     ]
    }
   ],
   "source": [
    "# Pandas提供API来自定义其行为的某些方面，大多使用来显示。\n",
    "# API由五个相关函数组成。它们分别是 -\n",
    "# get_option()\n",
    "# set_option()\n",
    "# reset_option()\n",
    "# describe_option()\n",
    "# option_context()\n",
    "# 现在来了解函数是如何工作的。\n",
    "\n",
    "\n",
    "# get_option(param)\n",
    "# get_option(param)需要一个参数，并返回下面输出中给出的值 -\n",
    "# get_option需要一个参数，并返回下面输出中给出的值 -\n",
    "\n",
    "\n",
    "\n",
    "# display.max_rows\n",
    "# 显示默认值。解释器读取此值并显示此值作为显示上限的行。\n",
    "print('display.max_rows=',pd.get_option('display.max_rows'))\n",
    "\n",
    "# display.max_columns\n",
    "# 显示默认值，解释器读取此值并显示此值作为显示上限的行。\n",
    "print('display.max_columns=',pd.get_option('display.max_columns'))"
   ]
  },
  {
   "cell_type": "code",
   "execution_count": 3,
   "metadata": {},
   "outputs": [
    {
     "name": "stdout",
     "output_type": "stream",
     "text": [
      "在设置最大行之前,rows= 60\n",
      "设置最大行\n",
      "设置最大行之后，rows= 80\n"
     ]
    }
   ],
   "source": [
    "import numpy as np\n",
    "import pandas as pd\n",
    "# set_option(param,value)\n",
    "# set_option需要两个参数，并将该值设置为指定的参数值，如下所示：\n",
    "# display.max_rows\n",
    "# 使用set_option()，可以更改要显示的默认行数。\n",
    "\n",
    "print('在设置最大行之前,rows=',pd.get_option('display.max_rows'))\n",
    "print('设置最大行')\n",
    "pd.set_option('display.max_rows',80)\n",
    "print('设置最大行之后，rows=',pd.get_option('display.max_rows'))"
   ]
  },
  {
   "cell_type": "code",
   "execution_count": 6,
   "metadata": {},
   "outputs": [
    {
     "name": "stdout",
     "output_type": "stream",
     "text": [
      "在设置最大列之前 32\n",
      "设置最大列之后 32\n"
     ]
    }
   ],
   "source": [
    "# display.max_columns\n",
    "# 使用set_option()，可以更改要显示的默认行数。\n",
    "print('在设置最大列之前',pd.get_option('display.max_columns'))\n",
    "pd.set_option('display.max_columns',32)\n",
    "print('设置最大列之后',pd.get_option('display.max_columns'))"
   ]
  },
  {
   "cell_type": "code",
   "execution_count": 7,
   "metadata": {},
   "outputs": [
    {
     "name": "stdout",
     "output_type": "stream",
     "text": [
      "设置最大行之后,rows= 32\n",
      "重新设置最大行 60\n"
     ]
    }
   ],
   "source": [
    "# reset_option(param)\n",
    "# reset_option接受一个参数，并将该值设置为默认值。\n",
    "# display.max_rows\n",
    "# 使用reset_option()，可以将该值更改回显示的默认行数。\n",
    "pd.set_option('display.max_rows',32)\n",
    "print('设置最大行之后,rows=',pd.get_option('display.max_rows'))\n",
    "pd.reset_option('display.max_rows')\n",
    "print('重新设置最大行',pd.get_option('display.max_rows'))"
   ]
  },
  {
   "cell_type": "code",
   "execution_count": 8,
   "metadata": {},
   "outputs": [
    {
     "name": "stdout",
     "output_type": "stream",
     "text": [
      "display.max_rows : int\n",
      "    If max_rows is exceeded, switch to truncate view. Depending on\n",
      "    `large_repr`, objects are either centrally truncated or printed as\n",
      "    a summary view. 'None' value means unlimited.\n",
      "\n",
      "    In case python/IPython is running in a terminal and `large_repr`\n",
      "    equals 'truncate' this can be set to 0 and pandas will auto-detect\n",
      "    the height of the terminal and print a truncated object which fits\n",
      "    the screen height. The IPython notebook, IPython qtconsole, or\n",
      "    IDLE do not run in a terminal and hence it is not possible to do\n",
      "    correct auto-detection.\n",
      "    [default: 60] [currently: 60]\n",
      "\n",
      "\n"
     ]
    }
   ],
   "source": [
    "# describe_option(param)\n",
    "# describe_option打印参数的描述。\n",
    "# display.max_rows\n",
    "# 使用reset_option()，可以将该值更改回显示的默认行数。\n",
    "pd.describe_option('display.max_rows')"
   ]
  },
  {
   "cell_type": "code",
   "execution_count": null,
   "metadata": {},
   "outputs": [],
   "source": []
  }
 ],
 "metadata": {
  "kernelspec": {
   "display_name": "Python 3",
   "language": "python",
   "name": "python3"
  },
  "language_info": {
   "codemirror_mode": {
    "name": "ipython",
    "version": 3
   },
   "file_extension": ".py",
   "mimetype": "text/x-python",
   "name": "python",
   "nbconvert_exporter": "python",
   "pygments_lexer": "ipython3",
   "version": "3.6.4"
  }
 },
 "nbformat": 4,
 "nbformat_minor": 2
}
