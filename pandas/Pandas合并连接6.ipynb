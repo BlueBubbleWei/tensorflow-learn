{
 "cells": [
  {
   "cell_type": "code",
   "execution_count": 1,
   "metadata": {},
   "outputs": [],
   "source": [
    "import numpy as np\n",
    "import pandas as pd"
   ]
  },
  {
   "cell_type": "code",
   "execution_count": 22,
   "metadata": {},
   "outputs": [
    {
     "name": "stdout",
     "output_type": "stream",
     "text": [
      "     Name  id subject_id\n",
      "0    Alex   1       sub1\n",
      "1     Amy   2       sub2\n",
      "2   Allen   3       sub4\n",
      "3   Alice   4       sub6\n",
      "4  Ayoung   5       sub5\n",
      "*********************************************\n",
      "    Name  id subject_id\n",
      "0    Bob   1       sub2\n",
      "1  Bruis   2       sub4\n",
      "2   Blue   3       sub3\n",
      "3  Black   4       sub6\n",
      "4    Bow   5       sub6\n"
     ]
    }
   ],
   "source": [
    "# Pandas具有功能全面的高性能内存中连接操作，与SQL等关系数据库非常相似。\n",
    "# Pandas提供了一个单独的merge()函数，作为DataFrame对象之间所有标准数据库连接操作的入口 -\n",
    "\n",
    "# pd.merge(left, right, how='inner', on=None, left_on=None, right_on=None,\n",
    "# left_index=False, right_index=False, sort=True)\n",
    "# Python\n",
    "# 在这里，有以下几个参数可以使用 -\n",
    "\n",
    "# left - 一个DataFrame对象。\n",
    "# right - 另一个DataFrame对象。\n",
    "# on - 列(名称)连接，必须在左和右DataFrame对象中存在(找到)。\n",
    "# left_on - 左侧DataFrame中的列用作键，可以是列名或长度等于DataFrame长度的数组。\n",
    "# right_on - 来自右的DataFrame的列作为键，可以是列名或长度等于DataFrame长度的数组。\n",
    "# left_index - 如果为True，则使用左侧DataFrame中的索引(行标签)作为其连接键。 \n",
    "# 在具有MultiIndex(分层)的DataFrame的情况下，级别的数量必须与来自右DataFrame的连接键的数量相匹配。\n",
    "# right_index - 与右DataFrame的left_index具有相同的用法。\n",
    "# how - 它是left, right, outer以及inner之中的一个，默认为内inner。 下面将介绍每种方法的用法。\n",
    "# sort - 按照字典顺序通过连接键对结果DataFrame进行排序。默认为True，设置为False时，在很多情况下大大提高性能。\n",
    "\n",
    "left=pd.DataFrame({\n",
    "    'id':[1,2,3,4,5],\n",
    "    'Name':['Alex','Amy','Allen','Alice','Ayoung'],\n",
    "    'subject_id':['sub1','sub2','sub4','sub6','sub5'],\n",
    "})\n",
    "right=pd.DataFrame({\n",
    "    'id':[1,2,3,4,5],\n",
    "    'Name':['Bob','Bruis','Blue','Black','Bow'],\n",
    "    'subject_id':['sub2','sub4','sub3','sub6','sub6']\n",
    "})\n",
    "print(left)\n",
    "print('***'*15)\n",
    "print(right)"
   ]
  },
  {
   "cell_type": "code",
   "execution_count": 23,
   "metadata": {},
   "outputs": [
    {
     "name": "stdout",
     "output_type": "stream",
     "text": [
      "   Name_x  id subject_id_x Name_y subject_id_y\n",
      "0    Alex   1         sub1    Bob         sub2\n",
      "1     Amy   2         sub2  Bruis         sub4\n",
      "2   Allen   3         sub4   Blue         sub3\n",
      "3   Alice   4         sub6  Black         sub6\n",
      "4  Ayoung   5         sub5    Bow         sub6\n"
     ]
    }
   ],
   "source": [
    "# 在一个键上合并两个数据帧\n",
    "rs=pd.merge(left,right,on='id')#全连接\n",
    "print(rs)"
   ]
  },
  {
   "cell_type": "code",
   "execution_count": 14,
   "metadata": {},
   "outputs": [
    {
     "name": "stdout",
     "output_type": "stream",
     "text": [
      "   Name_x  id subject_id Name_y\n",
      "0   Alice   4       sub6  Black\n",
      "1  Ayoung   5       sub5    Bow\n"
     ]
    }
   ],
   "source": [
    "# 合并多个键上的两个数据框\n",
    "rs=pd.merge(left,right,on=['id','subject_id'])\n",
    "print(rs)"
   ]
  },
  {
   "cell_type": "code",
   "execution_count": 15,
   "metadata": {},
   "outputs": [
    {
     "name": "stdout",
     "output_type": "stream",
     "text": [
      "   Name_x  id_x subject_id Name_y  id_y\n",
      "0    Alex     1       sub1    NaN   NaN\n",
      "1     Amy     2       sub2    Bob   1.0\n",
      "2   Allen     3       sub4  Bruis   2.0\n",
      "3   Alice     4       sub6  Black   4.0\n",
      "4  Ayoung     5       sub5    Bow   5.0\n"
     ]
    }
   ],
   "source": [
    "# 合并使用“how”的参数\n",
    "\n",
    "# 如何合并参数指定如何确定哪些键将被包含在结果表中。\n",
    "# 如果组合键没有出现在左侧或右侧表中，则连接表中的值将为NA。\n",
    "# 这里是how选项和SQL等效名称的总结 -\n",
    "\n",
    "# 合并方法\tSQL等效\t描述\n",
    "# left\tLEFT OUTER JOIN\t使用左侧对象的键\n",
    "# right\tRIGHT OUTER JOIN\t使用右侧对象的键\n",
    "# outer\tFULL OUTER JOIN\t使用键的联合\n",
    "# inner\tINNER JOIN\t使用键的交集\n",
    "\n",
    "rs=pd.merge(left,right,on='subject_id',how='left')#左连接,值取公共长度\n",
    "print(rs)"
   ]
  },
  {
   "cell_type": "code",
   "execution_count": 17,
   "metadata": {},
   "outputs": [
    {
     "name": "stdout",
     "output_type": "stream",
     "text": [
      "   Name_x  id_x subject_id Name_y  id_y\n",
      "0     Amy   2.0       sub2    Bob     1\n",
      "1   Allen   3.0       sub4  Bruis     2\n",
      "2   Alice   4.0       sub6  Black     4\n",
      "3  Ayoung   5.0       sub5    Bow     5\n",
      "4     NaN   NaN       sub3   Blue     3\n"
     ]
    }
   ],
   "source": [
    "rs=pd.merge(left,right,on='subject_id',how='right')#右连接\n",
    "print(rs)"
   ]
  },
  {
   "cell_type": "code",
   "execution_count": 18,
   "metadata": {},
   "outputs": [
    {
     "name": "stdout",
     "output_type": "stream",
     "text": [
      "   Name_x  id_x subject_id Name_y  id_y\n",
      "0    Alex   1.0       sub1    NaN   NaN\n",
      "1     Amy   2.0       sub2    Bob   1.0\n",
      "2   Allen   3.0       sub4  Bruis   2.0\n",
      "3   Alice   4.0       sub6  Black   4.0\n",
      "4  Ayoung   5.0       sub5    Bow   5.0\n",
      "5     NaN   NaN       sub3   Blue   3.0\n"
     ]
    }
   ],
   "source": [
    "# Outer Join示例\n",
    "rs=pd.merge(left,right,how='outer',on='subject_id')#补全所有的数据，\n",
    "print(rs)"
   ]
  },
  {
   "cell_type": "code",
   "execution_count": 24,
   "metadata": {},
   "outputs": [
    {
     "name": "stdout",
     "output_type": "stream",
     "text": [
      "  Name_x  id_x subject_id Name_y  id_y\n",
      "0    Amy     2       sub2    Bob     1\n",
      "1  Allen     3       sub4  Bruis     2\n",
      "2  Alice     4       sub6  Black     4\n",
      "3  Alice     4       sub6    Bow     5\n"
     ]
    }
   ],
   "source": [
    "# Inner Join示例\n",
    "# 连接将在索引上进行。连接(Join)操作将授予它所调用的对象。\n",
    "# 所以，a.join(b)不等于b.join(a)。\n",
    "rs=pd.merge(left,right,on='subject_id',how='inner')#只取共有的列值\n",
    "print(rs)"
   ]
  },
  {
   "cell_type": "code",
   "execution_count": 25,
   "metadata": {},
   "outputs": [],
   "source": [
    "# # Pandas提供了各种工具(功能)，可以轻松地将Series，DataFrame和Panel对象组合在一起。\n",
    "# pd.concat(objs,axis=0,join='outer',join_axes=None,\n",
    "# ignore_index=False)\n",
    "# Python\n",
    "# 其中，\n",
    "\n",
    "# objs - 这是Series，DataFrame或Panel对象的序列或映射。\n",
    "# axis - {0，1，...}，默认为0，这是连接的轴。\n",
    "# join - {'inner', 'outer'}，默认inner。如何处理其他轴上的索引。联合的外部和交叉的内部。\n",
    "# ignore_index − 布尔值，默认为False。如果指定为True，则不要使用连接轴上的索引值。结果轴将被标记为：0，...，n-1。\n",
    "# join_axes - 这是Index对象的列表。用于其他(n-1)轴的特定索引，而不是执行内部/外部集逻辑。\n"
   ]
  },
  {
   "cell_type": "code",
   "execution_count": 27,
   "metadata": {},
   "outputs": [
    {
     "name": "stdout",
     "output_type": "stream",
     "text": [
      "   Marks_scored    Name subject_id\n",
      "0            98    Alex       sub1\n",
      "1            45     Amy       sub2\n",
      "2            67   Allen       sub4\n",
      "3            87   Alice       sub6\n",
      "4            65  Ayoung       sub5\n",
      "0            89   Billy       sub2\n",
      "1            75   Balla       sub4\n",
      "2            54    Bran       sub3\n",
      "3            32   Bryce       sub6\n",
      "4            67   Betty       sub5\n"
     ]
    }
   ],
   "source": [
    "# 连接对象\n",
    "# concat()函数完成了沿轴执行级联操作的所有重要工作。下面代码中，创建不同的对象并进行连接。\n",
    "\n",
    "one=pd.DataFrame({\n",
    "    'Name':['Alex','Amy','Allen','Alice','Ayoung'],\n",
    "    'subject_id':['sub1','sub2','sub4','sub6','sub5'],\n",
    "    'Marks_scored':[98,45,67,87,65]\n",
    "})\n",
    "two=pd.DataFrame({\n",
    "    'Name':['Billy','Balla','Bran','Bryce','Betty'],\n",
    "    'subject_id':['sub2','sub4','sub3','sub6','sub5'],\n",
    "    'Marks_scored':[89,75,54,32,67]\n",
    "})\n",
    "rs=pd.concat([one,two])\n",
    "print(rs)"
   ]
  },
  {
   "cell_type": "code",
   "execution_count": 28,
   "metadata": {},
   "outputs": [
    {
     "name": "stdout",
     "output_type": "stream",
     "text": [
      "     Marks_scored    Name subject_id\n",
      "x 0            98    Alex       sub1\n",
      "  1            45     Amy       sub2\n",
      "  2            67   Allen       sub4\n",
      "  3            87   Alice       sub6\n",
      "  4            65  Ayoung       sub5\n",
      "y 0            89   Billy       sub2\n",
      "  1            75   Balla       sub4\n",
      "  2            54    Bran       sub3\n",
      "  3            32   Bryce       sub6\n",
      "  4            67   Betty       sub5\n"
     ]
    }
   ],
   "source": [
    "# 假设想把特定的键与每个碎片的DataFrame关联起来。可以通过使用键参数来实现这一点 -\n",
    "rs=pd.concat([one,two],keys=['x','y'])\n",
    "print(rs)"
   ]
  },
  {
   "cell_type": "code",
   "execution_count": 29,
   "metadata": {},
   "outputs": [
    {
     "name": "stdout",
     "output_type": "stream",
     "text": [
      "   Marks_scored    Name subject_id\n",
      "0            98    Alex       sub1\n",
      "1            45     Amy       sub2\n",
      "2            67   Allen       sub4\n",
      "3            87   Alice       sub6\n",
      "4            65  Ayoung       sub5\n",
      "5            89   Billy       sub2\n",
      "6            75   Balla       sub4\n",
      "7            54    Bran       sub3\n",
      "8            32   Bryce       sub6\n",
      "9            67   Betty       sub5\n"
     ]
    }
   ],
   "source": [
    "# 结果的索引是重复的; 每个索引重复。\n",
    "# 如果想要生成的对象必须遵循自己的索引，请将ignore_index设置为True。参考以下示例代码 -\n",
    "rs=pd.concat([one,two],ignore_index=True)#索引追加\n",
    "print(rs)"
   ]
  },
  {
   "cell_type": "code",
   "execution_count": 32,
   "metadata": {},
   "outputs": [],
   "source": [
    "# 观察，索引完全改变，键也被覆盖。如果需要沿axis=1添加两个对象，则会添加新列。\n",
    "one=pd.DataFrame({\n",
    "    'Name':['Alex','Amy','Allen','Alice','Ayoung'],\n",
    "    'subject_id':['sub1','sub2','sub4','sub6','sub5'],\n",
    "    'Marks_scored':[98,45,67,87,65]\n",
    "},index=[1,2,3,4,5]\n",
    ")\n",
    "two=pd.DataFrame({\n",
    "    'Name':['Billy','Balla','Bran','Bryce','Betty'],\n",
    "    'subject_id':['sub2','sub4','sub3','sub6','sub5'],\n",
    "    'Marks_scored':[89,75,54,32,67]\n",
    "},\n",
    "index=[1,2,3,4,5]\n",
    ")"
   ]
  },
  {
   "cell_type": "code",
   "execution_count": 33,
   "metadata": {},
   "outputs": [
    {
     "name": "stdout",
     "output_type": "stream",
     "text": [
      "   Marks_scored    Name subject_id  Marks_scored   Name subject_id\n",
      "1            98    Alex       sub1            89  Billy       sub2\n",
      "2            45     Amy       sub2            75  Balla       sub4\n",
      "3            67   Allen       sub4            54   Bran       sub3\n",
      "4            87   Alice       sub6            32  Bryce       sub6\n",
      "5            65  Ayoung       sub5            67  Betty       sub5\n"
     ]
    }
   ],
   "source": [
    "rs=pd.concat([one,two],axis=1)#列名在同一行\n",
    "print(rs)"
   ]
  },
  {
   "cell_type": "code",
   "execution_count": 34,
   "metadata": {},
   "outputs": [
    {
     "name": "stdout",
     "output_type": "stream",
     "text": [
      "   Marks_scored    Name subject_id\n",
      "1            98    Alex       sub1\n",
      "2            45     Amy       sub2\n",
      "3            67   Allen       sub4\n",
      "4            87   Alice       sub6\n",
      "5            65  Ayoung       sub5\n",
      "1            89   Billy       sub2\n",
      "2            75   Balla       sub4\n",
      "3            54    Bran       sub3\n",
      "4            32   Bryce       sub6\n",
      "5            67   Betty       sub5\n"
     ]
    }
   ],
   "source": [
    "# 使用附加连接\n",
    "\n",
    "# 连接的一个有用的快捷方式是在Series和DataFrame实例的append方法。\n",
    "# 这些方法实际上早于concat()方法。 它们沿axis=0连接，即索引 -\n",
    "rs=one.append(two)\n",
    "print(rs)"
   ]
  },
  {
   "cell_type": "code",
   "execution_count": 35,
   "metadata": {},
   "outputs": [
    {
     "name": "stdout",
     "output_type": "stream",
     "text": [
      "   Marks_scored    Name subject_id\n",
      "1            98    Alex       sub1\n",
      "2            45     Amy       sub2\n",
      "3            67   Allen       sub4\n",
      "4            87   Alice       sub6\n",
      "5            65  Ayoung       sub5\n",
      "1            89   Billy       sub2\n",
      "2            75   Balla       sub4\n",
      "3            54    Bran       sub3\n",
      "4            32   Bryce       sub6\n",
      "5            67   Betty       sub5\n",
      "1            98    Alex       sub1\n",
      "2            45     Amy       sub2\n",
      "3            67   Allen       sub4\n",
      "4            87   Alice       sub6\n",
      "5            65  Ayoung       sub5\n",
      "1            89   Billy       sub2\n",
      "2            75   Balla       sub4\n",
      "3            54    Bran       sub3\n",
      "4            32   Bryce       sub6\n",
      "5            67   Betty       sub5\n"
     ]
    }
   ],
   "source": [
    "# append()函数也可以带多个对象 -\n",
    "rs=one.append([two,one,two])\n",
    "print(rs)"
   ]
  },
  {
   "cell_type": "code",
   "execution_count": 36,
   "metadata": {},
   "outputs": [],
   "source": [
    "# 时间序列\n",
    "\n",
    "# Pandas为时间序列数据的工作时间提供了一个强大的工具，尤其是在金融领域。在处理时间序列数据时，我们经常遇到以下情况 -\n",
    "\n",
    "# 生成时间序列\n",
    "# 将时间序列转换为不同的频率\n",
    "# Pandas提供了一个相对紧凑和自包含的工具来执行上述任务。\n"
   ]
  },
  {
   "cell_type": "code",
   "execution_count": 37,
   "metadata": {},
   "outputs": [
    {
     "name": "stdout",
     "output_type": "stream",
     "text": [
      "2018-01-04 10:58:40.593738\n"
     ]
    }
   ],
   "source": [
    "# 获取当前时间\n",
    "# datetime.now()用于获取当前的日期和时间。\n",
    "print(pd.datetime.now())"
   ]
  },
  {
   "cell_type": "code",
   "execution_count": 38,
   "metadata": {},
   "outputs": [
    {
     "name": "stdout",
     "output_type": "stream",
     "text": [
      "2018-01-05 00:00:00\n"
     ]
    }
   ],
   "source": [
    "time=pd.Timestamp('2018-1-5')\n",
    "print(time)"
   ]
  },
  {
   "cell_type": "code",
   "execution_count": 40,
   "metadata": {},
   "outputs": [
    {
     "name": "stdout",
     "output_type": "stream",
     "text": [
      "2020-05-05 13:54:40\n"
     ]
    }
   ],
   "source": [
    "# 也可以转换整数或浮动时期。\n",
    "# 这些的默认单位是纳秒(因为这些是如何存储时间戳的)。 然而，时代往往存储在另一个可以指定的单元中。\n",
    "time=pd.Timestamp(1588686880,unit='s')\n",
    "print(time)"
   ]
  },
  {
   "cell_type": "code",
   "execution_count": 41,
   "metadata": {
    "scrolled": true
   },
   "outputs": [
    {
     "name": "stdout",
     "output_type": "stream",
     "text": [
      "[datetime.time(12, 0) datetime.time(12, 30) datetime.time(13, 0)\n",
      " datetime.time(13, 30) datetime.time(14, 0) datetime.time(14, 30)\n",
      " datetime.time(15, 0) datetime.time(15, 30) datetime.time(16, 0)\n",
      " datetime.time(16, 30) datetime.time(17, 0) datetime.time(17, 30)\n",
      " datetime.time(18, 0) datetime.time(18, 30) datetime.time(19, 0)\n",
      " datetime.time(19, 30) datetime.time(20, 0) datetime.time(20, 30)\n",
      " datetime.time(21, 0) datetime.time(21, 30) datetime.time(22, 0)\n",
      " datetime.time(22, 30) datetime.time(23, 0) datetime.time(23, 30)]\n"
     ]
    }
   ],
   "source": [
    "# 创建一个时间范围\n",
    "time=pd.date_range('12:00','23:59',freq='30min').time\n",
    "print(time)"
   ]
  },
  {
   "cell_type": "code",
   "execution_count": 42,
   "metadata": {},
   "outputs": [
    {
     "name": "stdout",
     "output_type": "stream",
     "text": [
      "[datetime.time(12, 0) datetime.time(13, 0) datetime.time(14, 0)\n",
      " datetime.time(15, 0) datetime.time(16, 0) datetime.time(17, 0)\n",
      " datetime.time(18, 0) datetime.time(19, 0) datetime.time(20, 0)\n",
      " datetime.time(21, 0) datetime.time(22, 0) datetime.time(23, 0)]\n"
     ]
    }
   ],
   "source": [
    "# 改变时间的频率\n",
    "time=pd.date_range('12:00','23:59',freq='H').time\n",
    "print(time)"
   ]
  },
  {
   "cell_type": "code",
   "execution_count": 46,
   "metadata": {},
   "outputs": [
    {
     "name": "stdout",
     "output_type": "stream",
     "text": [
      "0   2017-07-28\n",
      "1   2019-01-05\n",
      "2          NaT\n",
      "dtype: datetime64[ns]\n"
     ]
    }
   ],
   "source": [
    "# 转换为时间戳\n",
    "# 要转换类似日期的对象(例如字符串，时代或混合)的序列或类似列表的对象，可以使用to_datetime函数。\n",
    "# 当传递时将返回一个Series(具有相同的索引)，而类似列表被转换为DatetimeIndex。\n",
    "time=pd.to_datetime(pd.Series(['Jul 28, 2017','2019-1-5',None]))#2017前面必须加空格\n",
    "print(time)\n",
    "# NaT表示不是一个时间的值(相当于NaN)"
   ]
  },
  {
   "cell_type": "code",
   "execution_count": 47,
   "metadata": {},
   "outputs": [
    {
     "name": "stdout",
     "output_type": "stream",
     "text": [
      "DatetimeIndex(['2017-12-21', '2019-06-10', 'NaT'], dtype='datetime64[ns]', freq=None)\n"
     ]
    }
   ],
   "source": [
    "time=pd.to_datetime(['2017/12/21','2019-06-10',None])\n",
    "print(time)"
   ]
  },
  {
   "cell_type": "code",
   "execution_count": 48,
   "metadata": {},
   "outputs": [],
   "source": [
    "# 日期功能扩展了时间序列，在财务数据分析中起主要作用。在处理日期数据的同时，我们经常会遇到以下情况 -\n",
    "# 生成日期序列\n",
    "# 将日期序列转换为不同的频率\n"
   ]
  },
  {
   "cell_type": "code",
   "execution_count": 52,
   "metadata": {},
   "outputs": [
    {
     "name": "stdout",
     "output_type": "stream",
     "text": [
      "DatetimeIndex(['2020-11-20', '2020-11-21', '2020-11-22', '2020-11-23',\n",
      "               '2020-11-24'],\n",
      "              dtype='datetime64[ns]', freq='D')\n"
     ]
    }
   ],
   "source": [
    "# 创建一个日期范围\n",
    "\n",
    "# 通过指定周期和频率，使用date.range()函数就可以创建日期序列。\n",
    "# 默认情况下，范围的频率是天。\n",
    "datelist=pd.date_range('2020/11/20',periods=5)\n",
    "print(datelist)\n"
   ]
  },
  {
   "cell_type": "code",
   "execution_count": 53,
   "metadata": {},
   "outputs": [
    {
     "name": "stdout",
     "output_type": "stream",
     "text": [
      "DatetimeIndex(['2020-11-30', '2020-12-31', '2021-01-31', '2021-02-28',\n",
      "               '2021-03-31'],\n",
      "              dtype='datetime64[ns]', freq='M')\n"
     ]
    }
   ],
   "source": [
    "datelist=pd.date_range('2020/11/21',periods=5,freq='M')\n",
    "print(datelist)"
   ]
  },
  {
   "cell_type": "code",
   "execution_count": 59,
   "metadata": {},
   "outputs": [
    {
     "name": "stdout",
     "output_type": "stream",
     "text": [
      "DatetimeIndex(['2011-11-03', '2011-11-04', '2011-11-07', '2011-11-08',\n",
      "               '2011-11-09'],\n",
      "              dtype='datetime64[ns]', freq='B')\n"
     ]
    }
   ],
   "source": [
    "# bdate_range()函数\n",
    "\n",
    "# bdate_range()用来表示商业日期范围，不同于date_range()，它不包括星期六和星期天。\n",
    "\n",
    "datelist=pd.bdate_range('2011/11/03',periods=5)#相当于 ,freq='B'\n",
    "print(datelist)"
   ]
  },
  {
   "cell_type": "code",
   "execution_count": 60,
   "metadata": {},
   "outputs": [
    {
     "name": "stdout",
     "output_type": "stream",
     "text": [
      "DatetimeIndex(['2017-11-01', '2017-11-02', '2017-11-03', '2017-11-04',\n",
      "               '2017-11-05'],\n",
      "              dtype='datetime64[ns]', freq='D')\n"
     ]
    }
   ],
   "source": [
    "# 像date_range和bdate_range这样的便利函数利用了各种频率别名。\n",
    "# date_range的默认频率是日历中的自然日，而bdate_range的默认频率是工作日。\n",
    "start=pd.datetime(2017,11,1)\n",
    "end=pd.datetime(2017,11,5)\n",
    "dates=pd.date_range(start,end)\n",
    "print(dates)"
   ]
  },
  {
   "cell_type": "code",
   "execution_count": null,
   "metadata": {},
   "outputs": [],
   "source": [
    "# 偏移别名\n",
    "\n",
    "# 大量的字符串别名被赋予常用的时间序列频率。我们把这些别名称为偏移别名。\n",
    "\n",
    "# 别名\t描述说明\n",
    "# B\t工作日频率\n",
    "# BQS\t商务季度开始频率\n",
    "# D\t日历/自然日频率\n",
    "# A\t年度(年)结束频率\n",
    "# W\t每周频率\n",
    "# BA\t商务年底结束\n",
    "# M\t月结束频率\n",
    "# BAS\t商务年度开始频率\n",
    "# SM\t半月结束频率\n",
    "# BH\t商务时间频率\n",
    "# SM\t半月结束频率\n",
    "# BH\t商务时间频率\n",
    "# BM\t商务月结束频率\n",
    "# H\t小时频率\n",
    "# MS\t月起始频率\n",
    "# T, min\t分钟的频率\n",
    "# SMS\tSMS半开始频率\n",
    "# S\t秒频率\n",
    "# BMS\t商务月开始频率\n",
    "# L, ms\t毫秒\n",
    "# Q\t季度结束频率\n",
    "# U, us\t微秒\n",
    "# BQ\t商务季度结束频率\n",
    "# N\t纳秒\n",
    "# BQ\t商务季度结束频率\n",
    "# QS\t季度开始频率"
   ]
  }
 ],
 "metadata": {
  "kernelspec": {
   "display_name": "Python 3",
   "language": "python",
   "name": "python3"
  },
  "language_info": {
   "codemirror_mode": {
    "name": "ipython",
    "version": 3
   },
   "file_extension": ".py",
   "mimetype": "text/x-python",
   "name": "python",
   "nbconvert_exporter": "python",
   "pygments_lexer": "ipython3",
   "version": "3.6.4"
  }
 },
 "nbformat": 4,
 "nbformat_minor": 2
}
