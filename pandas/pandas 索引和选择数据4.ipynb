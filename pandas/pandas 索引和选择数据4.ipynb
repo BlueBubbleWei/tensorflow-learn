{
 "cells": [
  {
   "cell_type": "code",
   "execution_count": 1,
   "metadata": {},
   "outputs": [],
   "source": [
    "import numpy as np\n",
    "import pandas as pd\n"
   ]
  },
  {
   "cell_type": "code",
   "execution_count": 2,
   "metadata": {},
   "outputs": [],
   "source": [
    "# 在本章中，我们将讨论如何切割和丢弃日期，并获取Pandas中大对象的子集。\n",
    "\n",
    "# Python和NumPy索引运算符\"[]\"和属性运算符\".\"。 \n",
    "# 可以在广泛的用例中快速轻松地访问Pandas数据结构。\n",
    "# 然而，由于要访问的数据类型不是预先知道的，所以直接使用标准运算符具有一些优化限制。\n",
    "# 对于生产环境的代码，我们建议利用本章介绍的优化Pandas数据访问方法。\n",
    "\n",
    "\n",
    "# Pandas现在支持三种类型的多轴索引; 这三种类型在下表中提到 -\n",
    "\n",
    "# 编号\t索引\t描述\n",
    "# 1\t.loc()\t基于标签\n",
    "# 2\t.iloc()\t基于整数\n",
    "# 3\t.ix()\t基于标签和整数"
   ]
  },
  {
   "cell_type": "code",
   "execution_count": 7,
   "metadata": {},
   "outputs": [
    {
     "name": "stdout",
     "output_type": "stream",
     "text": [
      "          A         B         C         D\n",
      "a -0.068024 -0.481531  0.278873 -0.758177\n",
      "b -0.277650 -0.084704  0.861845  0.774227\n",
      "c  1.998851  0.011858  0.784318 -0.051009\n",
      "d -0.421201  0.327331 -0.347275 -0.221816\n",
      "e  0.034190  0.813177 -0.271812  1.947802\n",
      "f -1.745067 -1.042280 -0.971085  0.614041\n",
      "g  1.042788 -2.054164  1.070037  0.105989\n",
      "h  0.829093  0.059185  1.003071 -0.011625\n",
      "对某一列选中所有的行\n",
      "a   -0.068024\n",
      "b   -0.277650\n",
      "c    1.998851\n",
      "d   -0.421201\n",
      "e    0.034190\n",
      "f   -1.745067\n",
      "g    1.042788\n",
      "h    0.829093\n",
      "Name: A, dtype: float64\n",
      "*********************************************\n",
      "          A         C\n",
      "a -0.068024  0.278873\n",
      "b -0.277650  0.861845\n",
      "c  1.998851  0.784318\n",
      "d -0.421201 -0.347275\n",
      "e  0.034190 -0.271812\n",
      "f -1.745067 -0.971085\n",
      "g  1.042788  1.070037\n",
      "h  0.829093  1.003071\n"
     ]
    }
   ],
   "source": [
    "# .loc()\n",
    "# Pandas提供了各种方法来完成基于标签的索引。 切片时，也包括起始边界。整数是有效的标签，但它们是指标签而不是位置。\n",
    "# .loc()具有多种访问方式，如 -\n",
    "# 单个标量标签\n",
    "# 标签列表\n",
    "# 切片对象\n",
    "# 一个布尔数组\n",
    "# loc需要两个单/列表/范围运算符，用\",\"分隔。第一个表示行，第二个表示列。\n",
    "\n",
    "df=pd.DataFrame(np.random.randn(8,4),index=['a','b','c','d','e','f','g','h'],columns=['A','B','C','D'])\n",
    "print(df)\n",
    "print('对某一列选中所有的行')\n",
    "print(df.loc[:,'A'])\n",
    "\n",
    "print('***'*15)\n",
    "print(df.loc[:,['A','C']])"
   ]
  },
  {
   "cell_type": "code",
   "execution_count": 11,
   "metadata": {},
   "outputs": [
    {
     "name": "stdout",
     "output_type": "stream",
     "text": [
      "          A         C\n",
      "a -0.068024  0.278873\n",
      "b -0.277650  0.861845\n",
      "f -1.745067 -0.971085\n",
      "h  0.829093  1.003071\n"
     ]
    }
   ],
   "source": [
    "#为多列选出个别行\n",
    "print(df.loc[['a','b','f','h'],['A','C']])"
   ]
  },
  {
   "cell_type": "code",
   "execution_count": 13,
   "metadata": {},
   "outputs": [
    {
     "name": "stdout",
     "output_type": "stream",
     "text": [
      "          A         B\n",
      "a -0.068024 -0.481531\n",
      "b -0.277650 -0.084704\n",
      "c  1.998851  0.011858\n",
      "d -0.421201  0.327331\n",
      "e  0.034190  0.813177\n",
      "f -1.745067 -1.042280\n",
      "g  1.042788 -2.054164\n",
      "h  0.829093  0.059185\n"
     ]
    }
   ],
   "source": [
    "#多列选出所有行\n",
    "print(df.loc[:,['A','B']])"
   ]
  },
  {
   "cell_type": "code",
   "execution_count": 15,
   "metadata": {},
   "outputs": [
    {
     "name": "stdout",
     "output_type": "stream",
     "text": [
      "          A         B         C         D\n",
      "a -0.068024 -0.481531  0.278873 -0.758177\n",
      "b -0.277650 -0.084704  0.861845  0.774227\n",
      "c  1.998851  0.011858  0.784318 -0.051009\n",
      "d -0.421201  0.327331 -0.347275 -0.221816\n",
      "e  0.034190  0.813177 -0.271812  1.947802\n",
      "f -1.745067 -1.042280 -0.971085  0.614041\n",
      "g  1.042788 -2.054164  1.070037  0.105989\n",
      "h  0.829093  0.059185  1.003071 -0.011625\n"
     ]
    }
   ],
   "source": [
    "# 为所有列选出行的片段\n",
    "print(df.loc['a':'h'])"
   ]
  },
  {
   "cell_type": "code",
   "execution_count": 16,
   "metadata": {},
   "outputs": [
    {
     "name": "stdout",
     "output_type": "stream",
     "text": [
      "A    False\n",
      "B    False\n",
      "C     True\n",
      "D    False\n",
      "Name: a, dtype: bool\n"
     ]
    }
   ],
   "source": [
    "#获取值得布尔序列\n",
    "print(df.loc['a']>0)"
   ]
  },
  {
   "cell_type": "code",
   "execution_count": 17,
   "metadata": {},
   "outputs": [
    {
     "name": "stdout",
     "output_type": "stream",
     "text": [
      "          A         B         C         D\n",
      "0 -0.602167  0.183540 -0.367796  0.501259\n",
      "1 -0.714867 -0.622311  1.179281  1.104762\n",
      "2 -1.301469 -1.011961  0.568023 -0.251795\n",
      "3 -0.498000 -0.028184 -0.233226  2.196305\n"
     ]
    }
   ],
   "source": [
    "# .iloc()\n",
    "# Pandas提供了各种方法，以获得纯整数索引。像python和numpy一样，第一个位置是基于0的索引。\n",
    "# 各种访问方式如下 -\n",
    "# 整数\n",
    "# 整数列表\n",
    "# 系列值\n",
    "df=pd.DataFrame(np.random.randn(8,4),columns=['A','B','C','D'])\n",
    "#为截取的行片段选出所有的列\n",
    "print(df.iloc[:4])"
   ]
  },
  {
   "cell_type": "code",
   "execution_count": 27,
   "metadata": {},
   "outputs": [
    {
     "name": "stdout",
     "output_type": "stream",
     "text": [
      "          A         B         C         D\n",
      "0 -0.602167  0.183540 -0.367796  0.501259\n",
      "1 -0.714867 -0.622311  1.179281  1.104762\n",
      "2 -1.301469 -1.011961  0.568023 -0.251795\n",
      "3 -0.498000 -0.028184 -0.233226  2.196305\n",
      "****************************************\n",
      "          B         C\n",
      "1 -0.622311  1.179281\n",
      "2 -1.011961  0.568023\n",
      "3 -0.028184 -0.233226\n",
      "4 -1.913726  0.223459\n",
      "****************************************\n",
      "          B         D\n",
      "1 -0.622311  1.104762\n",
      "3 -0.028184  2.196305\n",
      "5  0.266342 -0.563958\n",
      "****************************************\n",
      "          A         B         C         D\n",
      "1 -0.714867 -0.622311  1.179281  1.104762\n",
      "2 -1.301469 -1.011961  0.568023 -0.251795\n",
      "****************************************\n",
      "          B         C\n",
      "0  0.183540 -0.367796\n",
      "1 -0.622311  1.179281\n",
      "2 -1.011961  0.568023\n",
      "3 -0.028184 -0.233226\n",
      "4 -1.913726  0.223459\n",
      "5  0.266342  1.980607\n",
      "6  0.018170  0.216871\n",
      "7  0.440290 -0.600146\n"
     ]
    }
   ],
   "source": [
    "#整数分割\n",
    "print(df.iloc[:4])\n",
    "\n",
    "print('**'*20)\n",
    "print(df.iloc[1:5,1:3])\n",
    "\n",
    "print('**'*20)\n",
    "print(df.iloc[[1,3,5],[1,3]])\n",
    "\n",
    "print('**'*20)\n",
    "print(df.iloc[1:3,:])\n",
    "\n",
    "print('**'*20)\n",
    "print(df.iloc[:,1:3])"
   ]
  },
  {
   "cell_type": "code",
   "execution_count": 28,
   "metadata": {},
   "outputs": [
    {
     "name": "stdout",
     "output_type": "stream",
     "text": [
      "          A         B         C         D\n",
      "0 -0.602167  0.183540 -0.367796  0.501259\n",
      "1 -0.714867 -0.622311  1.179281  1.104762\n",
      "2 -1.301469 -1.011961  0.568023 -0.251795\n",
      "3 -0.498000 -0.028184 -0.233226  2.196305\n",
      "4 -0.927138 -1.913726  0.223459  0.092348\n"
     ]
    },
    {
     "name": "stderr",
     "output_type": "stream",
     "text": [
      "d:\\python3\\lib\\site-packages\\ipykernel_launcher.py:5: DeprecationWarning: \n",
      ".ix is deprecated. Please use\n",
      ".loc for label based indexing or\n",
      ".iloc for positional indexing\n",
      "\n",
      "See the documentation here:\n",
      "http://pandas.pydata.org/pandas-docs/stable/indexing.html#ix-indexer-is-deprecated\n",
      "  \"\"\"\n"
     ]
    }
   ],
   "source": [
    "# .ix()\n",
    "# 除了基于纯标签和整数之外，Pandas还提供了一种使用.ix()运算符进行选择和子集化对象的混合方法。\n",
    "\n",
    "#整数分割\n",
    "print(df.ix[:4])"
   ]
  },
  {
   "cell_type": "code",
   "execution_count": 29,
   "metadata": {},
   "outputs": [
    {
     "name": "stdout",
     "output_type": "stream",
     "text": [
      "0   -0.602167\n",
      "1   -0.714867\n",
      "2   -1.301469\n",
      "3   -0.498000\n",
      "4   -0.927138\n",
      "5    0.281520\n",
      "6    0.424127\n",
      "7   -0.915129\n",
      "Name: A, dtype: float64\n"
     ]
    }
   ],
   "source": [
    "print(df.ix[:,'A'])"
   ]
  },
  {
   "cell_type": "code",
   "execution_count": 37,
   "metadata": {},
   "outputs": [
    {
     "name": "stdout",
     "output_type": "stream",
     "text": [
      "0   -0.602167\n",
      "1   -0.714867\n",
      "2   -1.301469\n",
      "3   -0.498000\n",
      "4   -0.927138\n",
      "5    0.281520\n",
      "6    0.424127\n",
      "7   -0.915129\n",
      "Name: A, dtype: float64\n",
      "*********************************************\n",
      "          A         B\n",
      "0 -0.602167  0.183540\n",
      "1 -0.714867 -0.622311\n",
      "2 -1.301469 -1.011961\n",
      "3 -0.498000 -0.028184\n",
      "4 -0.927138 -1.913726\n",
      "5  0.281520  0.266342\n",
      "6  0.424127  0.018170\n",
      "7 -0.915129  0.440290\n",
      "*********************************************\n",
      "Empty DataFrame\n",
      "Columns: [A, B, C, D]\n",
      "Index: []\n",
      "0   -0.602167\n",
      "1   -0.714867\n",
      "2   -1.301469\n",
      "3   -0.498000\n",
      "4   -0.927138\n",
      "5    0.281520\n",
      "6    0.424127\n",
      "7   -0.915129\n",
      "Name: A, dtype: float64\n"
     ]
    }
   ],
   "source": [
    "# 使用符号\n",
    "\n",
    "# 使用多轴索引从Pandas对象获取值可使用以下符号 -\n",
    "\n",
    "# 对象\t索引\t描述\n",
    "# Series\ts.loc[indexer]\t标量值\n",
    "# DataFrame\tdf.loc[row_index,col_index]\t标量对象\n",
    "# Panel\tp.loc[item_index,major_index, minor_index]\tp.loc[item_index,major_index, minor_index]\n",
    "# 注意 - .iloc()和.ix()应用相同的索引选项和返回值。\n",
    "# 现在来看看如何在DataFrame对象上执行每个操作。这里使用基本索引运算符[] -\n",
    "\n",
    "print(df['A'])\n",
    "\n",
    "print('***'*15)\n",
    "print(df[['A','B']])\n",
    "\n",
    "print('***'*15)\n",
    "print(df[2:2])\n",
    "\n",
    "\n",
    "# 属性访问\n",
    "# 可以使用属性运算符.来选择列。\n",
    "print(df.A)"
   ]
  },
  {
   "cell_type": "code",
   "execution_count": 39,
   "metadata": {},
   "outputs": [
    {
     "name": "stdout",
     "output_type": "stream",
     "text": [
      "0         NaN\n",
      "1    1.000000\n",
      "2    0.500000\n",
      "3    0.333333\n",
      "4    0.250000\n",
      "5   -0.200000\n",
      "dtype: float64\n",
      "           0         1\n",
      "0        NaN       NaN\n",
      "1  -0.907588  2.027004\n",
      "2   8.117182 -0.577801\n",
      "3  -0.960669 -1.874012\n",
      "4  14.299571 -1.051798\n"
     ]
    }
   ],
   "source": [
    "# 统计方法有助于理解和分析数据的行为。现在我们将学习一些统计函数，可以将这些函数应用到Pandas的对象上。\n",
    "\n",
    "# pct_change()函数\n",
    "# 系列，DatFrames和Panel都有pct_change()函数。此函数将每个元素与其前一个元素进行比较，并计算变化百分比。\n",
    "\n",
    "s=pd.Series([1,2,3,4,5,4])\n",
    "print(s.pct_change())\n",
    "\n",
    "df=pd.DataFrame(np.random.randn(5,2))\n",
    "print(df.pct_change())\n",
    "# 默认情况下，pct_change()对列进行操作; 如果想应用到行上，那么可使用axis = 1参数。"
   ]
  },
  {
   "cell_type": "code",
   "execution_count": 40,
   "metadata": {},
   "outputs": [
    {
     "name": "stdout",
     "output_type": "stream",
     "text": [
      "-0.180766618019\n"
     ]
    }
   ],
   "source": [
    "# 协方差\n",
    "# 协方差适用于系列数据。Series对象有一个方法cov用来计算序列对象之间的协方差。\n",
    "# NA将被自动排除。\n",
    "# Cov系列示例\n",
    "s1=pd.Series(np.random.randn(10))\n",
    "s2=pd.Series(np.random.randn(10))\n",
    "print(s1.cov(s2))"
   ]
  },
  {
   "cell_type": "code",
   "execution_count": 41,
   "metadata": {},
   "outputs": [
    {
     "name": "stdout",
     "output_type": "stream",
     "text": [
      "-0.35370490788\n",
      "          a         b         c         d         e\n",
      "a  1.242840 -0.353705 -0.490068  0.554176 -0.339829\n",
      "b -0.353705  1.092451  0.188553  0.179817  0.198006\n",
      "c -0.490068  0.188553  1.215012 -0.174806 -0.222520\n",
      "d  0.554176  0.179817 -0.174806  0.928444 -0.087384\n",
      "e -0.339829  0.198006 -0.222520 -0.087384  0.525602\n"
     ]
    }
   ],
   "source": [
    "frame=pd.DataFrame(np.random.randn(10,5),columns=['a','b','c','d','e'])\n",
    "print(frame['a'].cov(frame['b']))\n",
    "print(frame.cov())"
   ]
  },
  {
   "cell_type": "code",
   "execution_count": 42,
   "metadata": {},
   "outputs": [
    {
     "name": "stdout",
     "output_type": "stream",
     "text": [
      "-0.303551561047\n",
      "          a         b         c         d         e\n",
      "a  1.000000 -0.303552 -0.398803  0.515896 -0.420460\n",
      "b -0.303552  1.000000  0.163660  0.178547  0.261306\n",
      "c -0.398803  0.163660  1.000000 -0.164584 -0.278452\n",
      "d  0.515896  0.178547 -0.164584  1.000000 -0.125091\n",
      "e -0.420460  0.261306 -0.278452 -0.125091  1.000000\n"
     ]
    }
   ],
   "source": [
    "# 相关性\n",
    "# 相关性显示了任何两个数值(系列)之间的线性关系。\n",
    "# 有多种方法来计算pearson(默认)，spearman和kendall之间的相关性。\n",
    "print(frame['a'].corr(frame['b']))\n",
    "print(frame.corr())\n",
    "# 如果DataFrame中存在任何非数字列，则会自动排除。"
   ]
  },
  {
   "cell_type": "code",
   "execution_count": 55,
   "metadata": {},
   "outputs": [
    {
     "name": "stdout",
     "output_type": "stream",
     "text": [
      "a   -0.422260\n",
      "b    0.776948\n",
      "c   -1.749068\n",
      "d    1.986586\n",
      "e   -1.578202\n",
      "dtype: float64\n",
      "a   -0.422260\n",
      "b    0.776948\n",
      "c   -1.749068\n",
      "d    0.776948\n",
      "e   -1.578202\n",
      "dtype: float64\n",
      "a    3.0\n",
      "b    4.5\n",
      "c    1.0\n",
      "d    4.5\n",
      "e    2.0\n",
      "dtype: float64\n",
      "a    3.0\n",
      "b    4.5\n",
      "c    1.0\n",
      "d    4.5\n",
      "e    2.0\n",
      "dtype: float64\n"
     ]
    }
   ],
   "source": [
    "# 数据排名\n",
    "# 数据排名为元素数组中的每个元素生成排名。在关系的情况下，分配平均等级。\n",
    "s=pd.Series(np.random.randn(5),index=list('abcde'))\n",
    "print(s)\n",
    "s['d']=s['b']\n",
    "print(s)\n",
    "print(s.rank())\n",
    "print(s.rank())"
   ]
  },
  {
   "cell_type": "code",
   "execution_count": null,
   "metadata": {},
   "outputs": [],
   "source": [
    "# Rank可选地使用一个默认为true的升序参数; 当错误时，数据被反向排序，也就是较大的值被分配较小的排序。\n",
    "\n",
    "# Rank支持不同的tie-breaking方法，用方法参数指定 -\n",
    "\n",
    "# average - 并列组平均排序等级\n",
    "# min - 组中最低的排序等级\n",
    "# max - 组中最高的排序等级\n",
    "# first - 按照它们出现在数组中的顺序分配队列"
   ]
  }
 ],
 "metadata": {
  "kernelspec": {
   "display_name": "Python 3",
   "language": "python",
   "name": "python3"
  },
  "language_info": {
   "codemirror_mode": {
    "name": "ipython",
    "version": 3
   },
   "file_extension": ".py",
   "mimetype": "text/x-python",
   "name": "python",
   "nbconvert_exporter": "python",
   "pygments_lexer": "ipython3",
   "version": "3.6.4"
  }
 },
 "nbformat": 4,
 "nbformat_minor": 2
}
