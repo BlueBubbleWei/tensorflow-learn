{
 "cells": [
  {
   "cell_type": "code",
   "execution_count": 1,
   "metadata": {},
   "outputs": [
    {
     "name": "stdout",
     "output_type": "stream",
     "text": [
      "<class 'pandas.core.panel.Panel'>\n",
      "Dimensions: 2 (items) x 4 (major_axis) x 5 (minor_axis)\n",
      "Items axis: 0 to 1\n",
      "Major_axis axis: 0 to 3\n",
      "Minor_axis axis: 0 to 4\n"
     ]
    }
   ],
   "source": [
    "import pandas as pd\n",
    "import numpy as np\n",
    "data=np.random.rand(2,4,5)\n",
    "p=pd.Panel(data)\n",
    "print(p)\n",
    "# 注意 - 观察空面板和上面板的尺寸大小，所有对象都不同。"
   ]
  },
  {
   "cell_type": "code",
   "execution_count": 2,
   "metadata": {},
   "outputs": [
    {
     "name": "stdout",
     "output_type": "stream",
     "text": [
      "<class 'pandas.core.panel.Panel'>\n",
      "Dimensions: 2 (items) x 4 (major_axis) x 3 (minor_axis)\n",
      "Items axis: Item1 to Item2\n",
      "Major_axis axis: 0 to 3\n",
      "Minor_axis axis: 0 to 2\n"
     ]
    }
   ],
   "source": [
    "# 2.2 从DataFrame对象的dict创建面板\n",
    "data={'Item1':pd.DataFrame(np.random.randn(4,3)),\n",
    "     'Item2':pd.DataFrame(np.random.randn(4,2))}\n",
    "p=pd.Panel(data)\n",
    "print(p)"
   ]
  },
  {
   "cell_type": "code",
   "execution_count": 3,
   "metadata": {},
   "outputs": [
    {
     "name": "stdout",
     "output_type": "stream",
     "text": [
      "<class 'pandas.core.panel.Panel'>\n",
      "Dimensions: 0 (items) x 0 (major_axis) x 0 (minor_axis)\n",
      "Items axis: None\n",
      "Major_axis axis: None\n",
      "Minor_axis axis: None\n"
     ]
    }
   ],
   "source": [
    "# 创建一个空面板\n",
    "# 可以使用Panel的构造函数创建一个空面板\n",
    "p=pd.Panel()\n",
    "print(p)"
   ]
  },
  {
   "cell_type": "code",
   "execution_count": 9,
   "metadata": {},
   "outputs": [
    {
     "name": "stdout",
     "output_type": "stream",
     "text": [
      "          0         1         2\n",
      "0 -0.217885 -0.412425 -0.869189\n",
      "1 -2.279549  0.259411 -0.757239\n",
      "2 -0.382371 -0.186159  1.061368\n",
      "3 -0.172955  1.384148 -0.706663\n",
      "      Item1     Item2\n",
      "0 -2.279549 -2.245275\n",
      "1  0.259411  0.318103\n",
      "2 -0.757239       NaN\n"
     ]
    }
   ],
   "source": [
    "# 从面板中选择数据\n",
    "# 要从面板中选择数据，可以使用以下方式\n",
    "data={\n",
    "    'Item1':pd.DataFrame(np.random.randn(4,3)),\n",
    "    'Item2':pd.DataFrame(np.random.randn(4,2))\n",
    "}\n",
    "p=pd.Panel(data)\n",
    "print(p['Item1'])\n",
    "print(p.major_xs(1))\n",
    "# 上面示例有两个数据项，这里只检索item1。\n",
    "# 结果是具有4行和3列的数据帧(DataFrame)，它们是Major_axis和Minor_axis维"
   ]
  },
  {
   "cell_type": "code",
   "execution_count": 7,
   "metadata": {},
   "outputs": [
    {
     "name": "stdout",
     "output_type": "stream",
     "text": [
      "      Item1     Item2\n",
      "0 -1.025260  0.676926\n",
      "1 -1.828271 -2.461225\n",
      "2  0.526921       NaN\n"
     ]
    }
   ],
   "source": [
    "# 使用major_axis\n",
    "# 可以使用panel.major_axis(index)方法访问数据\n",
    "data={\n",
    "    'Item1':pd.DataFrame(np.random.randn(4,3)),\n",
    "    'Item2':pd.DataFrame(np.random.randn(4,2))\n",
    "}\n",
    "p=pd.Panel(data)\n",
    "print(p.major_xs(1))"
   ]
  },
  {
   "cell_type": "code",
   "execution_count": 11,
   "metadata": {},
   "outputs": [
    {
     "name": "stdout",
     "output_type": "stream",
     "text": [
      "      Item1     Item2\n",
      "0  0.543630 -0.199696\n",
      "1 -1.192803  2.299006\n",
      "2 -1.923119  0.552694\n",
      "3 -0.165186 -1.286415\n"
     ]
    }
   ],
   "source": [
    "# 使用minor_axis\n",
    "# 可以使用panel.minor_axis(index)方法访问数据。\n",
    "data={\n",
    "    'Item1':pd.DataFrame(np.random.randn(4,3)),\n",
    "    'Item2':pd.DataFrame(np.random.randn(4,2))\n",
    "}\n",
    "p=pd.Panel(data)\n",
    "print(p.minor_xs(1))"
   ]
  },
  {
   "cell_type": "code",
   "execution_count": 12,
   "metadata": {},
   "outputs": [
    {
     "name": "stdout",
     "output_type": "stream",
     "text": [
      "0   -0.860092\n",
      "1   -0.209188\n",
      "2   -1.706859\n",
      "3    0.686364\n",
      "dtype: float64\n"
     ]
    }
   ],
   "source": [
    "s=pd.Series(np.random.randn(4))\n",
    "print(s)"
   ]
  },
  {
   "cell_type": "code",
   "execution_count": 13,
   "metadata": {},
   "outputs": [
    {
     "name": "stdout",
     "output_type": "stream",
     "text": [
      "数轴是：\n",
      "[RangeIndex(start=0, stop=4, step=1)]\n"
     ]
    }
   ],
   "source": [
    "# axes示例\n",
    "# 返回系列的标签列表。\n",
    "s=pd.Series(np.random.randn(4))\n",
    "print('数轴是：')\n",
    "print(s.axes)\n",
    "# 上述结果是从0到5的值列表的紧凑格式，即：[0,1,2,3,4]。"
   ]
  },
  {
   "cell_type": "code",
   "execution_count": 14,
   "metadata": {},
   "outputs": [
    {
     "name": "stdout",
     "output_type": "stream",
     "text": [
      "对象是空的吗？\n",
      "False\n"
     ]
    }
   ],
   "source": [
    "# empty示例\n",
    "# 返回布尔值，表示对象是否为空。返回True则表示对象为空。\n",
    "s=pd.Series(np.random.randn(4))\n",
    "print('对象是空的吗？')\n",
    "print(s.empty)"
   ]
  },
  {
   "cell_type": "code",
   "execution_count": 15,
   "metadata": {},
   "outputs": [
    {
     "name": "stdout",
     "output_type": "stream",
     "text": [
      "0    1.653156\n",
      "1   -0.443267\n",
      "2   -2.011836\n",
      "3   -1.417917\n",
      "dtype: float64\n",
      "数组的维度是：\n",
      "1\n"
     ]
    }
   ],
   "source": [
    "# ndim示例\n",
    "# 返回对象的维数。根据定义，一个系列是一个1D数据结构\n",
    "s=pd.Series(np.random.randn(4))\n",
    "print(s)\n",
    "print('数组的维度是：')\n",
    "print(s.ndim)"
   ]
  },
  {
   "cell_type": "code",
   "execution_count": 18,
   "metadata": {},
   "outputs": [
    {
     "name": "stdout",
     "output_type": "stream",
     "text": [
      "0    1.557895\n",
      "1    0.862005\n",
      "dtype: float64\n",
      "数组的大小\n",
      "2\n"
     ]
    }
   ],
   "source": [
    "# size示例\n",
    "# 返回系列的大小(长度)。\n",
    "s=pd.Series(np.random.randn(2))\n",
    "print(s)\n",
    "print('数组的大小')\n",
    "print(s.size)"
   ]
  },
  {
   "cell_type": "code",
   "execution_count": 20,
   "metadata": {},
   "outputs": [
    {
     "name": "stdout",
     "output_type": "stream",
     "text": [
      "0    0.662663\n",
      "1   -0.396625\n",
      "2    0.364883\n",
      "3   -0.470709\n",
      "dtype: float64\n",
      "实际的值序列是：\n",
      "[ 0.66266346 -0.3966246   0.36488339 -0.47070892]\n"
     ]
    }
   ],
   "source": [
    "# values示例\n",
    "# 以数组形式返回系列中的实际数据值\n",
    "s=pd.Series(np.random.randn(4))\n",
    "print(s)\n",
    "print('实际的值序列是：')\n",
    "print(s.values)"
   ]
  },
  {
   "cell_type": "code",
   "execution_count": 21,
   "metadata": {},
   "outputs": [
    {
     "name": "stdout",
     "output_type": "stream",
     "text": [
      "原始序列是\n",
      "0    0.454246\n",
      "1    0.721476\n",
      "2   -1.364988\n",
      "3    0.629052\n",
      "dtype: float64\n",
      "值序列的第一二行是\n",
      "0    0.454246\n",
      "1    0.721476\n",
      "dtype: float64\n"
     ]
    }
   ],
   "source": [
    "# head()和tail()方法示例\n",
    "# 要查看Series或DataFrame对象的小样本，请使用head()和tail()方法。\n",
    "# head()返回前n行(观察索引值)。要显示的元素的默认数量为5，但可以传递自定义这个数字值。\n",
    "s=pd.Series(np.random.randn(4))\n",
    "print('原始序列是')\n",
    "print(s)\n",
    "print('值序列的第一二行是')\n",
    "print(s.head(2))"
   ]
  },
  {
   "cell_type": "code",
   "execution_count": 22,
   "metadata": {},
   "outputs": [
    {
     "name": "stdout",
     "output_type": "stream",
     "text": [
      "原始序列是：\n",
      "0    0.025578\n",
      "1   -0.283006\n",
      "2    1.189143\n",
      "3   -0.731335\n",
      "dtype: float64\n",
      "数据集的最后两行是\n",
      "2    1.189143\n",
      "3   -0.731335\n",
      "dtype: float64\n"
     ]
    }
   ],
   "source": [
    "# tail()返回最后n行(观察索引值)。\n",
    "# 要显示的元素的默认数量为5，但可以传递自定义数字值。参考以下示例代码 -\n",
    "s=pd.Series(np.random.randn(4))\n",
    "print('原始序列是：')\n",
    "print(s)\n",
    "\n",
    "print('数据集的最后两行是')\n",
    "print(s.tail(2))"
   ]
  },
  {
   "cell_type": "code",
   "execution_count": 27,
   "metadata": {},
   "outputs": [
    {
     "name": "stdout",
     "output_type": "stream",
     "text": [
      "数据集是：\n",
      "   Age   Name  Rating\n",
      "0   25    Tom    4.23\n",
      "1   26  James    3.24\n",
      "2   25  Ricky    3.98\n",
      "3   23    Vin    2.56\n",
      "4   30  Steve    3.20\n",
      "5   29  MInsu    4.60\n",
      "6   23   Jack    3.80\n",
      "******************************\n",
      "转置序列\n",
      "           0      1      2     3      4      5     6\n",
      "Age       25     26     25    23     30     29    23\n",
      "Name     Tom  James  Ricky   Vin  Steve  MInsu  Jack\n",
      "Rating  4.23   3.24   3.98  2.56    3.2    4.6   3.8\n"
     ]
    }
   ],
   "source": [
    "d={\n",
    "    'Name':pd.Series(['Tom','James','Ricky','Vin','Steve','MInsu','Jack']),\n",
    "    'Age':pd.Series([25,26,25,23,30,29,23]),\n",
    "    'Rating':pd.Series([4.23,3.24,3.98,2.56,3.20,4.6,3.8])\n",
    "    \n",
    "}\n",
    "df=pd.DataFrame(d)\n",
    "print('数据集是：')\n",
    "print(df)\n",
    "\n",
    "# T(转置)示例\n",
    "# 返回DataFrame的转置。行和列将交换。\n",
    "print('**'*15)\n",
    "print('转置序列')\n",
    "print(df.T)"
   ]
  },
  {
   "cell_type": "code",
   "execution_count": 40,
   "metadata": {},
   "outputs": [
    {
     "name": "stdout",
     "output_type": "stream",
     "text": [
      "行标签和列标签是\n",
      "[RangeIndex(start=0, stop=7, step=1), Index(['Age', 'Name', 'Rating'], dtype='object')]\n",
      "Age         int64\n",
      "Name       object\n",
      "Rating    float64\n",
      "dtype: object\n",
      "False\n",
      "2\n",
      "(7, 3)\n",
      "21\n",
      "[[25 'Tom' 4.23]\n",
      " [26 'James' 3.24]\n",
      " [25 'Ricky' 3.98]\n",
      " [23 'Vin' 2.56]\n",
      " [30 'Steve' 3.2]\n",
      " [29 'MInsu' 4.6]\n",
      " [23 'Jack' 3.8]]\n",
      "*********************************************\n",
      "   Age   Name  Rating\n",
      "0   25    Tom    4.23\n",
      "1   26  James    3.24\n",
      "*********************************************\n",
      "   Age   Name  Rating\n",
      "5   29  MInsu     4.6\n",
      "6   23   Jack     3.8\n"
     ]
    }
   ],
   "source": [
    "# axes示例\n",
    "# 返回行轴标签和列轴标签列表。参考以下示例代码 -\n",
    "d={\n",
    "    'Name':pd.Series(['Tom','James','Ricky','Vin','Steve','MInsu','Jack']),\n",
    "    'Age':pd.Series([25,26,25,23,30,29,23]),\n",
    "    'Rating':pd.Series([4.23,3.24,3.98,2.56,3.20,4.6,3.8])\n",
    "    \n",
    "}\n",
    "df=pd.DataFrame(d)\n",
    "print('行标签和列标签是')\n",
    "print(df.axes)\n",
    "\n",
    "\n",
    "# dtypes示例\n",
    "# 返回每列的数据类型。\n",
    "print(df.dtypes)\n",
    "\n",
    "# empty示例\n",
    "# 返回布尔值，表示对象是否为空; 返回True表示对象为空。\n",
    "print(df.empty)\n",
    "\n",
    "\n",
    "# ndim示例\n",
    "# 返回对象的维数。根据定义，DataFrame是一个2D对象。\n",
    "print(df.ndim)\n",
    "\n",
    "\n",
    "# shape示例\n",
    "# 返回表示DataFrame的维度的元组。 元组(a，b)，其中a表示行数，b表示列数。\n",
    "print(df.shape)\n",
    "\n",
    "# size示例\n",
    "# 返回DataFrame中的元素数。\n",
    "print(df.size)\n",
    "\n",
    "# values示例\n",
    "# 将DataFrame中的实际数据作为NDarray返回。\n",
    "print(df.values)\n",
    "\n",
    "# values示例\n",
    "# 将DataFrame中的实际数据作为NDarray返回。\n",
    "print('***'*15)\n",
    "print(df.head(2))\n",
    "\n",
    "\n",
    "#tail()返回最后n行(观察索引值)。显示元素的默认数量为5，但可以传递自定义数字值。\n",
    "print('***'*15)\n",
    "print(df.tail(2))"
   ]
  },
  {
   "cell_type": "code",
   "execution_count": 49,
   "metadata": {},
   "outputs": [
    {
     "name": "stdout",
     "output_type": "stream",
     "text": [
      "   Age   Name  Rating\n",
      "0   25    Tom    3.25\n",
      "1   26  James    4.56\n",
      "2   27  Ricky    2.45\n",
      "3   11    Vin    1.25\n",
      "4   23  Steve    6.78\n",
      "5   45  Minsu    1.23\n",
      "6   13   Jack    4.33\n",
      "Age                                  170\n",
      "Name      TomJamesRickyVinSteveMinsuJack\n",
      "Rating                             23.85\n",
      "dtype: object\n",
      "每个单独的列单独添加\n",
      "0    28.25\n",
      "1    30.56\n",
      "2    29.45\n",
      "3    12.25\n",
      "4    29.78\n",
      "5    46.23\n",
      "6    17.33\n",
      "dtype: float64\n",
      "返回平均值\n",
      "Age       24.285714\n",
      "Rating     3.407143\n",
      "dtype: float64\n",
      "std()示例\n",
      "Age       11.146214\n",
      "Rating     1.995451\n",
      "dtype: float64\n",
      "汇总数据\n",
      "             Age    Rating\n",
      "count   7.000000  7.000000\n",
      "mean   24.285714  3.407143\n",
      "std    11.146214  1.995451\n",
      "min    11.000000  1.230000\n",
      "25%    18.000000  1.850000\n",
      "50%    25.000000  3.250000\n",
      "75%    26.500000  4.445000\n",
      "max    45.000000  6.780000\n"
     ]
    }
   ],
   "source": [
    "# 有很多方法用来集体计算DataFrame的描述性统计信息和其他相关操作。 \n",
    "# 其中大多数是sum()，mean()等聚合函数，但其中一些，如sumsum()，产生一个相同大小的对象。\n",
    "# 一般来说，这些方法采用轴参数，就像ndarray.{sum，std，...}，但轴可以通过名称或整数来指定：\n",
    "# 数据帧(DataFrame) - “index”(axis=0，默认)，columns(axis=1)\n",
    "# 下面创建一个数据帧(DataFrame)，并使用此对象进行演示本章中所有操作。\n",
    "d={\n",
    "    'Name':pd.Series(['Tom','James','Ricky','Vin','Steve','Minsu','Jack']),\n",
    "    'Age':pd.Series([25,26,27,11,23,45,13]),\n",
    "    'Rating':pd.Series([3.25,4.56,2.45,1.25,6.78,1.23,4.33])\n",
    "}\n",
    "df=pd.DataFrame(d)\n",
    "print(df)\n",
    "\n",
    "\n",
    "# sum()方法\n",
    "# 返回所请求轴的值的总和。 默认情况下，轴为索引(axis=0)。\n",
    "print(df.sum())\n",
    "\n",
    "\n",
    "\n",
    "# 每个单独的列单独添加(附加字符串)。\n",
    "# axis=1示例\n",
    "# 此语法将给出如下所示的输出\n",
    "print('每个单独的列单独添加')\n",
    "print(df.sum(1))\n",
    "\n",
    "\n",
    "# mean()示例\n",
    "# 返回平均值，参考以下示例代码\n",
    "print('返回平均值')\n",
    "print(df.mean())\n",
    "\n",
    "\n",
    "# std()示例\n",
    "# 返回数字列的Bressel标准偏差。\n",
    "print('std()示例')\n",
    "print(df.std())\n",
    "\n",
    "\n",
    "# 汇总数据\n",
    "# describe()函数是用来计算有关DataFrame列的统计信息的摘要。\n",
    "print('汇总数据')\n",
    "print(df.describe())\n"
   ]
  },
  {
   "cell_type": "code",
   "execution_count": 54,
   "metadata": {
    "scrolled": true
   },
   "outputs": [
    {
     "name": "stdout",
     "output_type": "stream",
     "text": [
      "******************************\n",
      "object - 汇总字符串列\n",
      "       Name\n",
      "count     7\n",
      "unique    7\n",
      "top     Tom\n",
      "freq      1\n",
      "******************************\n",
      "汇总数字列\n",
      "             Age    Rating\n",
      "count   7.000000  7.000000\n",
      "mean   24.285714  3.407143\n",
      "std    11.146214  1.995451\n",
      "min    11.000000  1.230000\n",
      "25%    18.000000  1.850000\n",
      "50%    25.000000  3.250000\n",
      "75%    26.500000  4.445000\n",
      "max    45.000000  6.780000\n",
      "******************************\n",
      "将所有列汇总在一起\n",
      "              Age Name    Rating\n",
      "count    7.000000    7  7.000000\n",
      "unique        NaN    7       NaN\n",
      "top           NaN  Tom       NaN\n",
      "freq          NaN    1       NaN\n",
      "mean    24.285714  NaN  3.407143\n",
      "std     11.146214  NaN  1.995451\n",
      "min     11.000000  NaN  1.230000\n",
      "25%     18.000000  NaN  1.850000\n",
      "50%     25.000000  NaN  3.250000\n",
      "75%     26.500000  NaN  4.445000\n",
      "max     45.000000  NaN  6.780000\n"
     ]
    }
   ],
   "source": [
    "# 该函数给出了平均值，标准差和IQR值。 而且，函数排除字符列，并给出关于数字列的摘要。 include是用于传递关于什么列需要考虑用于总结的必要信息的参数。获取值列表; 默认情况下是”数字值”。\n",
    "# object - 汇总字符串列\n",
    "# number - 汇总数字列\n",
    "# all - 将所有列汇总在一起(不应将其作为列表值传递)\n",
    "print('**'*15)\n",
    "print('object - 汇总字符串列')\n",
    "print(df.describe(include=['object']))\n",
    "\n",
    "print('**'*15)\n",
    "print('汇总数字列')\n",
    "print(df.describe(include=['number']))\n",
    "\n",
    "print('**'*15)\n",
    "print('将所有列汇总在一起')\n",
    "print(df.describe(include='all'))"
   ]
  },
  {
   "cell_type": "code",
   "execution_count": null,
   "metadata": {},
   "outputs": [],
   "source": []
  }
 ],
 "metadata": {
  "kernelspec": {
   "display_name": "Python 3",
   "language": "python",
   "name": "python3"
  },
  "language_info": {
   "codemirror_mode": {
    "name": "ipython",
    "version": 3
   },
   "file_extension": ".py",
   "mimetype": "text/x-python",
   "name": "python",
   "nbconvert_exporter": "python",
   "pygments_lexer": "ipython3",
   "version": "3.6.4"
  }
 },
 "nbformat": 4,
 "nbformat_minor": 2
}
