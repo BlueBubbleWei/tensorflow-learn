{
 "cells": [
  {
   "cell_type": "code",
   "execution_count": 1,
   "metadata": {},
   "outputs": [],
   "source": [
    "import sys\n",
    "import importlib\n",
    "importlib.reload(sys)\n",
    "\n",
    "from pdfminer.pdfparser import PDFParser,PDFDocument\n",
    "from pdfminer.pdfinterp import PDFResourceManager, PDFPageInterpreter\n",
    "from pdfminer.converter import PDFPageAggregator\n",
    "from pdfminer.layout import LTTextBoxHorizontal,LAParams\n",
    "from pdfminer.pdfinterp import PDFTextExtractionNotAllowed"
   ]
  },
  {
   "cell_type": "code",
   "execution_count": 3,
   "metadata": {},
   "outputs": [
    {
     "name": "stderr",
     "output_type": "stream",
     "text": [
      "WARNING:root:Wrong type: <PDFStream(3): raw=4060, {'Filter': /FlateDecode, 'Length': 4060}> required: <class 'dict'>\n"
     ]
    },
    {
     "name": "stdout",
     "output_type": "stream",
     "text": [
      "<pdfminer.pdfparser.PDFDocument object at 0x0000000005FB3940>\n"
     ]
    }
   ],
   "source": [
    "path = r'E:/无人驾驶/车道检测/论文/车道检测/机器学习/1802.05591.pdf'\n",
    "def parse():\n",
    "    fp = open(path, 'rb') # 以二进制读模式打开\n",
    "    #用文件对象来创建一个pdf文档分析器\n",
    "    praser = PDFParser(fp)\n",
    "    # 创建一个PDF文档\n",
    "    doc = PDFDocument()\n",
    "    # 连接分析器 与文档对象\n",
    "    praser.set_document(doc)\n",
    "    doc.set_parser(praser)\n",
    "\n",
    "    # 提供初始化密码\n",
    "    # 如果没有密码 就创建一个空的字符串\n",
    "    doc.initialize()\n",
    "\n",
    "    # 检测文档是否提供txt转换，不提供就忽略\n",
    "    if not doc.is_extractable:\n",
    "        raise PDFTextExtractionNotAllowed\n",
    "    else:\n",
    "        # 创建PDf 资源管理器 来管理共享资源\n",
    "        rsrcmgr = PDFResourceManager()\n",
    "        # 创建一个PDF设备对象\n",
    "        laparams = LAParams()\n",
    "        device = PDFPageAggregator(rsrcmgr, laparams=laparams)\n",
    "        # 创建一个PDF解释器对象\n",
    "        interpreter = PDFPageInterpreter(rsrcmgr, device)\n",
    "\n",
    "        # 循环遍历列表，每次处理一个page的内容\n",
    "        print(doc)\n",
    "#         for page in doc.get_pages(): # doc.get_pages() 获取page列表\n",
    "#             interpreter.process_page(page)\n",
    "#             # 接受该页面的LTPage对象\n",
    "#             layout = device.get_result()\n",
    "#             # 这里layout是一个LTPage对象 里面存放着 这个page解析出的各种对象 一般包括LTTextBox, LTFigure, LTImage, LTTextBoxHorizontal 等等 想要获取文本就获得对象的text属性，\n",
    "#             for x in layout:\n",
    "#                 if (isinstance(x, LTTextBoxHorizontal)):\n",
    "#                     with open(r'../../data/pdf/1.txt', 'a') as f:\n",
    "#                         results = x.get_text()\n",
    "#                         print(results)\n",
    "#                         f.write(results + '\\n')\n",
    "\n",
    "if __name__ == '__main__':\n",
    "    parse()"
   ]
  },
  {
   "cell_type": "code",
   "execution_count": null,
   "metadata": {},
   "outputs": [],
   "source": [
    "Vanishing Point Guided Network for Lane and Road Marking Detection and Recognition"
   ]
  }
 ],
 "metadata": {
  "kernelspec": {
   "display_name": "Python 3",
   "language": "python",
   "name": "python3"
  },
  "language_info": {
   "codemirror_mode": {
    "name": "ipython",
    "version": 3
   },
   "file_extension": ".py",
   "mimetype": "text/x-python",
   "name": "python",
   "nbconvert_exporter": "python",
   "pygments_lexer": "ipython3",
   "version": "3.6.4"
  }
 },
 "nbformat": 4,
 "nbformat_minor": 2
}
