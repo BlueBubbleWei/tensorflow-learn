{
 "cells": [
  {
   "cell_type": "code",
   "execution_count": 1,
   "metadata": {},
   "outputs": [
    {
     "name": "stdout",
     "output_type": "stream",
     "text": [
      "[[ 0.  0.]\n",
      " [ 0.  0.]]\n"
     ]
    }
   ],
   "source": [
    "# matlib.empty()\n",
    "# matlib.empty()函数返回一个新的矩阵，而不初始化元素。 该函数接受以下参数。\n",
    "# numpy.matlib.empty(shape, dtype, order)\n",
    "# Python\n",
    "# 其中：\n",
    "# 序号\t参数及描述\n",
    "# 1.\tshape 定义新矩阵形状的整数或整数元组\n",
    "# 2.\tDtype 可选，输出的数据类型\n",
    "# 3.\torder C 或者 F\n",
    "import numpy.matlib\n",
    "import numpy as np\n",
    "print(np.matlib.zeros((2,2)))"
   ]
  },
  {
   "cell_type": "code",
   "execution_count": 2,
   "metadata": {},
   "outputs": [
    {
     "name": "stdout",
     "output_type": "stream",
     "text": [
      "[[ 1.  1.]\n",
      " [ 1.  1.]]\n"
     ]
    }
   ],
   "source": [
    "# numpy.matlib.ones()\n",
    "# 此函数返回以一填充的矩阵。\n",
    "print(np.matlib.ones((2,2)))"
   ]
  },
  {
   "cell_type": "code",
   "execution_count": 4,
   "metadata": {},
   "outputs": [
    {
     "name": "stdout",
     "output_type": "stream",
     "text": [
      "[[ 1.  0.  0.  0.]\n",
      " [ 0.  1.  0.  0.]\n",
      " [ 0.  0.  1.  0.]]\n"
     ]
    }
   ],
   "source": [
    "# numpy.matlib.eye()\n",
    "# 这个函数返回一个矩阵，对角线元素为 1，其他位置为零。 该函数接受以下参数。\n",
    "# numpy.matlib.eye(n, M,k, dtype)\n",
    "# Python\n",
    "# 其中：\n",
    "\n",
    "# 序号\t参数及描述\n",
    "# 1.\tn 返回矩阵的行数\n",
    "# 2.\tM 返回矩阵的列数，默认为n\n",
    "# 3.\tk 对角线的索引\n",
    "# 4.\tdtype 输出的数据类型\n",
    "print(np.matlib.eye(n=3,M=4,k=0,dtype=float))"
   ]
  },
  {
   "cell_type": "code",
   "execution_count": 5,
   "metadata": {},
   "outputs": [
    {
     "name": "stdout",
     "output_type": "stream",
     "text": [
      "[[ 1.  0.  0.  0.  0.]\n",
      " [ 0.  1.  0.  0.  0.]\n",
      " [ 0.  0.  1.  0.  0.]\n",
      " [ 0.  0.  0.  1.  0.]\n",
      " [ 0.  0.  0.  0.  1.]]\n"
     ]
    }
   ],
   "source": [
    "# numpy.matlib.identity()\n",
    "# numpy.matlib.identity()函数返回给定大小的单位矩阵。单位矩阵是主对角线元素都为 1 的方阵。\n",
    "print(np.matlib.identity(5,dtype=float))"
   ]
  },
  {
   "cell_type": "code",
   "execution_count": 9,
   "metadata": {},
   "outputs": [
    {
     "name": "stdout",
     "output_type": "stream",
     "text": [
      "[[ 0.03512699  0.52826324  0.01948943]\n",
      " [ 0.80404282  0.45613042  0.18627295]\n",
      " [ 0.02720553  0.52460918  0.11421649]]\n",
      "[[1 2 3 4]]\n",
      "[[1 2 3 4]]\n",
      "[[1 2 3 4]]\n"
     ]
    }
   ],
   "source": [
    "# numpy.matlib.rand()\n",
    "# ·numpy.matlib.rand()`函数返回给定大小的填充随机值的矩阵。\n",
    "print(np.matlib.rand(3,3))\n",
    "\n",
    "# 注意，矩阵总是二维的，而ndarray是一个 n 维数组。 两个对象都是可互换的。\n",
    "i=np.matrix('1,2,3,4')\n",
    "print(i)\n",
    "\n",
    "j=np.asarray(i)\n",
    "print(j)\n",
    "\n",
    "k=np.asmatrix(j)\n",
    "print(k)"
   ]
  },
  {
   "cell_type": "code",
   "execution_count": 11,
   "metadata": {},
   "outputs": [
    {
     "name": "stdout",
     "output_type": "stream",
     "text": [
      "[[37 40]\n",
      " [85 92]]\n"
     ]
    }
   ],
   "source": [
    "# NumPy 包包含numpy.linalg模块，提供线性代数所需的所有功能。 此模块中的一些重要功能如下表所述。\n",
    "\n",
    "# 序号\t函数及描述\n",
    "# 1.\tdot 两个数组的点积\n",
    "# 2.\tvdot 两个向量的点积\n",
    "# 3.\tinner 两个数组的内积\n",
    "# 4.\tmatmul 两个数组的矩阵积\n",
    "# 5.\tdeterminant 数组的行列式\n",
    "# 6.\tsolve 求解线性矩阵方程\n",
    "# 7.\tinv 寻找矩阵的乘法逆矩阵\n",
    "# numpy.dot()\n",
    "\n",
    "# 此函数返回两个数组的点积。 对于二维向量，其等效于矩阵乘法。 对于一维数组，它是向量的内积。 对于 N 维数组，它是a的最后一个轴上的和与b的倒数第二个轴的乘积。\n",
    "\n",
    "\n",
    "a=np.array([[1,2],[3,4]])\n",
    "b=np.array([[11,12],[13,14]])\n",
    "print(np.dot(a,b))"
   ]
  },
  {
   "cell_type": "code",
   "execution_count": 12,
   "metadata": {},
   "outputs": [
    {
     "name": "stdout",
     "output_type": "stream",
     "text": [
      "130\n"
     ]
    }
   ],
   "source": [
    "# numpy.vdot()\n",
    "# 此函数返回两个向量的点积。 如果第一个参数是复数，那么它的共轭复数会用于计算。 如果参数id是多维数组，它会被展开\n",
    "a=np.array([[1,2],[3,4]])\n",
    "b=np.array([[11,12],[13,14]])\n",
    "print(np.vdot(a,b))"
   ]
  },
  {
   "cell_type": "code",
   "execution_count": 14,
   "metadata": {},
   "outputs": [
    {
     "name": "stdout",
     "output_type": "stream",
     "text": [
      "2\n"
     ]
    }
   ],
   "source": [
    "# numpy.inner()\n",
    "# 此函数返回一维数组的向量内积。 对于更高的维度，它返回最后一个轴上的和的乘积。\n",
    "print(np.inner(np.array([1,2,3]),np.array([0,1,0])))"
   ]
  },
  {
   "cell_type": "code",
   "execution_count": 15,
   "metadata": {},
   "outputs": [
    {
     "name": "stdout",
     "output_type": "stream",
     "text": [
      "数组 a\n",
      "[[1 2]\n",
      " [3 4]]\n",
      "数组 b\n",
      "[[11 12]\n",
      " [13 14]]\n",
      "内积\n",
      "[[35 41]\n",
      " [81 95]]\n"
     ]
    }
   ],
   "source": [
    "a=np.array([[1,2],[3,4]])\n",
    "print('数组 a')\n",
    "print(a)\n",
    "b=np.array([[11,12],[13,14]])\n",
    "print('数组 b')\n",
    "print(b)\n",
    "\n",
    "print('内积')\n",
    "print(np.inner(a,b))"
   ]
  },
  {
   "cell_type": "code",
   "execution_count": 31,
   "metadata": {},
   "outputs": [
    {
     "name": "stdout",
     "output_type": "stream",
     "text": [
      "[ 5  2 20]\n",
      "[ 5  2 20]\n"
     ]
    }
   ],
   "source": [
    "# numpy.matmul\n",
    "# numpy.matmul()函数返回两个数组的矩阵乘积。 虽然它返回二维数组的正常乘积，但如果任一参数的维数大于2，则将其视为存在于最后两个索引的矩阵的栈，并进行相应广播。\n",
    "# 另一方面，如果任一参数是一维数组，则通过在其维度上附加 1 来将其提升为矩阵，并在乘法之后被去除。\n",
    "a=[[1,0],[0,1]]\n",
    "b=[[4,1],[2,2]]\n",
    "# print(np.matmul(a,b))\n",
    "# print('********')\n",
    "# #一维和二维运算\n",
    "a=np.array([[1,2],[0,1],[6,7]])\n",
    "b=np.array([1,2])\n",
    "print(np.dot(a,b))\n",
    "print(np.matmul(a,b))\n",
    "# print(np.matmul(b,a))"
   ]
  },
  {
   "cell_type": "code",
   "execution_count": 33,
   "metadata": {},
   "outputs": [
    {
     "name": "stdout",
     "output_type": "stream",
     "text": [
      "[[[0 1]\n",
      "  [2 3]]\n",
      "\n",
      " [[4 5]\n",
      "  [6 7]]]\n",
      "[[0 1]\n",
      " [2 3]]\n",
      "[[[ 2  3]\n",
      "  [ 6 11]]\n",
      "\n",
      " [[10 19]\n",
      "  [14 27]]]\n"
     ]
    }
   ],
   "source": [
    "#维度大于2的数组\n",
    "a=np.arange(8).reshape(2,2,2)\n",
    "b=np.arange(4).reshape(2,2)\n",
    "print(a)\n",
    "print(b)\n",
    "print(np.matmul(a,b))\n"
   ]
  },
  {
   "cell_type": "code",
   "execution_count": 40,
   "metadata": {},
   "outputs": [
    {
     "name": "stdout",
     "output_type": "stream",
     "text": [
      "-2.0\n",
      "[[ 6  1  1]\n",
      " [ 4 -2  5]\n",
      " [ 2  8  5]]\n",
      "-2.0\n",
      "-314\n"
     ]
    }
   ],
   "source": [
    "# numpy.linalg.det()\n",
    "# 行列式在线性代数中是非常有用的值。 它从方阵的对角元素计算。 对于 2×2 矩阵，它是左上和右下元素的乘积与其他两个的乘积的差。\n",
    "# 换句话说，对于矩阵[[a，b]，[c，d]]，行列式计算为ad-bc。 较大的方阵被认为是 2×2 矩阵的组合。\n",
    "# numpy.linalg.det()函数计算输入矩阵的行列式。\n",
    "a=np.array([[1,2],[3,4]])\n",
    "print(np.linalg.det(a))\n",
    "\n",
    "b=np.array([[6,1,1],[4,-2,5],[2,8,5]])\n",
    "print(b)\n",
    "print(np.linalg.det(a))\n",
    "print(6*(-2*7-5*8)-1*(4*7-5*2)+1*(4*8-2*2))"
   ]
  },
  {
   "cell_type": "code",
   "execution_count": 41,
   "metadata": {},
   "outputs": [
    {
     "name": "stdout",
     "output_type": "stream",
     "text": [
      "[[1 2]\n",
      " [3 4]]\n",
      "[[-2.   1. ]\n",
      " [ 1.5 -0.5]]\n",
      "[[  1.00000000e+00   0.00000000e+00]\n",
      " [  8.88178420e-16   1.00000000e+00]]\n"
     ]
    }
   ],
   "source": [
    "# numpy.linalg.solve()\n",
    "# numpy.linalg.solve()函数给出了矩阵形式的线性方程的解。\n",
    "\n",
    "# numpy.linalg.inv()\n",
    "# 我们使用numpy.linalg.inv()函数来计算矩阵的逆。 矩阵的逆是这样的，如果它乘以原始矩阵，则得到单位矩阵。\n",
    "\n",
    "x=np.array([[1,2],[3,4]])\n",
    "y=np.linalg.inv(x)\n",
    "print(x)\n",
    "print(y)\n",
    "print(np.dot(x,y))"
   ]
  },
  {
   "cell_type": "code",
   "execution_count": 42,
   "metadata": {},
   "outputs": [
    {
     "name": "stdout",
     "output_type": "stream",
     "text": [
      "数组是\n",
      "[[ 1  1  1]\n",
      " [ 0  2  5]\n",
      " [ 2  5 -1]]\n",
      "a的逆\n",
      "[[ 1.28571429 -0.28571429 -0.14285714]\n",
      " [-0.47619048  0.14285714  0.23809524]\n",
      " [ 0.19047619  0.14285714 -0.0952381 ]]\n",
      "矩阵b\n",
      "[[ 6]\n",
      " [-4]\n",
      " [27]]\n",
      "计算： A^(-1)B:\n",
      "[[ 5.]\n",
      " [ 3.]\n",
      " [-2.]]\n"
     ]
    }
   ],
   "source": [
    "# 我们使用numpy.linalg.inv()函数来计算矩阵的逆。 矩阵的逆是这样的，如果它乘以原始矩阵，则得到单位矩阵。\n",
    "a=np.array([[1,1,1],[0,2,5],[2,5,-1]])\n",
    "print('数组是')\n",
    "print(a)\n",
    "ainv=np.linalg.inv(a)\n",
    "\n",
    "print('a的逆')\n",
    "print(ainv)\n",
    "print('矩阵b')\n",
    "b=np.array([[6],[-4],[27]])\n",
    "print(b)\n",
    "\n",
    "print('计算： A^(-1)B:')\n",
    "x=np.linalg.solve(a,b)\n",
    "print(x)"
   ]
  },
  {
   "cell_type": "code",
   "execution_count": 45,
   "metadata": {},
   "outputs": [],
   "source": [
    "# Matplotlib 是 Python 的绘图库。 它可与 NumPy 一起使用，提供了一种有效的 MatLab 开源替代方案。 它也可以和图形工具包一起使用，如 PyQt 和 wxPython。\n",
    "# Matplotlib 模块最初是由 John D. Hunter 编写的。 自 2012 年以来，Michael Droettboom 是主要开发者。 目前，Matplotlib 1.5.1 是可用的稳定版本。 该软件包可以二进制分发，其源代码形式在 www.matplotlib.org 上提供。\n",
    "# 通常，通过添加以下语句将包导入到 Python 脚本中：\n",
    "# from matplotlib import pyplot as plt\n",
    "# Python\n",
    "# 这里pyplot()是 matplotlib 库中最重要的函数，用于绘制 2D 数据。 以下脚本绘制方程y = 2x + 5\n",
    "\n",
    "from matplotlib import pyplot as plt"
   ]
  },
  {
   "cell_type": "code",
   "execution_count": 46,
   "metadata": {},
   "outputs": [
    {
     "data": {
      "image/png": "[encoded data removed]",
      "text/plain": [
       "<matplotlib.figure.Figure at 0xed9a860>"
      ]
     },
     "metadata": {},
     "output_type": "display_data"
    }
   ],
   "source": [
    "x=np.arange(1,11)\n",
    "y=2*x+5\n",
    "plt.title('Matplotlib demo')\n",
    "plt.xlabel('x label caption')\n",
    "plt.ylabel('y label caption')\n",
    "plt.plot(x,y)\n",
    "plt.show()"
   ]
  },
  {
   "cell_type": "code",
   "execution_count": 47,
   "metadata": {},
   "outputs": [
    {
     "data": {
      "image/png": "[encoded data removed]",
      "text/plain": [
       "<matplotlib.figure.Figure at 0x124d55c0>"
      ]
     },
     "metadata": {},
     "output_type": "display_data"
    }
   ],
   "source": [
    "x=np.arange(1,11)\n",
    "y=2*x+5\n",
    "plt.title('Die')\n",
    "plt.xlabel('time')\n",
    "plt.ylabel('hate')\n",
    "plt.plot(x,y,'ob')\n",
    "plt.show()"
   ]
  },
  {
   "cell_type": "code",
   "execution_count": 48,
   "metadata": {},
   "outputs": [
    {
     "data": {
      "image/png": "[encoded data removed]",
      "text/plain": [
       "<matplotlib.figure.Figure at 0x123ac320>"
      ]
     },
     "metadata": {},
     "output_type": "display_data"
    }
   ],
   "source": [
    "x=np.arange(0,3*np.pi,0.1)\n",
    "y=np.sin(x)\n",
    "plt.title('Go ding')\n",
    "#使用natplotlib来绘制点\n",
    "plt.plot(x,y)\n",
    "plt.show()"
   ]
  },
  {
   "cell_type": "code",
   "execution_count": 50,
   "metadata": {},
   "outputs": [
    {
     "data": {
      "image/png": "[encoded data removed]",
      "text/plain": [
       "<matplotlib.figure.Figure at 0x121542b0>"
      ]
     },
     "metadata": {},
     "output_type": "display_data"
    }
   ],
   "source": [
    "x=np.arange(0,3*np.pi,0.1)\n",
    "#计算正弦和余弦曲线上的点 x 和 y坐标\n",
    "y_sin=np.sin(x)\n",
    "y_cos=np.cos(x)\n",
    "#建立subplot网格，高为2，宽为1\n",
    "#激活第一个subplot\n",
    "plt.subplot(2,1,1)\n",
    "#绘制第一个图像\n",
    "plt.plot(x,y_sin)\n",
    "plt.title('Sine')\n",
    "\n",
    "#将第二个subplot激活，并绘制第二个图像\n",
    "plt.subplot(2,1,2)\n",
    "plt.plot(x,y_cos)\n",
    "plt.title('Cosine')\n",
    "#展示图像\n",
    "plt.show()"
   ]
  },
  {
   "cell_type": "code",
   "execution_count": 51,
   "metadata": {},
   "outputs": [
    {
     "data": {
      "image/png": "[encoded data removed]",
      "text/plain": [
       "<matplotlib.figure.Figure at 0x120436d8>"
      ]
     },
     "metadata": {},
     "output_type": "display_data"
    }
   ],
   "source": [
    "# bar()\n",
    "# pyplot子模块提供bar()函数来生成条形图。 以下示例生成两组x和y数组的条形图。\n",
    "x=[5,8,10]\n",
    "y=[12,16,6]\n",
    "x2=[6,9,11]\n",
    "y2=[6,15,7]\n",
    "plt.bar(x,y,align='center')\n",
    "plt.bar(x2,y2,color='g',align='center')\n",
    "plt.title('BAR')\n",
    "plt.ylabel('Y axis')\n",
    "plt.xlabel('X axis')\n",
    "plt.show()"
   ]
  },
  {
   "cell_type": "code",
   "execution_count": 53,
   "metadata": {},
   "outputs": [
    {
     "name": "stdout",
     "output_type": "stream",
     "text": [
      "[3 2 2 4 2]\n",
      "[  0  20  40  60  80 100]\n"
     ]
    }
   ],
   "source": [
    "# numpy.histogram()\n",
    "# numpy.histogram()函数将输入数组和bin作为两个参数。 bin数组中的连续元素用作每个bin的边界。\n",
    "\n",
    "a=np.array([22,87,5,43,56,67,78,89,34,2,3,67,78,213,])\n",
    "np.histogram(a,bins=[0,20,40,60,80,100])\n",
    "hist,bins=np.histogram(a,bins=[0,20,40,60,80,100])\n",
    "print(hist)\n",
    "print(bins)"
   ]
  },
  {
   "cell_type": "code",
   "execution_count": 54,
   "metadata": {},
   "outputs": [
    {
     "data": {
      "image/png": "[encoded data removed]",
      "text/plain": [
       "<matplotlib.figure.Figure at 0x120e9e80>"
      ]
     },
     "metadata": {},
     "output_type": "display_data"
    }
   ],
   "source": [
    "# plt()\n",
    "# Matplotlib 可以将直方图的数字表示转换为图形。 pyplot子模块的plt()函数将包含数据和bin数组的数组作为参数，并转换为直方图。\n",
    "a=np.array([22,87,5,43,56,73,55,54,11,20,51,5,79,21,27])\n",
    "plt.hist(a,bins=[0,20,40,60,80,100])\n",
    "plt.title('histogram')\n",
    "plt.show()"
   ]
  },
  {
   "cell_type": "code",
   "execution_count": 55,
   "metadata": {},
   "outputs": [],
   "source": [
    "# numpy.save()\n",
    "# numpy.save()文件将输入数组存储在具有npy扩展名的磁盘文件中。\n",
    "a=np.array([1,2,3,4,5])\n",
    "np.save('outfile',a)\n",
    "\n",
    "\n"
   ]
  },
  {
   "cell_type": "code",
   "execution_count": 56,
   "metadata": {},
   "outputs": [
    {
     "name": "stdout",
     "output_type": "stream",
     "text": [
      "[1 2 3 4 5]\n"
     ]
    }
   ],
   "source": [
    "b=np.load('outfile.npy')\n",
    "print(b)"
   ]
  },
  {
   "cell_type": "code",
   "execution_count": 57,
   "metadata": {},
   "outputs": [
    {
     "name": "stdout",
     "output_type": "stream",
     "text": [
      "[ 1.  2.  3.  4.  5.]\n"
     ]
    }
   ],
   "source": [
    "# savetxt()\n",
    "# 以简单文本文件格式存储和获取数组数据，是通过savetxt()和loadtx()函数完成的。\n",
    "\n",
    "a=np.array([1,2,3,4,5])\n",
    "np.savetxt('out.txt',a)\n",
    "b=np.loadtxt('out.txt')\n",
    "print(b)"
   ]
  },
  {
   "cell_type": "code",
   "execution_count": null,
   "metadata": {},
   "outputs": [],
   "source": []
  }
 ],
 "metadata": {
  "kernelspec": {
   "display_name": "Python 3",
   "language": "python",
   "name": "python3"
  },
  "language_info": {
   "codemirror_mode": {
    "name": "ipython",
    "version": 3
   },
   "file_extension": ".py",
   "mimetype": "text/x-python",
   "name": "python",
   "nbconvert_exporter": "python",
   "pygments_lexer": "ipython3",
   "version": "3.6.4"
  }
 },
 "nbformat": 4,
 "nbformat_minor": 2
}
