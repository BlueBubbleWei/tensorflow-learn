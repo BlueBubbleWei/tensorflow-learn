{
 "cells": [
  {
   "cell_type": "code",
   "execution_count": 2,
   "metadata": {},
   "outputs": [
    {
     "name": "stdout",
     "output_type": "stream",
     "text": [
      "[1 2 3]\n"
     ]
    }
   ],
   "source": [
    "import numpy as np\n",
    "a=np.array([1,2,3])\n",
    "print (a)"
   ]
  },
  {
   "cell_type": "code",
   "execution_count": 10,
   "metadata": {},
   "outputs": [
    {
     "name": "stdout",
     "output_type": "stream",
     "text": [
      "[[1 2 3]\n",
      " [4 5 6]]\n"
     ]
    }
   ],
   "source": [
    "#多于一个维度\n",
    "b=np.array([[1,2,3],[4,5,6]])\n",
    "print (b)"
   ]
  },
  {
   "cell_type": "code",
   "execution_count": 16,
   "metadata": {},
   "outputs": [
    {
     "name": "stdout",
     "output_type": "stream",
     "text": [
      "[[1 2 3 4 5]]\n"
     ]
    }
   ],
   "source": [
    "#最小维度\n",
    "c=np.array([1,2,3,4,5],ndmin=2)\n",
    "print (c)"
   ]
  },
  {
   "cell_type": "code",
   "execution_count": 17,
   "metadata": {},
   "outputs": [
    {
     "name": "stdout",
     "output_type": "stream",
     "text": [
      "[ 1.+0.j  2.+0.j  3.+0.j]\n"
     ]
    }
   ],
   "source": [
    "#dtype参数\n",
    "d=np.array([1,2,3],dtype=complex)\n",
    "print (d)"
   ]
  },
  {
   "cell_type": "code",
   "execution_count": 18,
   "metadata": {},
   "outputs": [
    {
     "name": "stdout",
     "output_type": "stream",
     "text": [
      "int32\n"
     ]
    }
   ],
   "source": [
    "#使用数组标量类型\n",
    "dt=np.dtype(np.int32)\n",
    "print(dt)"
   ]
  },
  {
   "cell_type": "code",
   "execution_count": 20,
   "metadata": {},
   "outputs": [
    {
     "name": "stdout",
     "output_type": "stream",
     "text": [
      "int32\n"
     ]
    }
   ],
   "source": [
    "dt=np.dtype('i4')\n",
    "print (dt)"
   ]
  },
  {
   "cell_type": "code",
   "execution_count": 28,
   "metadata": {},
   "outputs": [
    {
     "name": "stdout",
     "output_type": "stream",
     "text": [
      ">i4\n",
      "[('age', 'i1')]\n",
      "[(10,) (20,) (30,)]\n",
      "[10 20 30]\n",
      "[(b'abc', 21,  50.) (b'xy', 18,  75.)]\n"
     ]
    }
   ],
   "source": [
    "#使用端记号\n",
    "dt=np.dtype('>i4')\n",
    "print (dt)\n",
    "\n",
    "#构建结构化数据类型\n",
    "dt=np.dtype([('age',np.int8)])\n",
    "print (dt)\n",
    "\n",
    "#现在将其应用于ndarray对象\n",
    "aa=np.array([(10,),(20,),(30,)],dtype=dt)\n",
    "print (aa)\n",
    "\n",
    "#文件名称可用于访问age列的内容\n",
    "print (aa['age'])\n",
    "\n",
    "\n",
    "#以下示例定义名为 student 的结构化数据类型，\n",
    "#其中包含字符串字段name，整数字段age和浮点字段marks。\n",
    "#此dtype应用于ndarray对象。\n",
    "student=np.dtype([('name','S20'),('age','i1'),('mark','f4')])\n",
    "list_tup=np.array([('abc',21,50),('xy',18,75)],dtype=student)\n",
    "print (list_tup)\n"
   ]
  },
  {
   "cell_type": "code",
   "execution_count": 24,
   "metadata": {},
   "outputs": [],
   "source": [
    "# class A:\n",
    "#     def __init__(self):\n",
    "#         self.a = [99999999 ** 10] * 50\n",
    "        \n",
    "# d = []\n",
    "# for i in range(2000000):\n",
    "#     d.append(A())\n",
    "    \n",
    "# d = None"
   ]
  },
  {
   "cell_type": "code",
   "execution_count": 39,
   "metadata": {},
   "outputs": [
    {
     "name": "stdout",
     "output_type": "stream",
     "text": [
      "(2, 3)\n",
      "[[1 2]\n",
      " [3 4]\n",
      " [5 6]]\n"
     ]
    }
   ],
   "source": [
    "# ndarray.shape\n",
    "# 这一数组属性返回一个包含数组维度的元组，它也可以用于调整数组大小。\n",
    "a=np.array([[1,2,3],[4,5,6]])\n",
    "print(a.shape)\n",
    "\n",
    "# 这会调整数组大小 \n",
    "a=np.array([[1,2,3],[4,5,6]])\n",
    "a.shape=(3,2)\n",
    "print (a)"
   ]
  },
  {
   "cell_type": "code",
   "execution_count": 40,
   "metadata": {},
   "outputs": [
    {
     "name": "stdout",
     "output_type": "stream",
     "text": [
      "[[ 1.  2.]\n",
      " [ 3.  4.]\n",
      " [ 5.  6.]]\n"
     ]
    }
   ],
   "source": [
    "#NumPy 也提供了reshape函数来调整数组大小。\n",
    "a=np.array([[1.,2,3],[4,5,6]])\n",
    "b=a.reshape(3,2)\n",
    "print (b)"
   ]
  },
  {
   "cell_type": "code",
   "execution_count": 42,
   "metadata": {},
   "outputs": [
    {
     "name": "stdout",
     "output_type": "stream",
     "text": [
      "[ 0  1  2  3  4  5  6  7  8  9 10 11 12 13 14 15 16 17 18 19 20 21 22 23]\n",
      "1\n",
      "[[[ 0  1  2]\n",
      "  [ 3  4  5]\n",
      "  [ 6  7  8]\n",
      "  [ 9 10 11]]\n",
      "\n",
      " [[12 13 14]\n",
      "  [15 16 17]\n",
      "  [18 19 20]\n",
      "  [21 22 23]]]\n"
     ]
    }
   ],
   "source": [
    "# ndarray.ndim\n",
    "# 这一数组属性返回数组的维数。\n",
    "#等间隔数字的数组\n",
    "a=np.arange(24)\n",
    "print (a)\n",
    "\n",
    "#一维数组\n",
    "a=np.arange(24)\n",
    "a.ndim\n",
    "print(a.ndim)\n",
    "#现在调整其大小\n",
    "b=a.reshape(2,4,3)\n",
    "print (b)"
   ]
  },
  {
   "cell_type": "code",
   "execution_count": 46,
   "metadata": {},
   "outputs": [
    {
     "name": "stdout",
     "output_type": "stream",
     "text": [
      "1\n",
      "4\n"
     ]
    }
   ],
   "source": [
    "# umpy.itemsize\n",
    "# 这一数组属性返回数组中每个元素的字节单位长度。\n",
    "#数组的dtype为int8(一个字节)\n",
    "x=np.array([1,2,3,4,5],dtype=np.int8)\n",
    "print (x.itemsize)\n",
    "\n",
    "#数组的dtype现在为float32(四个字节)\n",
    "x=np.array([1,2,3,4,5],dtype=np.float32)\n",
    "print (x.itemsize)"
   ]
  },
  {
   "cell_type": "code",
   "execution_count": 47,
   "metadata": {},
   "outputs": [
    {
     "name": "stdout",
     "output_type": "stream",
     "text": [
      "  C_CONTIGUOUS : True\n",
      "  F_CONTIGUOUS : True\n",
      "  OWNDATA : True\n",
      "  WRITEABLE : True\n",
      "  ALIGNED : True\n",
      "  UPDATEIFCOPY : False\n"
     ]
    }
   ],
   "source": [
    "# numpy.flags\n",
    "x=np.array([1,2,3,4])\n",
    "print (x.flags)"
   ]
  },
  {
   "cell_type": "code",
   "execution_count": 48,
   "metadata": {},
   "outputs": [
    {
     "name": "stdout",
     "output_type": "stream",
     "text": [
      "[[1 2]\n",
      " [3 4]\n",
      " [5 6]]\n"
     ]
    }
   ],
   "source": [
    "# numpy.empty\n",
    "# 它创建指定形状和dtype的未初始化数组。 它使用以下构造函数：\n",
    "x=np.empty([3,2], dtype=int)\n",
    "print (x)"
   ]
  },
  {
   "cell_type": "code",
   "execution_count": 51,
   "metadata": {},
   "outputs": [
    {
     "name": "stdout",
     "output_type": "stream",
     "text": [
      "[ 0.  0.  0.  0.  0.]\n"
     ]
    }
   ],
   "source": [
    "#含有5个0的数组，默认类型为float\n",
    "x=np.zeros(5)\n",
    "print (x)"
   ]
  },
  {
   "cell_type": "code",
   "execution_count": 50,
   "metadata": {},
   "outputs": [
    {
     "name": "stdout",
     "output_type": "stream",
     "text": [
      "[0 0 0 0 0]\n"
     ]
    }
   ],
   "source": [
    "#将其改为int类型\n",
    "x=np.zeros((5,),dtype=np.int)\n",
    "print (x)"
   ]
  },
  {
   "cell_type": "code",
   "execution_count": 52,
   "metadata": {},
   "outputs": [
    {
     "name": "stdout",
     "output_type": "stream",
     "text": [
      "[[(0, 0) (0, 0)]\n",
      " [(0, 0) (0, 0)]]\n"
     ]
    }
   ],
   "source": [
    "#自定义类型\n",
    "x=np.zeros((2,2,),dtype=[('x','i4'),('y','i4')])\n",
    "print(x)"
   ]
  },
  {
   "cell_type": "code",
   "execution_count": 53,
   "metadata": {},
   "outputs": [
    {
     "name": "stdout",
     "output_type": "stream",
     "text": [
      "[1 2 3]\n"
     ]
    }
   ],
   "source": [
    "#将列表转换为ndarray\n",
    "x=[1,2,3]\n",
    "a=np.asarray(x)\n",
    "print (a)"
   ]
  },
  {
   "cell_type": "code",
   "execution_count": 54,
   "metadata": {},
   "outputs": [
    {
     "name": "stdout",
     "output_type": "stream",
     "text": [
      "[ 1.  2.  3.]\n"
     ]
    }
   ],
   "source": [
    "#设置了dtype\n",
    "x=[1,2,3]\n",
    "a=np.asarray(x,dtype=float)\n",
    "print (a)"
   ]
  },
  {
   "cell_type": "code",
   "execution_count": 55,
   "metadata": {},
   "outputs": [
    {
     "name": "stdout",
     "output_type": "stream",
     "text": [
      "[1 2 3]\n"
     ]
    }
   ],
   "source": [
    "#来自元组的ndarray\n",
    "x=(1,2,3)\n",
    "a=np.asarray(x)\n",
    "print(a)"
   ]
  },
  {
   "cell_type": "code",
   "execution_count": 56,
   "metadata": {},
   "outputs": [
    {
     "name": "stdout",
     "output_type": "stream",
     "text": [
      "[(1, 2, 3) (4, 5)]\n"
     ]
    }
   ],
   "source": [
    "#来自元组列表的ndarray\n",
    "x=[(1,2,3),(4,5)]\n",
    "a=np.asarray(x)\n",
    "print (a)"
   ]
  },
  {
   "cell_type": "code",
   "execution_count": 61,
   "metadata": {},
   "outputs": [
    {
     "name": "stdout",
     "output_type": "stream",
     "text": [
      "[b'H' b'e' b'l' b'l' b'o' b'w' b'o' b'r' b'l' b'd']\n"
     ]
    }
   ],
   "source": [
    "# numpy.frombuffer\n",
    "# 此函数将缓冲区解释为一维数组。 暴露缓冲区接口的任何对象都用作参数来返回ndarray\n",
    "s=\"Helloworld\".encode('ascii')#首先要经过编码\n",
    "a=np.frombuffer(s,dtype='S1')\n",
    "print (a)"
   ]
  },
  {
   "cell_type": "code",
   "execution_count": 66,
   "metadata": {},
   "outputs": [
    {
     "name": "stdout",
     "output_type": "stream",
     "text": [
      "range(0, 5)\n"
     ]
    }
   ],
   "source": [
    "#使用ranage函数创建列表对象  果然没有显示列表值，只有iter创建才可以\n",
    "list=range(5)\n",
    "print (list)"
   ]
  },
  {
   "cell_type": "code",
   "execution_count": 67,
   "metadata": {},
   "outputs": [
    {
     "name": "stdout",
     "output_type": "stream",
     "text": [
      "[ 0.  1.  2.  3.  4.]\n"
     ]
    }
   ],
   "source": [
    "#从列表中获得迭代器\n",
    "list=range(5)\n",
    "it=iter(list)#使用迭代器创建ndarray  \n",
    "x=np.fromiter(it,dtype=float)\n",
    "print (x)"
   ]
  },
  {
   "cell_type": "code",
   "execution_count": 70,
   "metadata": {},
   "outputs": [
    {
     "name": "stdout",
     "output_type": "stream",
     "text": [
      "[0 1 2 3 4]\n"
     ]
    }
   ],
   "source": [
    "# numpy.arange\n",
    "# 这个函数返回ndarray对象，包含给定范围内的等间隔值。\n",
    "x=np.arange(5)\n",
    "print (x)"
   ]
  },
  {
   "cell_type": "code",
   "execution_count": 71,
   "metadata": {},
   "outputs": [
    {
     "name": "stdout",
     "output_type": "stream",
     "text": [
      "[ 0.  1.  2.  3.  4.]\n"
     ]
    }
   ],
   "source": [
    "#设置了dtype\n",
    "x=np.arange(5,dtype=float)\n",
    "print(x)"
   ]
  },
  {
   "cell_type": "code",
   "execution_count": 72,
   "metadata": {},
   "outputs": [
    {
     "name": "stdout",
     "output_type": "stream",
     "text": [
      "[10 12 14 16 18]\n"
     ]
    }
   ],
   "source": [
    "#设置了起始值和终止值的参数\n",
    "x=np.arange(10,20,2)\n",
    "print (x)"
   ]
  },
  {
   "cell_type": "code",
   "execution_count": 73,
   "metadata": {},
   "outputs": [
    {
     "name": "stdout",
     "output_type": "stream",
     "text": [
      "[ 10.  20.  30.  40.  50.]\n"
     ]
    }
   ],
   "source": [
    "# numpy.linspace\n",
    "# 此函数类似于arange()函数。 在此函数中，指定了范围之间的均匀间隔数量，而不是步长。 此函数的用法如下。\n",
    "x=np.linspace(10,50,5)\n",
    "print (x)\n"
   ]
  },
  {
   "cell_type": "code",
   "execution_count": 74,
   "metadata": {},
   "outputs": [
    {
     "name": "stdout",
     "output_type": "stream",
     "text": [
      "[ 10.  12.  14.  16.  18.]\n"
     ]
    }
   ],
   "source": [
    "x=np.linspace(10,20,5)\n",
    "print (x)\n",
    "#将endpoint设为false\n",
    "x=np.linspace(10,20,5,endpoint=False)#这是按整数划分\n",
    "print (x)"
   ]
  },
  {
   "cell_type": "code",
   "execution_count": 77,
   "metadata": {},
   "outputs": [
    {
     "name": "stdout",
     "output_type": "stream",
     "text": [
      "(array([ 1.  ,  1.25,  1.5 ,  1.75,  2.  ]), 0.25)\n"
     ]
    }
   ],
   "source": [
    "#输出retstep的值\n",
    "x=np.linspace(1,2,5,retstep=True)#显示每个间隔之间的间隔值\n",
    "print (x)"
   ]
  },
  {
   "cell_type": "code",
   "execution_count": 79,
   "metadata": {},
   "outputs": [
    {
     "name": "stdout",
     "output_type": "stream",
     "text": [
      "[  10.           12.91549665   16.68100537   21.5443469    27.82559402\n",
      "   35.93813664   46.41588834   59.94842503   77.42636827  100.        ]\n"
     ]
    }
   ],
   "source": [
    "# numpy.logspace\n",
    "# 此函数返回一个ndarray对象，其中包含在对数刻度上均匀分布的数字。 刻度的开始和结束端点是某个底数的幂，通常为 10。\n",
    "#默认底数是10\n",
    "a=np.logspace(1.0,2.0,num=10)\n",
    "print (a)"
   ]
  },
  {
   "cell_type": "code",
   "execution_count": 80,
   "metadata": {},
   "outputs": [
    {
     "name": "stdout",
     "output_type": "stream",
     "text": [
      "[    2.     4.     8.    16.    32.    64.   128.   256.   512.  1024.]\n"
     ]
    }
   ],
   "source": [
    "#将对数空间的底数设置为2\n",
    "a=np.logspace(1,10,num=10,base=2)\n",
    "print (a)"
   ]
  },
  {
   "cell_type": "code",
   "execution_count": 82,
   "metadata": {},
   "outputs": [
    {
     "name": "stdout",
     "output_type": "stream",
     "text": [
      "[0 1 2 3 4 5 6 7 8 9]\n",
      "slice(2, 7, 2)\n",
      "[2 4 6]\n"
     ]
    }
   ],
   "source": [
    "# 基本切片是 Python 中基本切片概念到 n 维的扩展。 \n",
    "# 通过将start，stop和step参数提供给内置的slice函数来构造一个 Python slice对象。 此slice对象被传递给数组来提取数组的一部分。\n",
    "a=np.arange(10)\n",
    "s=slice(2,7,2)\n",
    "print (a)\n",
    "print(s)\n",
    "print (a[s])"
   ]
  },
  {
   "cell_type": "code",
   "execution_count": 83,
   "metadata": {},
   "outputs": [
    {
     "name": "stdout",
     "output_type": "stream",
     "text": [
      "[2 4 6]\n"
     ]
    }
   ],
   "source": [
    "a=np.arange(10)\n",
    "b=a[2:7:2]\n",
    "print (b)"
   ]
  },
  {
   "cell_type": "code",
   "execution_count": 85,
   "metadata": {},
   "outputs": [
    {
     "name": "stdout",
     "output_type": "stream",
     "text": [
      "[2 3 4 5 6 7 8 9]\n"
     ]
    }
   ],
   "source": [
    "#对单个元素进行切片\n",
    "a=np.arange(10)\n",
    "print( a[2])"
   ]
  },
  {
   "cell_type": "code",
   "execution_count": 91,
   "metadata": {},
   "outputs": [
    {
     "name": "stdout",
     "output_type": "stream",
     "text": [
      "[3 4 5 6 7 8 9]\n",
      "[2 3 4]\n"
     ]
    }
   ],
   "source": [
    "#对食欲索引的元素进行切片\n",
    "a=np.arange(10)\n",
    "print (a[3:])\n",
    "print (a[2:5])"
   ]
  },
  {
   "cell_type": "code",
   "execution_count": 95,
   "metadata": {},
   "outputs": [
    {
     "name": "stdout",
     "output_type": "stream",
     "text": [
      "[[1 2 3]\n",
      " [4 5 6]\n",
      " [7 8 9]]\n",
      "现在我们从索引a[1:]开始对数组进行切片\n",
      "[[1 2 3]\n",
      " [4 5 6]\n",
      " [7 8 9]]\n"
     ]
    }
   ],
   "source": [
    "#对索引之间的元素进行切片\n",
    "a=np.array([[1,2,3],[4,5,6],[7,8,9]])\n",
    "print (a)\n",
    "#对于始于索引的元素进行切片\n",
    "print ('现在我们从索引a[1:]开始对数组进行切片')\n",
    "print (a[0:])"
   ]
  },
  {
   "cell_type": "code",
   "execution_count": 105,
   "metadata": {},
   "outputs": [
    {
     "name": "stdout",
     "output_type": "stream",
     "text": [
      "我们的数组是：\n",
      "[[1 2 3]\n",
      " [4 5 6]\n",
      " [7 8 9]]\n",
      "\n",
      "\n",
      "第二列的元素是：\n",
      "[2 5 8]\n",
      "第二行的元素是：\n",
      "[4 5 6]\n",
      "\n",
      "\n",
      "第二列及其剩余的元素是：\n",
      "[[2 3]\n",
      " [5 6]\n",
      " [8 9]]\n"
     ]
    }
   ],
   "source": [
    "# 切片还可以包括省略号(...)，\n",
    "# 来使选择元组的长度与数组的维度相同。 如果在行位置使用省略号，它将返回包含行中元素的ndarray。\n",
    "\n",
    "#最开始的数组\n",
    "a=np.array([[1,2,3],[4,5,6],[7,8,9]])\n",
    "print ('我们的数组是：')\n",
    "print (a)\n",
    "print('\\n')\n",
    "#这会返回第二列的数组\n",
    "print('第二列的元素是：')\n",
    "print (a[...,1])\n",
    "print('第二行的元素是：')\n",
    "print (a[1,...])\n",
    "print ('\\n')\n",
    "#现在我们从第二列向后切片所有的元素：\n",
    "print ('第二列及其剩余的元素是：')\n",
    "print (a[...,1:])\n"
   ]
  },
  {
   "cell_type": "code",
   "execution_count": 106,
   "metadata": {},
   "outputs": [
    {
     "name": "stdout",
     "output_type": "stream",
     "text": [
      "[0 4 6]\n"
     ]
    }
   ],
   "source": [
    "# 整数索引\n",
    "# 这种机制有助于基于 N 维索引来获取数组中任意元素。 每个整数数组表示该维度的下标值。 当索引的元素个数就是目标ndarray的维度时，会变得相当直接。\n",
    "x=np.array([[0,1,2],[3,4,5],[6,7,8]])\n",
    "y=x[[0,1,2],[0,1,0]]\n",
    "print (y)"
   ]
  },
  {
   "cell_type": "code",
   "execution_count": 113,
   "metadata": {},
   "outputs": [
    {
     "name": "stdout",
     "output_type": "stream",
     "text": [
      "我们的数组是：\n",
      "[[ 0  1  2]\n",
      " [ 3  4  5]\n",
      " [ 6  7  8]\n",
      " [ 9 10 11]]\n",
      "\n",
      "\n",
      "[[0 0]\n",
      " [3 3]]\n",
      "[[0 2]\n",
      " [0 2]]\n",
      "[[ 0  2]\n",
      " [ 9 11]]\n",
      "这个数组的每个角元素的元素是：\n",
      "[[ 0  2]\n",
      " [ 9 11]]\n"
     ]
    }
   ],
   "source": [
    "x=np.array([[0,1,2],[3,4,5],[6,7,8],[9,10,11]])\n",
    "print('我们的数组是：')\n",
    "print (x)\n",
    "print('\\n')\n",
    "rows=np.array([[0,0],[3,3]])\n",
    "cols=np.array([[0,2],[0,2]])\n",
    "y=x[rows,cols]\n",
    "print(rows)\n",
    "print (cols)\n",
    "print (y)\n",
    "print ('这个数组的每个角元素的元素是：')\n",
    "print (y)"
   ]
  },
  {
   "cell_type": "code",
   "execution_count": 115,
   "metadata": {},
   "outputs": [
    {
     "name": "stdout",
     "output_type": "stream",
     "text": [
      "我们的数组是：\n",
      "[[ 1  2  3]\n",
      " [ 4  5  6]\n",
      " [ 7  8  9]\n",
      " [10 11 12]]\n",
      "\n",
      "\n",
      "切片后，我们的数组变为：\n",
      "[[ 5  6]\n",
      " [ 8  9]\n",
      " [11 12]]\n",
      "\n",
      "\n",
      "对列使用高级索引来切片：\n",
      "[[ 5  6]\n",
      " [ 8  9]\n",
      " [11 12]]\n"
     ]
    }
   ],
   "source": [
    "# 高级和基本索引可以通过使用切片:或省略号...与索引数组组合。\n",
    "# 以下示例使用slice作为列索引和高级索引。 当切片用于两者时，结果是相同的。 但高级索引会导致复制，并且可能有不同的内存布局。\n",
    "x=np.array([[1,2,3],[4,5,6],[7,8,9],[10,11,12]])\n",
    "print ('我们的数组是：')\n",
    "print (x)\n",
    "print ('\\n')\n",
    "#切片\n",
    "z=x[1:4,1:3]\n",
    "print('切片后，我们的数组变为：')\n",
    "print (z)\n",
    "print ('\\n')\n",
    "#对列使用高级索引\n",
    "y=x[1:4,[1,2]]\n",
    "print ('对列使用高级索引来切片：')\n",
    "print (y)"
   ]
  },
  {
   "cell_type": "code",
   "execution_count": 116,
   "metadata": {},
   "outputs": [
    {
     "name": "stdout",
     "output_type": "stream",
     "text": [
      "我们的数组是：\n",
      "[[ 1  2  3]\n",
      " [ 4  5  6]\n",
      " [ 7  8  9]\n",
      " [10 11 12]]\n",
      "\n",
      "\n",
      "大于5的元素是：\n",
      "[ 6  7  8  9 10 11 12]\n"
     ]
    }
   ],
   "source": [
    "# 当结果对象是布尔运算(例如比较运算符)的结果时，将使用此类型的高级索引。\n",
    "x=np.array([[1,2,3],[4,5,6],[7,8,9],[10,11,12]])\n",
    "print ('我们的数组是：')\n",
    "print (x)\n",
    "print ('\\n')\n",
    "#现在我们会打印出大于5的元素\n",
    "print('大于5的元素是：')\n",
    "print(x[x>5])\n",
    "\n",
    "\n",
    "\n"
   ]
  },
  {
   "cell_type": "code",
   "execution_count": 120,
   "metadata": {},
   "outputs": [
    {
     "name": "stdout",
     "output_type": "stream",
     "text": [
      "[ 1.  2.  3.  4.  5.]\n"
     ]
    }
   ],
   "source": [
    "# 这个例子使用了~(取补运算符)来过滤NaN\n",
    "a=np.array([np.nan,1,2,np.nan,3,4,5])\n",
    "print (a[~np.isnan(a)])#过滤掉NAN"
   ]
  },
  {
   "cell_type": "code",
   "execution_count": 125,
   "metadata": {},
   "outputs": [
    {
     "name": "stdout",
     "output_type": "stream",
     "text": [
      "[ 1.+0.j  5.+0.j]\n"
     ]
    }
   ],
   "source": [
    "# 以下示例显示如何从数组中过滤掉非复数元素。\n",
    "a=np.array([1,2+6j,5,3.5+5j])\n",
    "print (a[np.iscomplex(a)])#获取复数"
   ]
  },
  {
   "cell_type": "code",
   "execution_count": 126,
   "metadata": {},
   "outputs": [
    {
     "name": "stdout",
     "output_type": "stream",
     "text": [
      "[ 10  40  90 160]\n"
     ]
    }
   ],
   "source": [
    "# NumPy - 广播\n",
    "# 术语广播是指 NumPy 在算术运算期间处理不同形状的数组的能力。\n",
    "# 对数组的算术运算通常在相应的元素上进行。 如果两个阵列具有完全相同的形状，则这些操作被无缝执行。\n",
    "a=np.array([1,2,3,4])\n",
    "b=np.array([10,20,30,40])\n",
    "c=a*b\n",
    "print (c)"
   ]
  },
  {
   "cell_type": "code",
   "execution_count": 127,
   "metadata": {},
   "outputs": [
    {
     "name": "stdout",
     "output_type": "stream",
     "text": [
      "第一个数组\n",
      "[[  0.   0.   0.]\n",
      " [ 10.  10.  10.]\n",
      " [ 20.  20.  20.]\n",
      " [ 30.  30.  30.]]\n",
      "\n",
      "\n",
      "第二个数组：\n",
      "[ 1.  2.  3.]\n",
      "\n",
      "\n",
      "第一个数组加上第二个数组：\n",
      "[[  1.   2.   3.]\n",
      " [ 11.  12.  13.]\n",
      " [ 21.  22.  23.]\n",
      " [ 31.  32.  33.]]\n"
     ]
    }
   ],
   "source": [
    "a=np.array([[0.0,0.0,0.0],[10.0,10.0,10.0],[20.0,20.0,20.0],[30.0,30.0,30.0]])\n",
    "b=np.array([1.0,2.0,3.0])\n",
    "print ('第一个数组')\n",
    "print (a)\n",
    "print ('\\n')\n",
    "print('第二个数组：')\n",
    "print (b)\n",
    "print ('\\n')\n",
    "print('第一个数组加上第二个数组：')\n",
    "print(a+b)"
   ]
  },
  {
   "cell_type": "code",
   "execution_count": 128,
   "metadata": {},
   "outputs": [
    {
     "name": "stdout",
     "output_type": "stream",
     "text": [
      "原始数组第：\n",
      "[[ 0  5 10 15]\n",
      " [20 25 30 35]\n",
      " [40 45 50 55]]\n",
      "\n",
      "\n",
      "修改后的数组是\n",
      "0\n",
      "5\n",
      "10\n",
      "15\n",
      "20\n",
      "25\n",
      "30\n",
      "35\n",
      "40\n",
      "45\n",
      "50\n",
      "55\n"
     ]
    }
   ],
   "source": [
    "# NumPy - 数组上的迭代\n",
    "# NumPy 包包含一个迭代器对象numpy.nditer。 它是一个有效的多维迭代器对象，可以用于在数组上进行迭代。\n",
    "# 数组的每个元素可使用 Python 的标准Iterator接口来访问。\n",
    "# 让我们使用arange()函数创建一个 3X4 数组，并使用nditer对它进行迭代。\n",
    "a=np.arange(0,60,5)\n",
    "a=a.reshape(3,4)\n",
    "print (\"原始数组第：\")\n",
    "print (a)\n",
    "print ('\\n')\n",
    "print('修改后的数组是')\n",
    "for x in np.nditer(a):\n",
    "    print(x)"
   ]
  },
  {
   "cell_type": "code",
   "execution_count": 129,
   "metadata": {},
   "outputs": [
    {
     "name": "stdout",
     "output_type": "stream",
     "text": [
      "原始数组是：\n",
      "[[ 0  5 10 15]\n",
      " [20 25 30 35]\n",
      " [40 45 50 55]]\n",
      "\n",
      "\n",
      "原始数组的转置是\n",
      "[[ 0 20 40]\n",
      " [ 5 25 45]\n",
      " [10 30 50]\n",
      " [15 35 55]]\n",
      "\n",
      "\n",
      "修改后的数组是：\n",
      "0\n",
      "5\n",
      "10\n",
      "15\n",
      "20\n",
      "25\n",
      "30\n",
      "35\n",
      "40\n",
      "45\n",
      "50\n",
      "55\n"
     ]
    }
   ],
   "source": [
    "# 迭代的顺序匹配数组的内容布局，而不考虑特定的排序。 这可以通过迭代上述数组的转置来看到\n",
    "a=np.arange(0,60,5)\n",
    "a=a.reshape(3,4)\n",
    "print('原始数组是：')\n",
    "print(a)\n",
    "print('\\n')\n",
    "print('原始数组的转置是')\n",
    "b=a.T\n",
    "print(b)\n",
    "print('\\n')\n",
    "\n",
    "print('修改后的数组是：')\n",
    "for x in np.nditer(b):\n",
    "    print(x)\n",
    "\n",
    "      "
   ]
  },
  {
   "cell_type": "code",
   "execution_count": 132,
   "metadata": {},
   "outputs": [
    {
     "name": "stdout",
     "output_type": "stream",
     "text": [
      "原始数组是：\n",
      "[[ 0  5 10 15]\n",
      " [20 25 30 35]\n",
      " [40 45 50 55]]\n",
      "\n",
      "\n",
      "原始数组的转置是：\n",
      "[[ 0 20 40]\n",
      " [ 5 25 45]\n",
      " [10 30 50]\n",
      " [15 35 55]]\n",
      "\n",
      "\n",
      "以C风格顺序排序：\n",
      "[[ 0 20 40]\n",
      " [ 5 25 45]\n",
      " [10 30 50]\n",
      " [15 35 55]]\n",
      "0\n",
      "20\n",
      "40\n",
      "5\n",
      "25\n",
      "45\n",
      "10\n",
      "30\n",
      "50\n",
      "15\n",
      "35\n",
      "55\n",
      "\n",
      "\n",
      "以F风格顺序排序：\n",
      "[[ 0 20 40]\n",
      " [ 5 25 45]\n",
      " [10 30 50]\n",
      " [15 35 55]]\n",
      "0\n",
      "5\n",
      "10\n",
      "15\n",
      "20\n",
      "25\n",
      "30\n",
      "35\n",
      "40\n",
      "45\n",
      "50\n",
      "55\n"
     ]
    }
   ],
   "source": [
    "# 迭代顺序\n",
    "# 如果相同元素使用 F 风格顺序存储，则迭代器选择以更有效的方式对数组进行迭代。\n",
    "a=np.arange(0,60,5)\n",
    "a=a.reshape(3,4)\n",
    "print('原始数组是：')\n",
    "print (a)\n",
    "print('\\n')\n",
    "print('原始数组的转置是：')\n",
    "b=a.T\n",
    "print(b)\n",
    "print('\\n')\n",
    "print('以C风格顺序排序：')\n",
    "c=b.copy(order='C')\n",
    "print(c )\n",
    "for x in np.nditer(c):\n",
    "    print(x)\n",
    "print('\\n')\n",
    "print('以F风格顺序排序：')\n",
    "c=b.copy(order='F')\n",
    "print(c)\n",
    "for x in np.nditer(c):\n",
    "    print(x)"
   ]
  },
  {
   "cell_type": "code",
   "execution_count": 133,
   "metadata": {},
   "outputs": [
    {
     "name": "stdout",
     "output_type": "stream",
     "text": [
      "原始数组是：\n",
      "[[ 0  5 10 15]\n",
      " [20 25 30 35]\n",
      " [40 45 50 55]]\n",
      "\n",
      "\n",
      "修改后的数组是：\n",
      "[[  0  10  20  30]\n",
      " [ 40  50  60  70]\n",
      " [ 80  90 100 110]]\n"
     ]
    }
   ],
   "source": [
    "# 修改数组的值\n",
    "# nditer对象有另一个可选参数op_flags。 其默认值为只读，\n",
    "# 但可以设置为读写或只写模式。 这将允许使用此迭代器修改数组元素。\n",
    "a=np.arange(0,60,5)\n",
    "a=a.reshape(3,4)\n",
    "print('原始数组是：')\n",
    "print(a)\n",
    "print('\\n')\n",
    "for x in np.nditer(a,op_flags=['readwrite']):\n",
    "    x[...]=2*x\n",
    "print('修改后的数组是：')\n",
    "print (a)"
   ]
  },
  {
   "cell_type": "code",
   "execution_count": 134,
   "metadata": {},
   "outputs": [
    {
     "name": "stdout",
     "output_type": "stream",
     "text": [
      "原始数组是：\n",
      "[[ 0  5 10 15]\n",
      " [20 25 30 35]\n",
      " [40 45 50 55]]\n",
      "\n",
      "\n",
      "修改后的数组是：\n",
      "[ 0 20 40]\n",
      "[ 5 25 45]\n",
      "[10 30 50]\n",
      "[15 35 55]\n"
     ]
    }
   ],
   "source": [
    "# 在下面的示例中，迭代器遍历对应于每列的一维数组。\n",
    "a=np.arange(0,60,5)\n",
    "a=a.reshape(3,4)\n",
    "print('原始数组是：')\n",
    "print(a)\n",
    "print('\\n')\n",
    "print('修改后的数组是：')\n",
    "for x in np.nditer(a,flags=['external_loop'],order='F'):\n",
    "    print(x)"
   ]
  },
  {
   "cell_type": "code",
   "execution_count": 139,
   "metadata": {},
   "outputs": [
    {
     "name": "stdout",
     "output_type": "stream",
     "text": [
      "第一个数组是 ;\n",
      "[[ 0  5 10 15]\n",
      " [20 25 30 35]\n",
      " [40 45 50 55]]\n",
      "\n",
      "\n",
      "第二个数组是：\n",
      "[1 2 3 4]\n",
      "\n",
      "\n",
      "修改后的数组是：\n",
      "0 1\n",
      "5 2\n",
      "10 3\n",
      "15 4\n",
      "20 1\n",
      "25 2\n",
      "30 3\n",
      "35 4\n",
      "40 1\n",
      "45 2\n",
      "50 3\n",
      "55 4\n"
     ]
    }
   ],
   "source": [
    "# 广播迭代\n",
    "# 如果两个数组是可广播的，nditer组合对象能够同时迭代它们。 \n",
    "# 假设数组a具有维度 3X4，并且存在维度为 1X4 的另一个数组b，则使用以下类型的迭代器(数组b被广播到a的大小)。\n",
    "a=np.arange(0,60,5)\n",
    "a=a.reshape(3,4)\n",
    "print('第一个数组是 ;')\n",
    "print(a)\n",
    "print('\\n')\n",
    "print('第二个数组是：')\n",
    "b=np.array([1,2,3,4],dtype=int)\n",
    "print (b)\n",
    "print('\\n')\n",
    "print('修改后的数组是：')\n",
    "for x,y in np.nditer([a,b]):\n",
    "    print(x,y)"
   ]
  },
  {
   "cell_type": "code",
   "execution_count": 140,
   "metadata": {},
   "outputs": [
    {
     "name": "stdout",
     "output_type": "stream",
     "text": [
      "原始数组\n",
      "[0 1 2 3 4 5 6 7]\n",
      "\n",
      "\n",
      "修改后的数组：\n",
      "[[0 1]\n",
      " [2 3]\n",
      " [4 5]\n",
      " [6 7]]\n"
     ]
    }
   ],
   "source": [
    "a=np.arange(8)\n",
    "print ('原始数组')\n",
    "print(a)\n",
    "print('\\n')\n",
    "b=a.reshape(4,2)\n",
    "print('修改后的数组：')\n",
    "print(b)\n"
   ]
  },
  {
   "cell_type": "code",
   "execution_count": 142,
   "metadata": {},
   "outputs": [
    {
     "name": "stdout",
     "output_type": "stream",
     "text": [
      "原始数组\n",
      "[[0 1 2 3]\n",
      " [4 5 6 7]]\n",
      "\n",
      "\n",
      "调用flat函数之后\n",
      "5\n"
     ]
    }
   ],
   "source": [
    "a=np.arange(8).reshape(2,4)\n",
    "print('原始数组')\n",
    "print(a)\n",
    "print('\\n')\n",
    "\n",
    "print('调用flat函数之后')\n",
    "#返回展开数组中的下标的对应的元素\n",
    "print(a.flat[5])"
   ]
  },
  {
   "cell_type": "code",
   "execution_count": 144,
   "metadata": {},
   "outputs": [
    {
     "name": "stdout",
     "output_type": "stream",
     "text": [
      "原数组：\n",
      "[[0 1 2 3]\n",
      " [4 5 6 7]]\n",
      "\n",
      "\n",
      "展开的数组：\n",
      "[0 1 2 3 4 5 6 7]\n",
      "\n",
      "\n",
      "以F风格顺序展开的数组\n",
      "[0 4 1 5 2 6 3 7]\n"
     ]
    }
   ],
   "source": [
    "# numpy.ndarray.flatten\n",
    "# 该函数返回折叠为一维的数组副本，函数接受下列参数：\n",
    "# ndarray.flatten(order)\n",
    "a = np.arange(8).reshape(2,4)\n",
    "print ('原数组：')\n",
    "print (a)\n",
    "print ('\\n')\n",
    "print('展开的数组：')\n",
    "print(a.flatten())\n",
    "print('\\n')\n",
    "print('以F风格顺序展开的数组')\n",
    "print(a.flatten(order='F'))"
   ]
  },
  {
   "cell_type": "code",
   "execution_count": 146,
   "metadata": {},
   "outputs": [
    {
     "name": "stdout",
     "output_type": "stream",
     "text": [
      "原数组：\n",
      "[[0 1 2 3]\n",
      " [4 5 6 7]]\n",
      "\n",
      "\n",
      "调用ravel函数之后：\n",
      "[0 1 2 3 4 5 6 7]\n"
     ]
    }
   ],
   "source": [
    "# numpy.ravel\n",
    "# 这个函数返回展开的一维数组，并且按需生成副本。\n",
    "# 返回的数组和输入数组拥有相同数据类型。这个函数接受两个参数。\n",
    "a=np.arange(8).reshape(2,4)\n",
    "print('原数组：')\n",
    "print(a)\n",
    "print('\\n')\n",
    "print('调用ravel函数之后：')\n",
    "print(a.ravel(order='F'))"
   ]
  },
  {
   "cell_type": "code",
   "execution_count": 147,
   "metadata": {},
   "outputs": [
    {
     "name": "stdout",
     "output_type": "stream",
     "text": [
      "原数组：\n",
      "[[ 0  1  2  3]\n",
      " [ 4  5  6  7]\n",
      " [ 8  9 10 11]]\n",
      "\n",
      "\n",
      "转置数组：\n",
      "[[ 0  4  8]\n",
      " [ 1  5  9]\n",
      " [ 2  6 10]\n",
      " [ 3  7 11]]\n"
     ]
    }
   ],
   "source": [
    "# numpy.transpose\n",
    "# 这个函数翻转给定数组的维度。如果可能的话它会返回一个视图。函数接受下列参数：\n",
    "# numpy.transpose(arr, axes)\n",
    "a=np.arange(12).reshape(3,4)\n",
    "print('原数组：')\n",
    "print(a)\n",
    "print('\\n')\n",
    "print('转置数组：')\n",
    "print(np.transpose(a))\n"
   ]
  },
  {
   "cell_type": "code",
   "execution_count": 148,
   "metadata": {
    "scrolled": true
   },
   "outputs": [
    {
     "name": "stdout",
     "output_type": "stream",
     "text": [
      "原数组：\n",
      "[[ 0  1  2  3]\n",
      " [ 4  5  6  7]\n",
      " [ 8  9 10 11]]\n",
      "\n",
      "\n",
      "转置数组：\n",
      "[[ 0  4  8]\n",
      " [ 1  5  9]\n",
      " [ 2  6 10]\n",
      " [ 3  7 11]]\n"
     ]
    }
   ],
   "source": [
    "# numpy.ndarray.T\n",
    "# 该函数属于ndarray类，行为类似于numpy.transpose。\n",
    "a=np.arange(12).reshape(3,4)\n",
    "print('原数组：')\n",
    "print(a)\n",
    "print('\\n')\n",
    "print('转置数组：')\n",
    "print(a.T)"
   ]
  },
  {
   "cell_type": "code",
   "execution_count": 151,
   "metadata": {},
   "outputs": [
    {
     "name": "stdout",
     "output_type": "stream",
     "text": [
      "原数组：\n",
      "[[[0 1]\n",
      "  [2 3]]\n",
      "\n",
      " [[4 5]\n",
      "  [6 7]]]\n",
      "\n",
      "\n",
      "调用rollaaxis函数\n",
      "[[[0 2]\n",
      "  [4 6]]\n",
      "\n",
      " [[1 3]\n",
      "  [5 7]]]\n",
      "\n",
      "\n",
      "调用rollaxis函数\n",
      "[[[0 2]\n",
      "  [1 3]]\n",
      "\n",
      " [[4 6]\n",
      "  [5 7]]]\n"
     ]
    }
   ],
   "source": [
    "# numpy.rollaxis\n",
    "# 该函数向后滚动特定的轴，直到一个特定位置。这个函数接受三个参数：\n",
    "# numpy.rollaxis(arr, axis, start)\n",
    "# 其中：\n",
    "# arr：输入数组\n",
    "# axis：要向后滚动的轴，其它轴的相对位置不会改变\n",
    "# start：默认为零，表示完整的滚动。会滚动到特定位置。\n",
    "a=np.arange(8).reshape(2,2,2)\n",
    "print('原数组：')\n",
    "print(a)\n",
    "print('\\n')\n",
    "\n",
    "#将轴滚动到轴0（宽度到深度）\n",
    "print('调用rollaaxis函数')\n",
    "print(np.rollaxis(a,2))\n",
    "#将轴0滚动到轴1（宽度到高度）\n",
    "print('\\n')\n",
    "print('调用rollaxis函数')\n",
    "print(np.rollaxis(a,2,1))"
   ]
  },
  {
   "cell_type": "code",
   "execution_count": 152,
   "metadata": {},
   "outputs": [
    {
     "name": "stdout",
     "output_type": "stream",
     "text": [
      "原数组;\n",
      "[[[0 1]\n",
      "  [2 3]]\n",
      "\n",
      " [[4 5]\n",
      "  [6 7]]]\n",
      "\n",
      "\n",
      "调用swapaxes 函数后的数组：\n",
      "[[[0 4]\n",
      "  [2 6]]\n",
      "\n",
      " [[1 5]\n",
      "  [3 7]]]\n"
     ]
    }
   ],
   "source": [
    "# numpy.swapaxes\n",
    "# 该函数交换数组的两个轴。对于 1.10 之前的 NumPy 版本，会返回交换后数组的试图。这个函数接受下列参数：\n",
    "# numpy.swapaxes(arr, axis1, axis2)\n",
    "# arr：要交换其轴的输入数组\n",
    "# axis1：对应第一个轴的整数\n",
    "# axis2：对应第二个轴的整数\n",
    "a=np.arange(8).reshape(2,2,2)\n",
    "print('原数组;')\n",
    "print(a)\n",
    "print('\\n')\n",
    "#现在交换轴0(深度方向)到轴2（宽度方向）\n",
    "print('调用swapaxes 函数后的数组：')\n",
    "print(np.swapaxes(a,2,0))"
   ]
  },
  {
   "cell_type": "code",
   "execution_count": 159,
   "metadata": {},
   "outputs": [
    {
     "name": "stdout",
     "output_type": "stream",
     "text": [
      "<numpy.flatiter object at 0x000000000451A410>\n",
      "<numpy.flatiter object at 0x0000000004519980>\n",
      "广播对象的形状：\n",
      "<numpy.broadcast object at 0x0000000009F28340>\n",
      "\n",
      "\n",
      "\n",
      "\n",
      "调用flat函数\n",
      "<numpy.flatiter object at 0x0000000004519980>\n",
      "\n",
      "\n",
      "x 与 y 的和：\n",
      "[[5 6 7]\n",
      " [6 7 8]\n",
      " [7 8 9]]\n"
     ]
    }
   ],
   "source": [
    "# broadcast\n",
    "# 如前所述，NumPy 已经内置了对广播的支持。 此功能模仿广播机制。 它返回一个对象，该对象封装了将一个数组广播到另一个数组的结果。\n",
    "# 该函数使用两个数组作为输入参数。 下面的例子说明了它的用法。\n",
    "\n",
    "x=np.array([[1],[2],[3]])\n",
    "y=np.array([4,5,6])\n",
    "\n",
    "#对y广播x\n",
    "b=np.broadcast(x,y)\n",
    "#它使用iterator属性，基于自身组件的迭代器元组\n",
    "r,c=b.iters\n",
    "print(r)\n",
    "print(c)\n",
    "# print(r.next(),c.next())\n",
    "# print(r.next(),c.next())\n",
    "# print('\\n')\n",
    "#shape属性返回广播对象的形状\n",
    "print('广播对象的形状：')\n",
    "print(b)\n",
    "print('\\n')\n",
    "\n",
    "#手动使用broadcast将x与y相加：\n",
    "#print(c.shape)\n",
    "print('\\n')\n",
    "#c.flat=[u + v for (u,v) in b]\n",
    "\n",
    "print('调用flat函数')\n",
    "print(c)\n",
    "print('\\n')\n",
    "\n",
    "#获得了和numpy内建的广播支持相同的结果\n",
    "print('x 与 y 的和：')\n",
    "print(x+y)"
   ]
  },
  {
   "cell_type": "code",
   "execution_count": 160,
   "metadata": {},
   "outputs": [
    {
     "name": "stdout",
     "output_type": "stream",
     "text": [
      "原数组：\n",
      "[[0 1 2 3]]\n",
      "\n",
      "\n",
      "调用broadcst_to函数之后：\n",
      "[[0 1 2 3]\n",
      " [0 1 2 3]\n",
      " [0 1 2 3]\n",
      " [0 1 2 3]]\n"
     ]
    }
   ],
   "source": [
    "# numpy.broadcast_to\n",
    "# 此函数将数组广播到新形状。 它在原始数组上返回只读视图。 它通常不连续。 如果新形状不符合 NumPy 的广播规则，该函数可能会抛出ValueError\n",
    "a=np.arange(4).reshape(1,4)\n",
    "print('原数组：')\n",
    "print(a)\n",
    "print('\\n')\n",
    "\n",
    "print('调用broadcst_to函数之后：')\n",
    "print(np.broadcast_to(a,(4,4)))"
   ]
  },
  {
   "cell_type": "code",
   "execution_count": 3,
   "metadata": {},
   "outputs": [
    {
     "name": "stdout",
     "output_type": "stream",
     "text": [
      "数组x:\n",
      "[[1 2]\n",
      " [3 4]]\n",
      "\n",
      "\n",
      "数组y:\n",
      "[[[1 2]\n",
      "  [3 4]]]\n",
      "\n",
      "\n",
      "数组 x 和 y 的形状\n",
      "(2, 2) (1, 2, 2)\n",
      "\n",
      "\n",
      "在位置1插入轴之后的数组y:\n",
      "[[[1 2]]\n",
      "\n",
      " [[3 4]]]\n",
      "\n",
      "\n",
      "2 3\n",
      "(2, 2) (2, 1, 2)\n"
     ]
    }
   ],
   "source": [
    "# numpy.expand_dims\n",
    "# 函数通过在指定位置插入新的轴来扩展数组形状。该函数需要两个参数：\n",
    "# arr：输入数组\n",
    "# axis：新轴插入的位置\n",
    "x=np.array([[1,2],[3,4]])\n",
    "print('数组x:')\n",
    "print(x)\n",
    "print('\\n')\n",
    "y=np.expand_dims(x,axis=0)\n",
    "print('数组y:')\n",
    "print(y)\n",
    "print('\\n')\n",
    "print('数组 x 和 y 的形状')\n",
    "print(x.shape,y.shape)\n",
    "print('\\n')\n",
    "y=np.expand_dims(x,axis=1)\n",
    "print('在位置1插入轴之后的数组y:')\n",
    "print(y)\n",
    "print('\\n')\n",
    "print(x.ndim,y.ndim)\n",
    "print(x.shape,y.shape)"
   ]
  },
  {
   "cell_type": "code",
   "execution_count": 4,
   "metadata": {},
   "outputs": [
    {
     "name": "stdout",
     "output_type": "stream",
     "text": [
      "数组x:\n",
      "[[[0 1 2]\n",
      "  [3 4 5]\n",
      "  [6 7 8]]]\n",
      "\n",
      "\n",
      "数组y\n",
      "[[0 1 2]\n",
      " [3 4 5]\n",
      " [6 7 8]]\n",
      "\n",
      "\n",
      "数组 x 和 y 的形状\n",
      "(1, 3, 3) (3, 3)\n"
     ]
    }
   ],
   "source": [
    "x=np.arange(9).reshape(1,3,3)\n",
    "print('数组x:')\n",
    "print(x)\n",
    "print('\\n')\n",
    "y=np.squeeze(x)\n",
    "print('数组y')\n",
    "print(y)\n",
    "print('\\n')\n",
    "print('数组 x 和 y 的形状')\n",
    "print(x.shape,y.shape)"
   ]
  },
  {
   "cell_type": "code",
   "execution_count": 15,
   "metadata": {},
   "outputs": [
    {
     "ename": "SyntaxError",
     "evalue": "invalid syntax (<ipython-input-15-5120f72d6741>, line 14)",
     "output_type": "error",
     "traceback": [
      "\u001b[1;36m  File \u001b[1;32m\"<ipython-input-15-5120f72d6741>\"\u001b[1;36m, line \u001b[1;32m14\u001b[0m\n\u001b[1;33m    print('\\n')\u001b[0m\n\u001b[1;37m        ^\u001b[0m\n\u001b[1;31mSyntaxError\u001b[0m\u001b[1;31m:\u001b[0m invalid syntax\n"
     ]
    }
   ],
   "source": [
    "# numpy.concatenate\n",
    "# 数组的连接是指连接。 此函数用于沿指定轴连接相同形状的两个或多个数组。 该函数接受以下参数。\n",
    "a=np.array([[1,2],[3,4]])\n",
    "print('第一个数组')\n",
    "print(a)\n",
    "print('\\n')\n",
    "\n",
    "b=np.array([[5,6],[7,8]])\n",
    "print('第二个数组')\n",
    "print(b)\n",
    "print('\\n')\n",
    "print('沿轴0连接两个数组：')\n",
    "print(np.concatenate((a,b))\n",
    "print('\\n')\n",
    "print('沿轴1连接两个数组;')\n",
    "print(np.concatenate((a,b_),axis=1)"
   ]
  },
  {
   "cell_type": "code",
   "execution_count": 17,
   "metadata": {},
   "outputs": [
    {
     "name": "stdout",
     "output_type": "stream",
     "text": [
      "第一个数组\n",
      "[[1 2]\n",
      " [3 4]]\n",
      "\n",
      "\n",
      "第二个数组\n",
      "[[5 6]\n",
      " [7 8]]\n",
      "\n",
      "\n",
      "沿轴0堆叠两个数组\n",
      "[[[1 2]\n",
      "  [3 4]]\n",
      "\n",
      " [[5 6]\n",
      "  [7 8]]] 0\n",
      "\n",
      "\n",
      "沿轴1堆叠两个数组\n",
      "[[[1 2]\n",
      "  [3 4]]\n",
      "\n",
      " [[5 6]\n",
      "  [7 8]]] 1\n"
     ]
    }
   ],
   "source": [
    "aa=np.array([[1,2],[3,4]])\n",
    "print('第一个数组')\n",
    "print(a)\n",
    "print('\\n')\n",
    "b=np.array([[5,6],[7,8]])\n",
    "print('第二个数组')\n",
    "print(b)\n",
    "print('\\n')\n",
    "print('沿轴0堆叠两个数组')\n",
    "print(np.stack((a,b)),0)//要转换成tuple\n",
    "print('\\n')\n",
    "\n",
    "print('沿轴1堆叠两个数组')\n",
    "print(np.stack((a,b)),1)"
   ]
  },
  {
   "cell_type": "code",
   "execution_count": 19,
   "metadata": {},
   "outputs": [
    {
     "name": "stdout",
     "output_type": "stream",
     "text": [
      "第一个数组\n",
      "[[1 2]\n",
      " [3 4]]\n",
      "\n",
      "\n",
      "第二个数组\n",
      "[[5 6]\n",
      " [7 8]]\n",
      "\n",
      "\n",
      "水平堆积\n",
      "[[1 2 5 6]\n",
      " [3 4 7 8]]\n",
      "\n",
      "\n",
      "第一个数组\n",
      "[[1 2]\n",
      " [3 4]]\n",
      "\n",
      "\n",
      "第二个数组\n",
      "[[5 6]\n",
      " [7 8]]\n",
      "\n",
      "\n",
      "竖直堆积\n",
      "[[1 2]\n",
      " [3 4]\n",
      " [5 6]\n",
      " [7 8]]\n"
     ]
    }
   ],
   "source": [
    "a=np.array([[1,2],[3,4]])\n",
    "print('第一个数组')\n",
    "print(a)\n",
    "print('\\n')\n",
    "b=np.array([[5,6],[7,8]])\n",
    "print('第二个数组')\n",
    "print(b)\n",
    "print('\\n')\n",
    "print('水平堆积')\n",
    "c=np.hstack((a,b))\n",
    "print(c)\n",
    "print('\\n')\n",
    "\n",
    "# numpy.vstack\n",
    "# numpy.stack函数的变体，通过堆叠来生成竖直的单个数组。\n",
    "a=np.array([[1,2],[3,4]])\n",
    "print('第一个数组')\n",
    "print(a)\n",
    "print('\\n')\n",
    "\n",
    "b=np.array([[5,6],[7,8]])\n",
    "print('第二个数组')\n",
    "print(b)\n",
    "print('\\n')\n",
    "\n",
    "print('竖直堆积')\n",
    "c=np.vstack((a,b))\n",
    "print(c)"
   ]
  },
  {
   "cell_type": "code",
   "execution_count": 20,
   "metadata": {},
   "outputs": [
    {
     "name": "stdout",
     "output_type": "stream",
     "text": [
      "第一个数组\n",
      "[0 1 2 3 4 5 6 7 8]\n",
      "\n",
      "\n",
      "将数组分为三个大小相等的子数组\n",
      "[array([0, 1, 2]), array([3, 4, 5]), array([6, 7, 8])]\n",
      "\n",
      "\n",
      "将数组在一维数组中表明的位置分割\n",
      "[array([0, 1, 2, 3]), array([4, 5, 6]), array([7, 8])]\n"
     ]
    }
   ],
   "source": [
    "# numpy.split\n",
    "# 该函数沿特定的轴将数组分割为子数组。函数接受三个参数：\n",
    "# ary：被分割的输入数组\n",
    "# indices_or_sections：可以是整数，表明要从输入数组创建的，等大小的子数组的数量。 如果此参数是一维数组，则其元素表明要创建新子数组的点。\n",
    "# axis：默认为 0\n",
    "a=np.arange(9)\n",
    "print('第一个数组')\n",
    "print(a)\n",
    "print('\\n')\n",
    "print('将数组分为三个大小相等的子数组')\n",
    "b=np.split(a,3)\n",
    "print(b)\n",
    "print('\\n')\n",
    "\n",
    "print('将数组在一维数组中表明的位置分割')\n",
    "b=np.split(a,[4,7])\n",
    "print(b)"
   ]
  },
  {
   "cell_type": "code",
   "execution_count": 21,
   "metadata": {},
   "outputs": [
    {
     "name": "stdout",
     "output_type": "stream",
     "text": [
      "第一个数组\n",
      "[[ 0  1  2  3]\n",
      " [ 4  5  6  7]\n",
      " [ 8  9 10 11]\n",
      " [12 13 14 15]]\n",
      "\n",
      "\n",
      "水平分割\n",
      "[array([[ 0,  1],\n",
      "       [ 4,  5],\n",
      "       [ 8,  9],\n",
      "       [12, 13]]), array([[ 2,  3],\n",
      "       [ 6,  7],\n",
      "       [10, 11],\n",
      "       [14, 15]])]\n",
      "\n",
      "\n"
     ]
    }
   ],
   "source": [
    "# numpy.hsplit\n",
    "# numpy.hsplit是split()函数的特例，其中轴为 1 表示水平分割，无论输入数组的维度是什么。\n",
    "a=np.arange(16).reshape(4,4)\n",
    "print('第一个数组')\n",
    "print (a)\n",
    "print('\\n')\n",
    "\n",
    "print('水平分割')\n",
    "b=np.hsplit(a,2)\n",
    "print(b)\n",
    "print('\\n')"
   ]
  },
  {
   "cell_type": "code",
   "execution_count": 25,
   "metadata": {},
   "outputs": [
    {
     "name": "stdout",
     "output_type": "stream",
     "text": [
      "第一个数组\n",
      "[[ 0  1  2  3]\n",
      " [ 4  5  6  7]\n",
      " [ 8  9 10 11]\n",
      " [12 13 14 15]]\n",
      "\n",
      "\n",
      "竖直分割\n",
      "[array([[0, 1, 2, 3],\n",
      "       [4, 5, 6, 7]]), array([[ 8,  9, 10, 11],\n",
      "       [12, 13, 14, 15]])]\n",
      "(2, 4)\n"
     ]
    }
   ],
   "source": [
    "# numpy.vsplit\n",
    "# numpy.vsplit是split()函数的特例，其中轴为 0 表示竖直分割，无论输入数组的维度是什么。\n",
    "a=np.arange(16).reshape(4,4)\n",
    "print('第一个数组')\n",
    "print(a)\n",
    "print('\\n')\n",
    "print('竖直分割')\n",
    "\n",
    "b=np.vsplit(a,2)\n",
    "print(b)\n",
    "print(b[0].shape)"
   ]
  },
  {
   "cell_type": "code",
   "execution_count": 26,
   "metadata": {},
   "outputs": [
    {
     "name": "stdout",
     "output_type": "stream",
     "text": [
      "第一个数组\n",
      "[[1 2 3]\n",
      " [4 5 6]]\n",
      "\n",
      "\n",
      "第一个数组的形状\n",
      "(2, 3)\n",
      "\n",
      "\n",
      "第二个数组\n",
      "[[1 2]\n",
      " [3 4]\n",
      " [5 6]]\n",
      "\n",
      "\n",
      "修改第二个数组的大小：\n",
      "[[1 2 3]\n",
      " [4 5 6]\n",
      " [1 2 3]]\n"
     ]
    }
   ],
   "source": [
    "# numpy.resize\n",
    "# 此函数返回指定大小的新数组。 如果新大小大于原始大小，则包含原始数组中的元素的重复副本。 该函数接受以下参数。\n",
    "# numpy.resize(arr, shape)\n",
    "# Python\n",
    "# 其中：\n",
    "# arr：要修改大小的输入数组\n",
    "# shape：返回数组的新形状\n",
    "\n",
    "a=np.array([[1,2,3],[4,5,6]])\n",
    "print('第一个数组')\n",
    "print(a)\n",
    "print('\\n')\n",
    "\n",
    "print('第一个数组的形状')\n",
    "print(a.shape)\n",
    "print('\\n')\n",
    "b=np.resize(a,(3,2))\n",
    "\n",
    "print('第二个数组')\n",
    "print(b)\n",
    "print('\\n')\n",
    "#要注意 a 的第一行 在  b 中重复出现，因为尺寸变大了\n",
    "\n",
    "print('修改第二个数组的大小：')\n",
    "b=np.resize(a,(3,3))\n",
    "print(b)\n"
   ]
  },
  {
   "cell_type": "code",
   "execution_count": 29,
   "metadata": {},
   "outputs": [
    {
     "name": "stdout",
     "output_type": "stream",
     "text": [
      "第一个数组\n",
      "[[1 2 3]\n",
      " [4 5 6]]\n",
      "\n",
      "\n",
      "向数组添加元素\n",
      "[1 2 3 4 5 6 7 8 9]\n",
      "\n",
      "\n",
      "沿轴0添加元素\n",
      "[[1 2 3]\n",
      " [4 5 6]\n",
      " [7 8 9]]\n",
      "\n",
      "\n",
      "沿轴1添加元素\n",
      "[[1 2 3 5 5 5]\n",
      " [4 5 6 7 8 9]]\n"
     ]
    }
   ],
   "source": [
    "# numpy.append\n",
    "# 此函数在输入数组的末尾添加值。 附加操作不是原地的，而是分配新的数组。 此外，输入数组的维度必须匹配否则将生成ValueError。\n",
    "# 函数接受下列函数：\n",
    "# numpy.append(arr, values, axis)\n",
    "# 其中：\n",
    "# arr：输入数组\n",
    "# values：要向arr添加的值，比如和arr形状相同(除了要添加的轴)\n",
    "# axis：沿着它完成操作的轴。如果没有提供，两个参数都会被展开。\n",
    "a=np.array([[1,2,3],[4,5,6]])\n",
    "print('第一个数组')\n",
    "print(a)\n",
    "print('\\n')\n",
    "print('向数组添加元素')\n",
    "print(np.append(a,[7,8,9]))\n",
    "print('\\n')\n",
    "\n",
    "print('沿轴0添加元素')\n",
    "print(np.append(a,[[7,8,9]],axis=0))\n",
    "print('\\n')\n",
    "print('沿轴1添加元素')\n",
    "print(np.append(a,[[5,5,5],[7,8,9]],axis=1))\n"
   ]
  },
  {
   "cell_type": "code",
   "execution_count": 30,
   "metadata": {},
   "outputs": [
    {
     "name": "stdout",
     "output_type": "stream",
     "text": [
      "第一个数组\n",
      "[[1 2]\n",
      " [3 4]\n",
      " [5 6]]\n",
      "\n",
      "\n",
      "未传递Axis参数。在插入之前输入数组会被展开\n",
      "[  1   2   3 111  12   4   5   6]\n",
      "\n",
      "\n",
      "传递了Axis参数，会广播值数组来分配输入数组\n",
      "沿轴0广播\n",
      "[[ 1  2]\n",
      " [11 11]\n",
      " [ 3  4]\n",
      " [ 5  6]]\n",
      "\n",
      "\n",
      "沿轴1广播\n",
      "[[ 1 11  2]\n",
      " [ 3 11  4]\n",
      " [ 5 11  6]]\n"
     ]
    }
   ],
   "source": [
    "# numpy.insert\n",
    "# 此函数在给定索引之前，沿给定轴在输入数组中插入值。 如果值的类型转换为要插入，则它与输入数组不同。 插入没有原地的，函数会返回一个新数组。 此外，如果未提供轴，则输入数组会被展开。\n",
    "# insert()函数接受以下参数：\n",
    "# numpy.insert(arr, obj, values, axis)\n",
    "# Python\n",
    "# 其中：\n",
    "# arr：输入数组\n",
    "# obj：在其之前插入值的索引\n",
    "# values：要插入的值\n",
    "# axis：沿着它插入的轴，如果未提供，则输入数组会被展开\n",
    "\n",
    "a=np.array([[1,2],[3,4],[5,6]])\n",
    "print('第一个数组')\n",
    "print(a)\n",
    "print('\\n')\n",
    "\n",
    "print('未传递Axis参数。在插入之前输入数组会被展开')\n",
    "print(np.insert(a,3,[111,12]))\n",
    "print('\\n')\n",
    "print('传递了Axis参数，会广播值数组来分配输入数组')\n",
    "\n",
    "print('沿轴0广播')\n",
    "print(np.insert(a,1,[11],axis=0))\n",
    "print('\\n')\n",
    "print('沿轴1广播')\n",
    "print(np.insert(a,1,11,axis=1))"
   ]
  },
  {
   "cell_type": "code",
   "execution_count": 33,
   "metadata": {},
   "outputs": [
    {
     "name": "stdout",
     "output_type": "stream",
     "text": [
      "第一个数组\n",
      "[[ 0  1  2  3]\n",
      " [ 4  5  6  7]\n",
      " [ 8  9 10 11]]\n",
      "\n",
      "\n",
      "未传递Axis参数，在插入之前输入数组会被展开\n",
      "[ 0  1  2  3  4  6  7  8  9 10 11]\n",
      "\n",
      "\n",
      "删除第二列\n",
      "[[ 0  2  3]\n",
      " [ 4  6  7]\n",
      " [ 8 10 11]]\n",
      "包含从数组中删除的替代值的切片\n",
      "[2 4 6 8 0]\n"
     ]
    }
   ],
   "source": [
    "# numpy.delete\n",
    "# 此函数返回从输入数组中删除指定子数组的新数组。 与insert()函数的情况一样，如果未提供轴参数，则输入数组将展开。 该函数接受以下参数：\n",
    "# Numpy.delete(arr, obj, axis)\n",
    "# Python\n",
    "# 其中：\n",
    "# arr：输入数组\n",
    "# obj：可以被切片，整数或者整数数组，表明要从输入数组删除的子数组\n",
    "# axis：沿着它删除给定子数组的轴，如果未提供，则输入数组会被展开\n",
    "a=np.arange(12).reshape(3,4)\n",
    "print('第一个数组')\n",
    "print(a)\n",
    "print('\\n')\n",
    "\n",
    "print('未传递Axis参数，在插入之前输入数组会被展开')\n",
    "print(np.delete(a,5))\n",
    "print('\\n')\n",
    "\n",
    "print('删除第二列')\n",
    "print(np.delete(a,1,axis=1))\n",
    "\n",
    "print('包含从数组中删除的替代值的切片')\n",
    "a=np.array([1,2,3,4,5,6,7,8,9,0])\n",
    "print(np.delete(a,np.s_[::2]))"
   ]
  },
  {
   "cell_type": "code",
   "execution_count": 34,
   "metadata": {},
   "outputs": [
    {
     "name": "stdout",
     "output_type": "stream",
     "text": [
      "第一个数组\n",
      "[5 2 6 7 5 6 8 2 9]\n",
      "\n",
      "\n",
      "第一个数组的去重值\n",
      "[2 5 6 7 8 9]\n",
      "\n",
      "\n",
      "去重数组的索引数组\n",
      "[1 0 2 3 6 8]\n",
      "\n",
      "\n",
      "我们可以看到每个和原数组下标对应的数值\n",
      "[5 2 6 7 5 6 8 2 9]\n",
      "\n",
      "\n",
      "去重数组的下标\n",
      "[2 5 6 7 8 9]\n",
      "\n",
      "\n",
      "下标为\n",
      "[1 0 2 3 1 2 4 0 5]\n",
      "\n",
      "\n",
      "使用下标重构原数组\n",
      "[5 2 6 7 5 6 8 2 9]\n",
      "\n",
      "\n",
      "返回去重元素的重复数量\n",
      "[2 5 6 7 8 9]\n",
      "[2 2 2 1 1 1]\n"
     ]
    }
   ],
   "source": [
    "# numpy.unique\n",
    "# 此函数返回输入数组中的去重元素数组。 该函数能够返回一个元组，包含去重数组和相关索引的数组。 索引的性质取决于函数调用中返回参数的类型。\n",
    "# numpy.unique(arr, return_index, return_inverse, return_counts)\n",
    "# Python\n",
    "# 其中：\n",
    "# arr：输入数组，如果不是一维数组则会展开\n",
    "# return_index：如果为true，返回输入数组中的元素下标\n",
    "# return_inverse：如果为true，返回去重数组的下标，它可以用于重构输入数组\n",
    "# return_counts：如果为true，返回去重数组中的元素在原数组中的出现次数\n",
    "a=np.array([5,2,6,7,5,6,8,2,9])\n",
    "print('第一个数组')\n",
    "print(a)\n",
    "print('\\n')\n",
    "print('第一个数组的去重值')\n",
    "u=np.unique(a)\n",
    "print(u)\n",
    "print('\\n')\n",
    "\n",
    "print('去重数组的索引数组')\n",
    "u,indices=np.unique(a,return_index=True)\n",
    "print (indices)\n",
    "print('\\n')\n",
    "\n",
    "print('我们可以看到每个和原数组下标对应的数值')\n",
    "print(a)\n",
    "print('\\n')\n",
    "\n",
    "print('去重数组的下标')\n",
    "u,indices=np.unique(a,return_inverse=True)\n",
    "print(u)\n",
    "print('\\n')\n",
    "\n",
    "print('下标为')\n",
    "print(indices)\n",
    "print('\\n')\n",
    "\n",
    "print('使用下标重构原数组')\n",
    "print(u[indices])\n",
    "print('\\n')\n",
    "\n",
    "print('返回去重元素的重复数量')\n",
    "u,indices=np.unique(a,return_counts=True)\n",
    "print(u)\n",
    "print(indices)\n"
   ]
  },
  {
   "cell_type": "code",
   "execution_count": null,
   "metadata": {},
   "outputs": [],
   "source": []
  }
 ],
 "metadata": {
  "kernelspec": {
   "display_name": "Python 3",
   "language": "python",
   "name": "python3"
  },
  "language_info": {
   "codemirror_mode": {
    "name": "ipython",
    "version": 3
   },
   "file_extension": ".py",
   "mimetype": "text/x-python",
   "name": "python",
   "nbconvert_exporter": "python",
   "pygments_lexer": "ipython3",
   "version": "3.6.4"
  }
 },
 "nbformat": 4,
 "nbformat_minor": 2
}
