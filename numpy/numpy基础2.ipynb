{
 "cells": [
  {
   "cell_type": "code",
   "execution_count": 1,
   "metadata": {},
   "outputs": [],
   "source": [
    "import numpy as np\n"
   ]
  },
  {
   "cell_type": "code",
   "execution_count": 3,
   "metadata": {},
   "outputs": [
    {
     "name": "stdout",
     "output_type": "stream",
     "text": [
      "13 和17 的二进制\n",
      "0b1101 0b10001\n",
      "\n",
      "\n",
      "13和17的位与\n",
      "1\n"
     ]
    }
   ],
   "source": [
    "# itwise_and\n",
    "# 通过np.bitwise_and()函数对输入数组中的整数的二进制表示的相应位执行位与运算。\n",
    "print('13 和17 的二进制')\n",
    "a,b=13,17\n",
    "print(bin(a),bin(b))\n",
    "print('\\n')\n",
    "\n",
    "print('13和17的位与')\n",
    "print(np.bitwise_and(13,17))"
   ]
  },
  {
   "cell_type": "code",
   "execution_count": 4,
   "metadata": {},
   "outputs": [
    {
     "name": "stdout",
     "output_type": "stream",
     "text": [
      "13 和 17的二进制\n",
      "0b1101 0b10001\n",
      "13 和17的位或\n",
      "29\n"
     ]
    }
   ],
   "source": [
    "# bitwise_or\n",
    "# 通过np.bitwise_or()函数对输入数组中的整数的二进制表示的相应位执行位或运算。\n",
    "a,b=13,17\n",
    "print('13 和 17的二进制')\n",
    "print(bin(a),bin(b))\n",
    "\n",
    "print('13 和17的位或')\n",
    "print(np.bitwise_or(13,17))\n"
   ]
  },
  {
   "cell_type": "code",
   "execution_count": 9,
   "metadata": {},
   "outputs": [
    {
     "name": "stdout",
     "output_type": "stream",
     "text": [
      "13的位反转 ，其中ndarray 的dtype是unit8\n",
      "[242]\n",
      "13的二进制表示\n",
      "00001101\n",
      "\n",
      "\n",
      "242的二进制表示\n",
      "11110010\n"
     ]
    }
   ],
   "source": [
    "# invert\n",
    "# 此函数计算输入数组中整数的位非结果。 对于有符号整数，返回补码。\n",
    "print('13的位反转 ，其中ndarray 的dtype是unit8')\n",
    "print(np.invert(np.array([13],dtype=np.uint8)))\n",
    "#比较13 和 242的二进制表示，我们发现了位的反转\n",
    "print('13的二进制表示')\n",
    "print(np.binary_repr(13,width=8))\n",
    "print('\\n')\n",
    "\n",
    "print('242的二进制表示')\n",
    "print(np.binary_repr(242,width=8))"
   ]
  },
  {
   "cell_type": "code",
   "execution_count": 10,
   "metadata": {},
   "outputs": [
    {
     "name": "stdout",
     "output_type": "stream",
     "text": [
      "将10左移两位：\n",
      "40\n",
      "\n",
      "\n",
      "10的二进制表示\n",
      "00001010\n",
      "40的二进制表示\n",
      "00101000\n"
     ]
    }
   ],
   "source": [
    "# left_shift\n",
    "# numpy.left shift()函数将数组元素的二进制表示中的位向左移动到指定位置，右侧附加相等数量的 0。\n",
    "print('将10左移两位：')\n",
    "print(np.left_shift(10,2))\n",
    "print('\\n')\n",
    "\n",
    "print('10的二进制表示')\n",
    "print(np.binary_repr(10,width=8))\n",
    "\n",
    "print('40的二进制表示')\n",
    "print(np.binary_repr(40,width=8))\n",
    "# '00000101' 中的两位移动到了左边，并在右边添加了两个0"
   ]
  },
  {
   "cell_type": "code",
   "execution_count": 11,
   "metadata": {},
   "outputs": [
    {
     "name": "stdout",
     "output_type": "stream",
     "text": [
      "将40右移两位\n",
      "10\n",
      "\n",
      "\n",
      "40的二进制表示\n",
      "00101000\n",
      "\n",
      "\n",
      "10的二进制表示\n",
      "00001010\n"
     ]
    }
   ],
   "source": [
    "# ight_shift\n",
    "# numpy.right_shift()函数将数组元素的二进制表示中的位向右移动到指定位置，左侧附加相等数量的 0。\n",
    "print('将40右移两位')\n",
    "print(np.right_shift(40,2))\n",
    "print('\\n')\n",
    "\n",
    "print('40的二进制表示')\n",
    "print(np.binary_repr(40,width=8))\n",
    "print('\\n')\n",
    "\n",
    "print('10的二进制表示')\n",
    "print(np.binary_repr(10,width=8))"
   ]
  },
  {
   "cell_type": "code",
   "execution_count": 12,
   "metadata": {},
   "outputs": [
    {
     "name": "stdout",
     "output_type": "stream",
     "text": [
      "连接两个字符串\n",
      "['helloxyz']\n",
      "\n",
      "\n",
      "连接示例\n",
      "['helloabc' 'hixyz']\n"
     ]
    }
   ],
   "source": [
    "# NumPy - 字符串函数\n",
    "# 以下函数用于对dtype为numpy.string_或numpy.unicode_的数组执行向量化字符串操作。 它们基于 Python 内置库中的标准字符串函数。\n",
    "\n",
    "\n",
    "# numpy.char.add()\n",
    "# 函数执行按元素的字符串连接。\n",
    "print('连接两个字符串')\n",
    "print(np.char.add(['hello'],['xyz']))\n",
    "print('\\n')\n",
    "print('连接示例')\n",
    "print(np.char.add(['hello','hi'],['abc','xyz']))"
   ]
  },
  {
   "cell_type": "code",
   "execution_count": 21,
   "metadata": {},
   "outputs": [
    {
     "name": "stdout",
     "output_type": "stream",
     "text": [
      "HelloHelloHello\n",
      "*******hello********\n",
      "Hello world\n",
      "How Are You?\n",
      "['hello']\n",
      "fgfdg\n"
     ]
    }
   ],
   "source": [
    "# numpy.char.multiply()\n",
    "# 这个函数执行多重连接。\n",
    "print(np.char.multiply('Hello',3))\n",
    "\n",
    "# numpy.char.center()\n",
    "# 此函数返回所需宽度的数组，以便输入字符串位于中心，并使用fillchar在左侧和右侧进行填充。\n",
    "print(np.char.center('hello',20,fillchar='*'))\n",
    "\n",
    "# numpy.char.capitalize()\n",
    "# 函数返回字符串的副本，其中第一个字母大写\n",
    "print(np.char.capitalize('hello world'))\n",
    "\n",
    "# numpy.char.title()\n",
    "# 返回输入字符串的按元素标题转换版本，其中每个单词的首字母都大写。\n",
    "print(np.char.title('how are you?'))\n",
    "\n",
    "# numpy.char.lower()\n",
    "# 函数返回一个数组，其元素转换为小写。它对每个元素调用str.lower\n",
    "print(np.char.lower(['HEllo']))\n",
    "print(np.char.lower('FGFDG'))"
   ]
  },
  {
   "cell_type": "code",
   "execution_count": 22,
   "metadata": {},
   "outputs": [
    {
     "name": "stdout",
     "output_type": "stream",
     "text": [
      "HELLO\n",
      "['HELLO' 'WORLD']\n"
     ]
    }
   ],
   "source": [
    "# numpy.char.upper()\n",
    "# 函数返回一个数组，其元素转换为大写。它对每个元素调用str.upper\n",
    "print(np.char.upper('hello'))\n",
    "print(np.char.upper(['hello','world']))"
   ]
  },
  {
   "cell_type": "code",
   "execution_count": 23,
   "metadata": {},
   "outputs": [
    {
     "name": "stdout",
     "output_type": "stream",
     "text": [
      "['hello', 'how', 'are', 'you?']\n",
      "['ssfdsfdsdd,sfdfsfdsfd,sdsfdfdsfdd']\n"
     ]
    }
   ],
   "source": [
    "# numpy.char.upper()\n",
    "# 函数返回一个数组，其元素转换为大写。它对每个元素调用str.upper\n",
    "print(np.char.split('hello how are you?'))\n",
    "print(np.char.split('ssfdsfdsdd,sfdfsfdsfd,sdsfdfdsfdd'))"
   ]
  },
  {
   "cell_type": "code",
   "execution_count": 24,
   "metadata": {},
   "outputs": [
    {
     "name": "stdout",
     "output_type": "stream",
     "text": [
      "['hello', 'how are you']\n"
     ]
    }
   ],
   "source": [
    "# numpy.char.splitlines()\n",
    "# 函数返回数组中元素的单词列表，以换行符分割。\n",
    "print(np.char.splitlines('hello\\nhow are you'))"
   ]
  },
  {
   "cell_type": "code",
   "execution_count": 30,
   "metadata": {},
   "outputs": [
    {
     "name": "stdout",
     "output_type": "stream",
     "text": [
      "  ghbgs  \n",
      "['dffd ' 'hiaooo dd' 'fdff']\n"
     ]
    }
   ],
   "source": [
    "# numpy.char.strip()\n",
    "# 函数返回数组的副本，其中元素移除了开头或结尾处的特定字符。\n",
    "print(np.char.strip('ddsd  ghbgs  d','dsds'))#包含ds的都被过滤掉了\n",
    "print(np.char.strip(['dffd ','ahiaooo dd','fdff'],'a'))"
   ]
  },
  {
   "cell_type": "code",
   "execution_count": 36,
   "metadata": {},
   "outputs": [
    {
     "name": "stdout",
     "output_type": "stream",
     "text": [
      "D:M:Y\n",
      "['d:m:y' 'y-m-d']\n"
     ]
    }
   ],
   "source": [
    "# numpy.char.join()\n",
    "# 这个函数返回一个字符串，其中单个字符由特定的分隔符连接。\n",
    "print(np.char.join(':','DMY'))\n",
    "print(np.char.join([':','-'],['dmy','ymd']))\n"
   ]
  },
  {
   "cell_type": "code",
   "execution_count": 37,
   "metadata": {},
   "outputs": [
    {
     "name": "stdout",
     "output_type": "stream",
     "text": [
      "he was a good boy\n"
     ]
    }
   ],
   "source": [
    "# numpy.char.replace()\n",
    "# 这个函数返回字符串副本，其中所有字符序列的出现位置都被另一个给定的字符序列取代。\n",
    "print(np.char.replace('he is a good boy','is','was'))"
   ]
  },
  {
   "cell_type": "code",
   "execution_count": 38,
   "metadata": {},
   "outputs": [
    {
     "name": "stdout",
     "output_type": "stream",
     "text": [
      "b'\\x88\\x85\\x93\\x93\\x96'\n",
      "hello\n"
     ]
    }
   ],
   "source": [
    "# numpy.char.decode()\n",
    "# 这个函数在给定的字符串中使用特定编码调用str.decode()\n",
    "a=np.char.encode('hello','cp500')\n",
    "print(a)\n",
    "print(np.char.decode(a,'cp500'))"
   ]
  },
  {
   "cell_type": "code",
   "execution_count": 39,
   "metadata": {},
   "outputs": [
    {
     "name": "stdout",
     "output_type": "stream",
     "text": [
      "b'\\x88\\x85\\x93\\x93\\x96'\n"
     ]
    }
   ],
   "source": [
    "# numpy.char.encode()\n",
    "# 此函数对数组中的每个元素调用str.encode函数。 默认编码是utf_8，可以使用标准 Python 库中的编解码器。\n",
    "a=np.char.encode('hello','cp500')\n",
    "print(a)"
   ]
  },
  {
   "cell_type": "code",
   "execution_count": 40,
   "metadata": {},
   "outputs": [
    {
     "name": "stdout",
     "output_type": "stream",
     "text": [
      "不同角度的正弦值\n",
      "[ 0.          0.5         0.70710678  0.8660254   1.        ]\n",
      "\n",
      "\n",
      "数组中角度的余弦值\n",
      "[  1.00000000e+00   8.66025404e-01   7.07106781e-01   5.00000000e-01\n",
      "   6.12323400e-17]\n",
      "\n",
      "\n",
      "数组中角度的正弦值\n",
      "[  0.00000000e+00   5.77350269e-01   1.00000000e+00   1.73205081e+00\n",
      "   1.63312394e+16]\n"
     ]
    }
   ],
   "source": [
    "# 三角函数\n",
    "# NumPy 拥有标准的三角函数，它为弧度制单位的给定角度返回三角函数比值。\n",
    "a=np.array([0,30,45,60,90])\n",
    "print('不同角度的正弦值')\n",
    "#通过成pi/180 转化为弧度\n",
    "print(np.sin(a*np.pi/180))\n",
    "print('\\n')\n",
    "print('数组中角度的余弦值')\n",
    "print(np.cos(a*np.pi/180))\n",
    "print('\\n')\n",
    "print('数组中角度的正弦值')\n",
    "print(np.tan(a*np.pi/180))"
   ]
  },
  {
   "cell_type": "code",
   "execution_count": 41,
   "metadata": {},
   "outputs": [
    {
     "name": "stdout",
     "output_type": "stream",
     "text": [
      "含有正弦值的数组\n",
      "[ 0.          0.5         0.70710678  1.        ]\n",
      "\n",
      "\n",
      "计算角度的反正弦，返回值以护肚围单位\n",
      "[ 0.          0.52359878  0.78539816  1.57079633]\n",
      "\n",
      "\n",
      "通过转化为角度制来检查结果\n",
      "[  0.  30.  45.  90.]\n",
      "\n",
      "\n",
      "arccos 和arctan 函数行为类似\n",
      "[  1.00000000e+00   8.66025404e-01   7.07106781e-01   6.12323400e-17]\n",
      "\n",
      "\n",
      "反余弦\n",
      "[ 0.          0.52359878  0.78539816  1.57079633]\n",
      "\n",
      "\n",
      "角度制单位\n",
      "[  0.  30.  45.  90.]\n",
      "\n",
      "\n",
      "tan函数\n",
      "[  0.00000000e+00   5.77350269e-01   1.00000000e+00   1.63312394e+16]\n"
     ]
    }
   ],
   "source": [
    "# arcsin，arccos，和arctan函数返回给定角度的sin，cos和tan的反三角函数。 \n",
    "# 这些函数的结果可以通过numpy.degrees()函数通过将弧度制转换为角度制来验证。\n",
    "a=np.array([0,30,45,90])\n",
    "print('含有正弦值的数组')\n",
    "sin=np.sin(a*np.pi/180)\n",
    "print(sin)\n",
    "print('\\n')\n",
    "print('计算角度的反正弦，返回值以弧度为单位')\n",
    "inv=np.arcsin(sin)\n",
    "print(inv)\n",
    "print('\\n')\n",
    "print('通过转化为角度制来检查结果')\n",
    "print(np.degrees(inv))\n",
    "print('\\n')\n",
    "print('arccos 和arctan 函数行为类似')\n",
    "cos=np.cos(a*np.pi/180)\n",
    "print(cos)\n",
    "print('\\n')\n",
    "print('反余弦')\n",
    "inv=np.arccos(cos)\n",
    "print(inv)\n",
    "print('\\n')\n",
    "\n",
    "print('角度制单位')\n",
    "print(np.degrees(inv))\n",
    "print('\\n')\n",
    "print('tan函数')\n",
    "tan=np.tan(a*np.pi/180)\n",
    "print(tan)\n"
   ]
  },
  {
   "cell_type": "code",
   "execution_count": 42,
   "metadata": {},
   "outputs": [
    {
     "name": "stdout",
     "output_type": "stream",
     "text": [
      "原数组\n",
      "[   1.       5.55   123.       0.567   25.     532.   ]\n",
      "\n",
      "\n",
      "舍入后\n",
      "[   1.    6.  123.    1.   25.  532.]\n",
      "[   1.     5.6  123.     0.6   25.   532. ]\n",
      "[   0.   10.  120.    0.   20.  530.]\n"
     ]
    }
   ],
   "source": [
    "# numpy.around()\n",
    "# 这个函数返回四舍五入到所需精度的值。 该函数接受以下参数。\n",
    "a=np.array([1,5.55,123,0.567,25,532])\n",
    "print('原数组')\n",
    "print(a)\n",
    "print('\\n')\n",
    "print('舍入后')\n",
    "print(np.around(a))\n",
    "print(np.around(a,decimals=1))\n",
    "print(np.around(a,decimals=-1))\n"
   ]
  },
  {
   "cell_type": "code",
   "execution_count": 43,
   "metadata": {},
   "outputs": [
    {
     "name": "stdout",
     "output_type": "stream",
     "text": [
      "提供的数组\n",
      "[ -1.7   1.5  -0.2   0.6  10. ]\n",
      "\n",
      "\n",
      "修改后的数组\n",
      "[ -2.   1.  -1.   0.  10.]\n"
     ]
    }
   ],
   "source": [
    "# numpy.floor()\n",
    "# 此函数返回不大于输入参数的最大整数。 即标量x 的下限是最大的整数i ，使得i <= x。 注意在Python中，向下取整总是从 0 舍入。\n",
    "a=np.array([-1.7,1.5,-0.2,0.6,10])\n",
    "print('提供的数组')\n",
    "print(a)\n",
    "print('\\n')\n",
    "print('修改后的数组')\n",
    "print(np.floor(a))"
   ]
  },
  {
   "cell_type": "code",
   "execution_count": 44,
   "metadata": {},
   "outputs": [
    {
     "name": "stdout",
     "output_type": "stream",
     "text": [
      "提供的数组\n",
      "[ -1.7   1.5  -0.2   0.6  10. ]\n",
      "\n",
      "\n",
      "修改后的数组\n",
      "[ -1.   2.  -0.   1.  10.]\n"
     ]
    }
   ],
   "source": [
    "# numpy.ceil()\n",
    "# ceil()函数返回输入值的上限，即，标量x的上限是最小的整数i ，使得i> = x。\n",
    "a=np.array([-1.7,1.5,-0.2,0.6,10])\n",
    "print('提供的数组')\n",
    "print(a)\n",
    "print('\\n')\n",
    "print('修改后的数组')\n",
    "print(np.ceil(a))"
   ]
  },
  {
   "cell_type": "code",
   "execution_count": 46,
   "metadata": {},
   "outputs": [
    {
     "name": "stdout",
     "output_type": "stream",
     "text": [
      "第一个数组\n",
      "[[ 0.  1.  2.]\n",
      " [ 3.  4.  5.]\n",
      " [ 6.  7.  8.]]\n",
      "\n",
      "\n",
      "第二个数组\n",
      "[10 10 10]\n",
      "\n",
      "\n",
      "两个数组相加\n",
      "[[ 10.  11.  12.]\n",
      " [ 13.  14.  15.]\n",
      " [ 16.  17.  18.]]\n",
      "\n",
      "\n",
      "两个数组相减\n",
      "[[-10.  -9.  -8.]\n",
      " [ -7.  -6.  -5.]\n",
      " [ -4.  -3.  -2.]]\n",
      "\n",
      "\n",
      "两个数组相乘\n",
      "[[  0.  10.  20.]\n",
      " [ 30.  40.  50.]\n",
      " [ 60.  70.  80.]]\n",
      "\n",
      "\n",
      "两个数组相除\n",
      "[[ 0.   0.1  0.2]\n",
      " [ 0.3  0.4  0.5]\n",
      " [ 0.6  0.7  0.8]]\n"
     ]
    }
   ],
   "source": [
    "# NumPy - 算数运算\n",
    "# 用于执行算术运算(如add()，subtract()，multiply()和divide())的输入数组必须具有相同的形状或符合数组广播规则。\n",
    "a=np.arange(9,dtype=np.float_).reshape(3,3)\n",
    "print('第一个数组')\n",
    "print(a)\n",
    "print('\\n')\n",
    "print('第二个数组')\n",
    "b=np.array([10,10,10])\n",
    "print(b)\n",
    "print('\\n')\n",
    "print('两个数组相加')\n",
    "print(np.add(a,b))\n",
    "print('\\n')\n",
    "print('两个数组相减')\n",
    "print(np.subtract(a,b))\n",
    "print('\\n')\n",
    "print('两个数组相乘')\n",
    "print(np.multiply(a,b))\n",
    "print('\\n')\n",
    "print('两个数组相除')\n",
    "print(np.divide(a,b))"
   ]
  },
  {
   "cell_type": "code",
   "execution_count": 47,
   "metadata": {},
   "outputs": [
    {
     "name": "stdout",
     "output_type": "stream",
     "text": [
      "我们的数组是\n",
      "[   0.25    1.33    1.      0.    100.  ]\n",
      "\n",
      "\n",
      "调用reciprocal函数\n",
      "[ 4.         0.7518797  1.               inf  0.01     ]\n",
      "\n",
      "\n",
      "第二个数组\n",
      "[100]\n",
      "\n",
      "\n",
      "调用reciprocal函数\n",
      "[0]\n"
     ]
    },
    {
     "name": "stderr",
     "output_type": "stream",
     "text": [
      "d:\\python3\\lib\\site-packages\\ipykernel_launcher.py:8: RuntimeWarning: divide by zero encountered in reciprocal\n",
      "  \n"
     ]
    }
   ],
   "source": [
    "# numpy.reciprocal()\n",
    "# 函数返回参数逐元素的倒数，。 由于 Python 处理整数除法的方式，对于绝对值大于 1 的整数元素，结果始终为 0， 对于整数 0，则发出溢出警告。\n",
    "a=np.array([0.25,1.33,1,0,100])\n",
    "print('我们的数组是')\n",
    "print(a)\n",
    "print('\\n')\n",
    "print('调用reciprocal函数')\n",
    "print(np.reciprocal(a))\n",
    "print('\\n')\n",
    "\n",
    "b=np.array([100],dtype=int)\n",
    "print('第二个数组')\n",
    "print(b)\n",
    "print('\\n')\n",
    "print('调用reciprocal函数')\n",
    "print(np.reciprocal(b))"
   ]
  },
  {
   "cell_type": "code",
   "execution_count": 49,
   "metadata": {},
   "outputs": [
    {
     "name": "stdout",
     "output_type": "stream",
     "text": [
      "我们的数组是：\n",
      "[  10  100 1000]\n",
      "\n",
      "\n",
      "调用power函数\n",
      "[    100   10000 1000000]\n",
      "\n",
      "\n",
      "第二个数组\n",
      "[1 2 3]\n",
      "\n",
      "\n",
      "再次调用power函数\n",
      "[        10      10000 1000000000]\n"
     ]
    }
   ],
   "source": [
    "# numpy.power()\n",
    "# 此函数将第一个输入数组中的元素作为底数，计算它与第二个输入数组中相应元素的幂。\n",
    "a=np.array([10,100,1000])\n",
    "print('我们的数组是：')\n",
    "print(a)\n",
    "print('\\n')\n",
    "print('调用power函数')\n",
    "print(np.power(a,2))\n",
    "print('\\n')\n",
    "print('第二个数组')\n",
    "b=np.array([1,2,3])\n",
    "print(b)\n",
    "print('\\n')\n",
    "print('再次调用power函数')\n",
    "print(np.power(a,numpy.mod()\n",
    "\n",
    "此函数返回输入数组中相应元素的除法余数。 函数numpy.remainder()也产生相同的结果。\n",
    "\n",
    "b))"
   ]
  },
  {
   "cell_type": "code",
   "execution_count": 50,
   "metadata": {},
   "outputs": [
    {
     "name": "stdout",
     "output_type": "stream",
     "text": [
      "第一个数组是\n",
      "[10 20 30]\n",
      "\n",
      "\n",
      "[3 5 7]\n",
      "\n",
      "\n",
      "调用mod()函数\n",
      "[1 0 2]\n",
      "\n",
      "\n",
      "调用remainder()函数\n",
      "[1 0 2]\n"
     ]
    }
   ],
   "source": [
    "# numpy.mod()\n",
    "# 此函数返回输入数组中相应元素的除法余数。 函数numpy.remainder()也产生相同的结果。\n",
    "a=np.array([10,20,30])\n",
    "b=np.array([3,5,7])\n",
    "print('第一个数组是')\n",
    "print(a)\n",
    "print('\\n')\n",
    "print(b)\n",
    "print('\\n')\n",
    "print('调用mod()函数')\n",
    "print(np.mod(a,b))\n",
    "print('\\n')\n",
    "print('调用remainder()函数')\n",
    "print(np.remainder(a,b))\n"
   ]
  },
  {
   "cell_type": "code",
   "execution_count": 52,
   "metadata": {},
   "outputs": [
    {
     "name": "stdout",
     "output_type": "stream",
     "text": [
      "我们的数组是：\n",
      "[ -0.-5.6j   0.+0.2j  11.+0.j    1.+1.j ]\n",
      "\n",
      "\n",
      "调用real()函数\n",
      "[ -0.   0.  11.   1.]\n",
      "\n",
      "\n",
      "调用imag()函数\n",
      "[-5.6  0.2  0.   1. ]\n",
      "\n",
      "\n",
      "调用conj()函数\n",
      "[ -0.+5.6j   0.-0.2j  11.-0.j    1.-1.j ]\n",
      "\n",
      "\n",
      "调用angle()函数\n",
      "[-1.57079633  1.57079633  0.          0.78539816]\n",
      "\n",
      "\n",
      "再次调用angle()函数（以角度制返回）\n",
      "[-90.  90.   0.  45.]\n"
     ]
    }
   ],
   "source": [
    "# 以下函数用于对含有复数的数组执行操作。\n",
    "# numpy.real() 返回复数类型参数的实部。\n",
    "# numpy.imag() 返回复数类型参数的虚部。\n",
    "# numpy.conj() 返回通过改变虚部的符号而获得的共轭复数。\n",
    "# numpy.angle() 返回复数参数的角度。 函数的参数是degree。 如果为true，返回的角度以角度制来表示，否则为以弧度制来表示。\n",
    "a=np.array([-5.6j,0.2j,11,1+1j])\n",
    "print('我们的数组是：')\n",
    "print(a)\n",
    "print('\\n')\n",
    "print('调用real()函数')\n",
    "print(np.real(a))\n",
    "print('\\n')\n",
    "\n",
    "print('调用imag()函数')\n",
    "print(np.imag(a))\n",
    "print('\\n')\n",
    "\n",
    "print('调用conj()函数')\n",
    "print(np.conj(a))\n",
    "print('\\n')\n",
    "\n",
    "print('调用angle()函数')\n",
    "print(np.angle(a))\n",
    "print('\\n')\n",
    "\n",
    "print('再次调用angle()函数（以角度制返回）')\n",
    "print(np.angle(a,deg=True))"
   ]
  },
  {
   "cell_type": "code",
   "execution_count": 54,
   "metadata": {},
   "outputs": [
    {
     "name": "stdout",
     "output_type": "stream",
     "text": [
      "我们的数组是\n",
      "[[3 7 5]\n",
      " [8 4 3]\n",
      " [2 4 9]]\n",
      "\n",
      "\n",
      "调用amin()函数\n",
      "[3 3 2]\n",
      "再次调用amin()函数\n",
      "[2 4 3]\n",
      "\n",
      "\n",
      "调用amax()函数\n",
      "9\n",
      "再次调用amax()函数\n",
      "[8 7 9]\n"
     ]
    }
   ],
   "source": [
    "# numpy.amin() 和 numpy.amax()\n",
    "# 这些函数从给定数组中的元素沿指定轴返回最小值和最大值。\n",
    "a=np.array([[3,7,5],[8,4,3],[2,4,9]])\n",
    "print('我们的数组是')\n",
    "print(a)\n",
    "print('\\n')\n",
    "\n",
    "print('调用amin()函数')\n",
    "print(np.amin(a,1))\n",
    "print('再次调用amin()函数')\n",
    "print(np.amin(a,0))\n",
    "print('\\n')\n",
    "\n",
    "print('调用amax()函数')\n",
    "print(np.amax(a))\n",
    "print('再次调用amax()函数')\n",
    "print(np.amax(a,axis=0))"
   ]
  },
  {
   "cell_type": "code",
   "execution_count": 56,
   "metadata": {},
   "outputs": [
    {
     "name": "stdout",
     "output_type": "stream",
     "text": [
      "我们的数组是\n",
      "[[3 7 5]\n",
      " [8 4 3]\n",
      " [2 4 9]]\n",
      "\n",
      "\n",
      "调用ptp()函数\n",
      "7\n",
      "\n",
      "\n",
      "沿轴1调用ptp()函数\n",
      "[4 5 7]\n",
      "\n",
      "\n",
      "沿 轴0调用ptp()函数\n",
      "[6 3 6]\n"
     ]
    }
   ],
   "source": [
    "# numpy.ptp()\n",
    "# numpy.ptp()函数返回沿轴的值的范围(最大值 - 最小值)。\n",
    "a=np.array([[3,7,5],[8,4,3],[2,4,9]])\n",
    "print('我们的数组是')\n",
    "print(a)\n",
    "print('\\n')\n",
    "\n",
    "print('调用ptp()函数')\n",
    "print(np.ptp(a))\n",
    "print('\\n')\n",
    "print('沿轴1调用ptp()函数')\n",
    "print(np.ptp(a,axis=1))\n",
    "print('\\n')\n",
    "\n",
    "print('沿 轴0调用ptp()函数')\n",
    "print(np.ptp(a,axis=0))\n",
    "      "
   ]
  },
  {
   "cell_type": "code",
   "execution_count": 58,
   "metadata": {},
   "outputs": [
    {
     "name": "stdout",
     "output_type": "stream",
     "text": [
      "我们的数组是\n",
      "[[30 40 70]\n",
      " [80 20 10]\n",
      " [ 0 90 60]]\n",
      "\n",
      "\n",
      "调用percentile()函数\n",
      "40.0\n",
      "\n",
      "\n",
      "沿轴1调用percentile()函数\n",
      "[ 40.  20.  60.]\n",
      "\n",
      "\n",
      "沿轴0调用percentile()函数\n",
      "[ 30.  40.  60.]\n"
     ]
    }
   ],
   "source": [
    "# numpy.percentile()\n",
    "# 百分位数是统计中使用的度量，表示小于这个值得观察值占某个百分比。 函数numpy.percentile()接受以下参数。\n",
    "# numpy.percentile(a, q, axis)\n",
    "# Python\n",
    "# 其中：\n",
    "# 序号\t参数及描述\n",
    "# 1.\ta 输入数组\n",
    "# 2.\tq 要计算的百分位数，在 0 ~ 100 之间\n",
    "# 3.\taxis 沿着它计算百分位数的轴\n",
    "\n",
    "a=np.array([[30,40,70],[80,20,10],[0,90,60]])\n",
    "print('我们的数组是')\n",
    "print(a)\n",
    "print('\\n')\n",
    "print('调用percentile()函数')\n",
    "print(np.percentile(a,50))\n",
    "print('\\n')\n",
    "print('沿轴1调用percentile()函数')\n",
    "print(np.percentile(a,50,axis=1))\n",
    "print('\\n')\n",
    "\n",
    "print('沿轴0调用percentile()函数')\n",
    "print(np.percentile(a,50,axis=0))"
   ]
  },
  {
   "cell_type": "code",
   "execution_count": 59,
   "metadata": {},
   "outputs": [
    {
     "name": "stdout",
     "output_type": "stream",
     "text": [
      "我们的数组是\n",
      "[[30 65 70]\n",
      " [80 95 10]\n",
      " [50 90 60]]\n",
      "\n",
      "\n",
      "调用median()函数\n",
      "65.0\n",
      "\n",
      "\n",
      "沿轴0调用median()函数\n",
      "[ 50.  90.  60.]\n",
      "\n",
      "\n",
      "沿轴1调用median()函数\n",
      "[ 55.          61.66666667  66.66666667]\n"
     ]
    }
   ],
   "source": [
    "# numpy.median()\n",
    "# 中值定义为将数据样本的上半部分与下半部分分开的值。 numpy.median()函数的用法如下面的程序所示。\n",
    "a=np.array([[30,65,70],[80,95,10],[50,90,60]])\n",
    "print('我们的数组是')\n",
    "print(a)\n",
    "print('\\n')\n",
    "print('调用median()函数')\n",
    "print(np.median(a))\n",
    "print('\\n')\n",
    "\n",
    "print('沿轴0调用median()函数')\n",
    "print(np.median(a,axis=0))\n",
    "print('\\n')\n",
    "\n",
    "print('沿轴1调用median()函数')\n",
    "print(np.mean(a,axis=1))"
   ]
  },
  {
   "cell_type": "code",
   "execution_count": 60,
   "metadata": {},
   "outputs": [
    {
     "name": "stdout",
     "output_type": "stream",
     "text": [
      "我们的数组是\n",
      "[[1 2 3]\n",
      " [4 5 6]\n",
      " [7 8 9]]\n",
      "\n",
      "\n",
      "调用mean()函数\n",
      "5.0\n",
      "\n",
      "\n",
      "沿轴0调用mean()函数\n",
      "[ 4.  5.  6.]\n",
      "\n",
      "\n",
      "沿轴1调用mean()函数\n",
      "[ 2.  5.  8.]\n"
     ]
    }
   ],
   "source": [
    "# numpy.mean()\n",
    "# 算术平均值是沿轴的元素的总和除以元素的数量。 numpy.mean()函数返回数组中元素的算术平均值。 如果提供了轴，则沿其计算。\n",
    "a=np.array([[1,2,3],[4,5,6],[7,8,9]])\n",
    "print('我们的数组是')\n",
    "print(a)\n",
    "print('\\n')\n",
    "print('调用mean()函数')\n",
    "print(np.mean(a))\n",
    "print('\\n')\n",
    "print('沿轴0调用mean()函数')\n",
    "print(np.mean(a,axis=0))\n",
    "print('\\n')\n",
    "\n",
    "print('沿轴1调用mean()函数')\n",
    "print(np.mean(a,axis=1))"
   ]
  },
  {
   "cell_type": "code",
   "execution_count": 63,
   "metadata": {},
   "outputs": [
    {
     "name": "stdout",
     "output_type": "stream",
     "text": [
      "我们的数组是\n",
      "[1 2 3 4]\n",
      "\n",
      "\n",
      "调用avergae函数\n",
      "2.5\n",
      "\n",
      "\n",
      "再次调用average()函数\n",
      "2.0\n",
      "\n",
      "\n",
      "权重的和\n",
      "2.0\n",
      "我们的数组是\n",
      "[[0 1]\n",
      " [2 3]\n",
      " [4 5]]\n",
      "\n",
      "\n",
      "修改后的数组\n",
      "[ 0.625  2.625  4.625]\n",
      "\n",
      "\n",
      "修改后的数组\n",
      "(array([ 0.625,  2.625,  4.625]), array([ 8.,  8.,  8.]))\n"
     ]
    }
   ],
   "source": [
    "# numpy.average()\n",
    "# 加权平均值是由每个分量乘以反映其重要性的因子得到的平均值。 numpy.average()函数根据在另一个数组中给出的各自的权重计算数组中元素的加权平均值。 该函数可以接受一个轴参数。 如果没有指定轴，则数组会被展开。\n",
    "# 考虑数组[1,2,3,4]和相应的权重[4,3,2,1]，通过将相应元素的乘积相加，并将和除以权重的和，来计算加权平均值。\n",
    "# 加权平均值 = (1*4+2*3+3*2+4*1)/(4+3+2+1)\n",
    "a=np.array([1,2,3,4])\n",
    "print('我们的数组是')\n",
    "print(a)\n",
    "print('\\n')\n",
    "print('调用avergae函数')\n",
    "print(np.average(a))\n",
    "print('\\n')\n",
    "#不指定权重时相当于average()函数\n",
    "wts=np.array([4,3,2,1])\n",
    "print('再次调用average()函数')\n",
    "print(np.average(a,weights=wts))\n",
    "print('\\n')\n",
    "#如果returned参数设为ture,则返回权重的和\n",
    "print('权重的和')\n",
    "print(np.average([1,2,3,4],weights=[4,3,2,1]))\n",
    "\n",
    "# 在多维数组中，可以指定用于计算的轴。\n",
    "a=np.arange(6).reshape(3,2)\n",
    "print('我们的数组是')\n",
    "print(a)\n",
    "print('\\n')\n",
    "\n",
    "print('修改后的数组')\n",
    "wt=np.array([3,5])\n",
    "print(np.average(a,axis=1,weights=wt))\n",
    "print('\\n')\n",
    "print('修改后的数组')\n",
    "print(np.average(a,axis=1,weights=wt,returned=True))"
   ]
  },
  {
   "cell_type": "code",
   "execution_count": 65,
   "metadata": {},
   "outputs": [
    {
     "name": "stdout",
     "output_type": "stream",
     "text": [
      "1.11803398875\n"
     ]
    }
   ],
   "source": [
    "# 标准差\n",
    "# 标准差是与均值的偏差的平方的平均值的平方根。 标准差公式如下：\n",
    "# std = sqrt(mean((x - x.mean())**2))\n",
    "# Python\n",
    "# 如果数组是[1，2，3，4]，则其平均值为2.5。 因此，差的平方是[2.25,0.25,0.25,2.25]，并且其平均值的平方根除以4，即sqrt(5/4)是1.1180339887498949。\n",
    "print(np.std([1,2,3,4]))"
   ]
  },
  {
   "cell_type": "code",
   "execution_count": 66,
   "metadata": {},
   "outputs": [
    {
     "name": "stdout",
     "output_type": "stream",
     "text": [
      "1.25\n"
     ]
    }
   ],
   "source": [
    "# 方差\n",
    "# 方差是偏差的平方的平均值，即mean((x - x.mean())** 2)。 换句话说，标准差是方差的平方根。\n",
    "print(np.var([1,2,3,4]))\n"
   ]
  },
  {
   "cell_type": "code",
   "execution_count": 69,
   "metadata": {},
   "outputs": [
    {
     "name": "stdout",
     "output_type": "stream",
     "text": [
      "我们的数组是\n",
      "[[3 7]\n",
      " [9 1]]\n",
      "\n",
      "\n",
      "调用sort()函数\n",
      "[[3 7]\n",
      " [1 9]]\n",
      "\n",
      "\n",
      "沿轴0排序\n",
      "[[3 1]\n",
      " [9 7]]\n",
      "\n",
      "\n",
      "我们的数组是\n",
      "[(b'li', 18) (b'zhao', 19) (b'qian', 20) (b'sun', 32)]\n",
      "\n",
      "\n",
      "按name排序\n",
      "[(b'li', 18) (b'qian', 20) (b'sun', 32) (b'zhao', 19)]\n"
     ]
    }
   ],
   "source": [
    "# NumPy中提供了各种排序相关功能。 这些排序函数实现不同的排序算法，每个排序算法的特征在于执行速度，最坏情况性能，所需的工作空间和算法的稳定性。 下表显示了三种排序算法的比较。\n",
    "# 种类\t速度\t最坏情况\t工作空间\t稳定性\n",
    "# 'quicksort'(快速排序)\t1\tO(n^2)\t0\t否\n",
    "# 'mergesort'(归并排序)\t2\tO(n*log(n))\t~n/2\t是\n",
    "# 'heapsort'(堆排序)\t3\tO(n*log(n))\t0\t否\n",
    "# numpy.sort()\n",
    "# sort()函数返回输入数组的排序副本。 它有以下参数：\n",
    "# numpy.sort(a, axis, kind, order)\n",
    "# Python\n",
    "# 其中：\n",
    "# 序号\t参数及描述\n",
    "# 1.\ta 要排序的数组\n",
    "# 2.\taxis 沿着它排序数组的轴，如果没有数组会被展开，沿着最后的轴排序\n",
    "# 3.\tkind 默认为'quicksort'(快速排序)\n",
    "# 4.\torder 如果数组包含字段，则是要排序的字段\n",
    "a=np.array([[3,7],[9,1]])\n",
    "print('我们的数组是')\n",
    "print(a)\n",
    "print('\\n')\n",
    "print('调用sort()函数')\n",
    "print(np.sort(a))\n",
    "print('\\n')\n",
    "print('沿轴0排序')\n",
    "print(np.sort(a,axis=0))\n",
    "print('\\n')\n",
    "\n",
    "#在sort函数中排序字段\n",
    "dt=np.dtype([('name','S10'),('age','int')])\n",
    "a=np.array([('li',18),('zhao',19),('qian',20),('sun',32)],dtype=dt)\n",
    "print('我们的数组是')\n",
    "print(a)\n",
    "print('\\n')\n",
    "\n",
    "print('按name排序')\n",
    "print(np.sort(a,order='name'))"
   ]
  },
  {
   "cell_type": "code",
   "execution_count": 71,
   "metadata": {},
   "outputs": [
    {
     "name": "stdout",
     "output_type": "stream",
     "text": [
      "我们的数组是\n",
      "[3 1 2]\n",
      "\n",
      "\n",
      "对x 调用 argsort()函数\n",
      "[1 2 0]\n",
      "\n",
      "\n",
      "以排序后的顺序重构原数组\n",
      "[1 2 3]\n",
      "\n",
      "\n",
      "使用循环重构原数组\n",
      "1\n",
      "2\n",
      "3\n"
     ]
    }
   ],
   "source": [
    "# numpy.argsort()\n",
    "# numpy.argsort()函数对输入数组沿给定轴执行间接排序，并使用指定排序类型返回数据的索引数组。 这个索引数组用于构造排序后的数组。\n",
    "x=np.array([3,1,2])\n",
    "print('我们的数组是')\n",
    "print(x)\n",
    "print('\\n')\n",
    "print('对x 调用 argsort()函数')\n",
    "y=np.argsort(x)\n",
    "print(y)\n",
    "print('\\n')\n",
    "print('以排序后的顺序重构原数组')\n",
    "print(x[y])\n",
    "print('\\n')\n",
    "print('使用循环重构原数组')\n",
    "for i in y:\n",
    "    print (x[i])"
   ]
  },
  {
   "cell_type": "code",
   "execution_count": 72,
   "metadata": {},
   "outputs": [
    {
     "name": "stdout",
     "output_type": "stream",
     "text": [
      "调用lexsort()函数\n",
      "[3 1 2 0]\n",
      "\n",
      "\n",
      "使用这个索引来获取排序后的数据\n",
      "['li,f.y', 'qian,s.y', 'sun,s.y', 'zhao,f.y']\n"
     ]
    }
   ],
   "source": [
    "# numpy.lexsort()\n",
    "# 函数使用键序列执行间接排序。 键可以看作是电子表格中的一列。 该函数返回一个索引数组，使用它可以获得排序数据。 注意，最后一个键恰好是 sort 的主键。\n",
    "nm=('zhao','qian','sun','li')\n",
    "dv=('f.y','s.y','s.y','f.y')\n",
    "ind=np.lexsort((dv,nm))\n",
    "print('调用lexsort()函数')\n",
    "print(ind)\n",
    "print('\\n')\n",
    "print('使用这个索引来获取排序后的数据')\n",
    "print([nm[i]+','+dv[i] for i in ind])"
   ]
  },
  {
   "cell_type": "code",
   "execution_count": 77,
   "metadata": {},
   "outputs": [
    {
     "name": "stdout",
     "output_type": "stream",
     "text": [
      "我们的数组是\n",
      "[[30 40 70]\n",
      " [80 20 10]\n",
      " [50 90 60]]\n",
      "\n",
      "\n",
      "调用argmax()函数\n",
      "7\n",
      "\n",
      "\n",
      "展开数组\n",
      "[30 40 70 80 20 10 50 90 60]\n",
      "\n",
      "\n",
      "沿轴0 的最大索引\n",
      "[1 2 0]\n",
      "\n",
      "\n",
      "沿轴1的最大索引\n",
      "[2 0 1]\n",
      "\n",
      "\n",
      "调用argmin()函数\n",
      "5\n",
      "\n",
      "\n",
      "展开数组中的最小值\n",
      "10\n",
      "\n",
      "\n",
      "沿轴0的最小值索引\n",
      "[0 1 1]\n",
      "\n",
      "\n",
      "沿轴1的最小值的索引\n",
      "[0 2 0]\n"
     ]
    }
   ],
   "source": [
    "# numpy.argmax() 和 numpy.argmin()\n",
    "# 这两个函数分别沿给定轴返回最大和最小元素的索引。\n",
    "a=np.array([[30,40,70],[80,20,10],[50,90,60]])\n",
    "print('我们的数组是')\n",
    "print(a)\n",
    "print('\\n')\n",
    "print('调用argmax()函数')\n",
    "print(np.argmax(a))\n",
    "print('\\n')\n",
    "\n",
    "print('展开数组')\n",
    "print(a.flatten())\n",
    "print('\\n')\n",
    "\n",
    "print('沿轴0 的最大索引')\n",
    "maxindex=np.argmax(a,axis=0)\n",
    "print(maxindex)\n",
    "print('\\n')\n",
    "\n",
    "print('沿轴1的最大索引')\n",
    "maxindex=np.argmax(a,axis=1)\n",
    "print(maxindex)\n",
    "print('\\n')\n",
    "\n",
    "print('调用argmin()函数')\n",
    "minindex=np.argmin(a)\n",
    "print(minindex)\n",
    "print('\\n')\n",
    "\n",
    "print('展开数组中的最小值')\n",
    "print(a.flatten()[minindex])\n",
    "print('\\n')\n",
    "print('沿轴0的最小值索引')\n",
    "minindex=np.argmin(a,axis=0)\n",
    "print(minindex)\n",
    "print('\\n')\n",
    "\n",
    "print('沿轴1的最小值的索引')\n",
    "minindex=np.argmin(a,axis=1)\n",
    "print(minindex)"
   ]
  },
  {
   "cell_type": "code",
   "execution_count": 79,
   "metadata": {},
   "outputs": [
    {
     "name": "stdout",
     "output_type": "stream",
     "text": [
      "我们的数组是\n",
      "[[30 40  0]\n",
      " [ 0 20 10]\n",
      " [50  0 60]]\n",
      "\n",
      "\n",
      "调用nonozero()函数\n",
      "(array([0, 0, 1, 1, 2, 2], dtype=int64), array([0, 1, 1, 2, 0, 2], dtype=int64))\n"
     ]
    }
   ],
   "source": [
    "# numpy.nonzero()\n",
    "# numpy.nonzero()函数返回输入数组中非零元素的索引。\n",
    "a=np.array([[30,40,0],[0,20,10],[50,0,60]])\n",
    "print('我们的数组是')\n",
    "print(a)\n",
    "print('\\n')\n",
    "\n",
    "print('调用nonozero()函数')\n",
    "print(np.nonzero(a))"
   ]
  },
  {
   "cell_type": "code",
   "execution_count": 81,
   "metadata": {},
   "outputs": [
    {
     "name": "stdout",
     "output_type": "stream",
     "text": [
      "我们的数组是\n",
      "[[0 1 2]\n",
      " [3 4 5]\n",
      " [6 7 8]]\n",
      "大于3的元素的索引\n",
      "(array([1, 1, 2, 2, 2], dtype=int64), array([1, 2, 0, 1, 2], dtype=int64))\n",
      "使用这些索引来获取满足条件的元素\n",
      "[4 5 6 7 8]\n"
     ]
    }
   ],
   "source": [
    "# numpy.where()\n",
    "# where()函数返回输入数组中满足给定条件的元素的索引。\n",
    "x=np.arange(9).reshape(3,3)\n",
    "print('我们的数组是')\n",
    "print(x)\n",
    "\n",
    "print('大于3的元素的索引')\n",
    "y=np.where(x>3)\n",
    "print(y)\n",
    "print('使用这些索引来获取满足条件的元素')\n",
    "print(x[y])"
   ]
  },
  {
   "cell_type": "code",
   "execution_count": 82,
   "metadata": {},
   "outputs": [
    {
     "name": "stdout",
     "output_type": "stream",
     "text": [
      "我们的数组\n",
      "[[0 1 2]\n",
      " [3 4 5]\n",
      " [6 7 8]]\n",
      "按元素的条件值\n",
      "[[ True False  True]\n",
      " [False  True False]\n",
      " [ True False  True]]\n",
      "使用条件提取元素\n",
      "[0 2 4 6 8]\n"
     ]
    }
   ],
   "source": [
    "# numpy.extract()\n",
    "# extract()函数返回满足任何条件的元素。\n",
    "\n",
    "x=np.arange(9).reshape(3,3)\n",
    "print('我们的数组')\n",
    "print(x)\n",
    "#定义条件\n",
    "condition=np.mod(x,2) ==0\n",
    "print('按元素的条件值')\n",
    "print(condition)\n",
    "print('使用条件提取元素')\n",
    "print(np.extract(condition,x))"
   ]
  },
  {
   "cell_type": "code",
   "execution_count": 86,
   "metadata": {},
   "outputs": [
    {
     "name": "stdout",
     "output_type": "stream",
     "text": [
      "我们的数组是\n",
      "[   1  256 8755]\n",
      "以十六进制表示内存中的数据\n",
      "<map object at 0x000000000F64E6A0>\n",
      "调用byswap()函数\n",
      "[ 50331648  83886080 117440512]\n",
      "十六进制形式\n",
      "<map object at 0x000000000F64E2B0>\n"
     ]
    }
   ],
   "source": [
    "# numpy.ndarray.byteswap()\n",
    "# numpy.ndarray.byteswap()函数在两个表示：大端和小端之间切换。\n",
    "a=np.array([1,256,8755],dtype=np.int16)\n",
    "print('我们的数组是')\n",
    "print(a)\n",
    "print('以十六进制表示内存中的数据')\n",
    "print(map(hex,a))\n",
    "#byswap()函数通过传入true来源原地交换\n",
    "\n",
    "print('调用byswap()函数')\n",
    "print(b.byteswap(True))\n",
    "print('十六进制形式')\n",
    "print(map(hex,a))\n",
    "#我们可以看到字节已经交换了"
   ]
  },
  {
   "cell_type": "code",
   "execution_count": null,
   "metadata": {},
   "outputs": [],
   "source": []
  }
 ],
 "metadata": {
  "kernelspec": {
   "display_name": "Python 3",
   "language": "python",
   "name": "python3"
  },
  "language_info": {
   "codemirror_mode": {
    "name": "ipython",
    "version": 3
   },
   "file_extension": ".py",
   "mimetype": "text/x-python",
   "name": "python",
   "nbconvert_exporter": "python",
   "pygments_lexer": "ipython3",
   "version": "3.6.4"
  }
 },
 "nbformat": 4,
 "nbformat_minor": 2
}
