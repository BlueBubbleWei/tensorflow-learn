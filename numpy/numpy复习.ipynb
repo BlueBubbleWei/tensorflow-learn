{
 "cells": [
  {
   "cell_type": "code",
   "execution_count": 2,
   "metadata": {},
   "outputs": [],
   "source": [
    "def quicksort(arr):\n",
    "    if len(arr) <=1:\n",
    "        return arr\n",
    "    pivot=arr[len(arr)/2]\n",
    "    left=[x for x in arr if x <pivot]\n",
    "    middle=[x for x in arr if x==pivot]\n",
    "    right=[x for x in arr if x>pivot]\n",
    "    return quicksort(left) +middle +quicksort(right)"
   ]
  },
  {
   "cell_type": "code",
   "execution_count": 11,
   "metadata": {},
   "outputs": [
    {
     "name": "stdout",
     "output_type": "stream",
     "text": [
      "<class 'int'>\n",
      "3\n",
      "4\n",
      "2\n",
      "6\n",
      "9\n",
      "*************************\n",
      "4\n",
      "8\n",
      "***************************\n",
      "2.5 \t 3.5 \t 5.0 \t 6.25\n"
     ]
    }
   ],
   "source": [
    "x=3\n",
    "print(type(x))\n",
    "\n",
    "print(x)\n",
    "print(x+1)\n",
    "print(x-1)\n",
    "print(x*2)\n",
    "print(x**2)\n",
    "print('*************************')\n",
    "x+=1\n",
    "print(x)\n",
    "x*=2\n",
    "print(x)\n",
    "print('***************************')\n",
    "y=2.5\n",
    "print(y,'\\t',y+1,'\\t',y*2,'\\t',y**2)"
   ]
  },
  {
   "cell_type": "code",
   "execution_count": 13,
   "metadata": {},
   "outputs": [
    {
     "name": "stdout",
     "output_type": "stream",
     "text": [
      "<class 'bool'>\n",
      "False\n",
      "True\n",
      "False\n",
      "True\n"
     ]
    }
   ],
   "source": [
    "#Booleans：Python的布尔型逻辑和其他语言都一样，\n",
    "t=True\n",
    "f=False\n",
    "print(type(t))\n",
    "print(t and f)\n",
    "print(t or f)\n",
    "print(not t)\n",
    "print( t !=f)"
   ]
  },
  {
   "cell_type": "code",
   "execution_count": 16,
   "metadata": {},
   "outputs": [
    {
     "name": "stdout",
     "output_type": "stream",
     "text": [
      "hello\n",
      "world\n",
      "5\n",
      "helloworld\n",
      "hello world           12\n"
     ]
    }
   ],
   "source": [
    "#Strings:Python对字符型的支持非常强大。\n",
    "hello='hello'\n",
    "world='world'\n",
    "print(hello)\n",
    "print(world)\n",
    "print(len(hello))\n",
    "hw=hello + '' +world\n",
    "print(hw)\n",
    "hw12='%s %s %12d' %(hello,world,12)#打印为文字和数字\n",
    "print(hw12)"
   ]
  },
  {
   "cell_type": "code",
   "execution_count": 20,
   "metadata": {},
   "outputs": [
    {
     "name": "stdout",
     "output_type": "stream",
     "text": [
      "Hello\n",
      "HELLO\n",
      "hello\n",
      "  hello\n",
      " hello \n",
      "heaao\n",
      "fd fffff fff\n"
     ]
    }
   ],
   "source": [
    "s='hello'\n",
    "print(s.capitalize())\n",
    "print(s.upper())\n",
    "print(s.lower())\n",
    "print(s.rjust(7))#向右调整7个bit\n",
    "print(s.center(7))\n",
    "print(s.replace('l','a'))\n",
    "print('fd fffff fff'.strip())"
   ]
  },
  {
   "cell_type": "code",
   "execution_count": 21,
   "metadata": {},
   "outputs": [
    {
     "name": "stdout",
     "output_type": "stream",
     "text": [
      "[3, 1, 2] 2\n",
      "2\n",
      "[3, 1, 'fool']\n",
      "[3, 1, 'fool', 'bar']\n",
      "bar [3, 1, 'fool']\n"
     ]
    }
   ],
   "source": [
    "# Containers:Python包含了几个内置的容器类型：lists, dictionaries, sets, and tuples\n",
    "# Lists:list在Python中几乎等价于数组，但是是可调整大小的同时也可以包容不同类型的元素。\n",
    "xs=[3,1,2]\n",
    "print(xs,xs[2])\n",
    "print(xs[-1])\n",
    "xs[2]='fool'\n",
    "print(xs)\n",
    "xs.append('bar')\n",
    "print(xs)\n",
    "x=xs.pop()\n",
    "print(x,xs)"
   ]
  },
  {
   "cell_type": "code",
   "execution_count": 9,
   "metadata": {},
   "outputs": [
    {
     "name": "stdout",
     "output_type": "stream",
     "text": [
      "range(0, 5)\n",
      "range(2, 4)\n",
      "range(2, 5)\n",
      "range(0, 2)\n",
      "range(0, 5)\n",
      "range(0, 4)\n",
      "range(0, 5)\n"
     ]
    }
   ],
   "source": [
    "#Slicing：除了每次访问一个列表元素，Python还提供了一种简洁的语法去访问子列表，这被称为slicing:\n",
    "nums=range(5)\n",
    "print(nums)\n",
    "print(nums[2:4])\n",
    "print(nums[2:])\n",
    "print(nums[:2])\n",
    "print(nums[:])\n",
    "print(nums[:-1])\n",
    "#nums[2:4]=[8, 9]\n",
    "print(nums)"
   ]
  },
  {
   "cell_type": "code",
   "execution_count": 27,
   "metadata": {},
   "outputs": [
    {
     "name": "stdout",
     "output_type": "stream",
     "text": [
      "0: cat\n",
      "1: dog\n",
      "2: pig\n"
     ]
    }
   ],
   "source": [
    "animals=['cat','dog','pig']\n",
    "for idx ,animal in enumerate(animals):\n",
    "    print('%d: %s' %(idx,animal))#打印文字、数字的一种方式\n",
    "    "
   ]
  },
  {
   "cell_type": "code",
   "execution_count": 3,
   "metadata": {},
   "outputs": [],
   "source": [
    " import numpy as np\n",
    "    "
   ]
  },
  {
   "cell_type": "code",
   "execution_count": 33,
   "metadata": {},
   "outputs": [
    {
     "name": "stdout",
     "output_type": "stream",
     "text": [
      "[[ 0.01072728  0.26539607]\n",
      " [ 0.06802829  0.10066067]\n",
      " [ 0.12577319  0.14549275]]\n"
     ]
    }
   ],
   "source": [
    "sample1=np.random.random((3,2))#生成3行2列从0到1的随机数\n",
    "print(sample1)"
   ]
  },
  {
   "cell_type": "code",
   "execution_count": 7,
   "metadata": {},
   "outputs": [
    {
     "name": "stdout",
     "output_type": "stream",
     "text": [
      "[[-0.20233037  0.40804388]\n",
      " [-1.03352091 -0.21774014]\n",
      " [ 0.15115407  2.22703598]]\n"
     ]
    }
   ],
   "source": [
    "sample2=np.random.normal(size=(3,2))#生成符合正态分布的随机数\n",
    "print(sample2)"
   ]
  },
  {
   "cell_type": "code",
   "execution_count": 8,
   "metadata": {},
   "outputs": [
    {
     "name": "stdout",
     "output_type": "stream",
     "text": [
      "[[8 1]\n",
      " [5 8]\n",
      " [3 4]]\n"
     ]
    }
   ],
   "source": [
    "sample3=np.random.randint(0,10,size=(3,2))#生成3行2列从0到100的随机整数\n",
    "print(sample3)"
   ]
  },
  {
   "cell_type": "code",
   "execution_count": 10,
   "metadata": {},
   "outputs": [
    {
     "data": {
      "text/plain": [
       "29"
      ]
     },
     "execution_count": 10,
     "metadata": {},
     "output_type": "execute_result"
    }
   ],
   "source": [
    "np.sum(sample3)#求和"
   ]
  },
  {
   "cell_type": "code",
   "execution_count": 11,
   "metadata": {},
   "outputs": [
    {
     "data": {
      "text/plain": [
       "1"
      ]
     },
     "execution_count": 11,
     "metadata": {},
     "output_type": "execute_result"
    }
   ],
   "source": [
    "np.min(sample3)#求最小值"
   ]
  },
  {
   "cell_type": "code",
   "execution_count": 12,
   "metadata": {},
   "outputs": [
    {
     "data": {
      "text/plain": [
       "8"
      ]
     },
     "execution_count": 12,
     "metadata": {},
     "output_type": "execute_result"
    }
   ],
   "source": [
    "np.max(sample3)#求最大值"
   ]
  },
  {
   "cell_type": "code",
   "execution_count": 13,
   "metadata": {},
   "outputs": [
    {
     "data": {
      "text/plain": [
       "array([16, 13])"
      ]
     },
     "execution_count": 13,
     "metadata": {},
     "output_type": "execute_result"
    }
   ],
   "source": [
    "np.sum(sample3,axis=0)#对列求和"
   ]
  },
  {
   "cell_type": "code",
   "execution_count": 14,
   "metadata": {},
   "outputs": [
    {
     "data": {
      "text/plain": [
       "array([ 9, 13,  7])"
      ]
     },
     "execution_count": 14,
     "metadata": {},
     "output_type": "execute_result"
    }
   ],
   "source": [
    "np.sum(sample3,axis=1)#对行求和"
   ]
  },
  {
   "cell_type": "code",
   "execution_count": 15,
   "metadata": {},
   "outputs": [
    {
     "data": {
      "text/plain": [
       "1"
      ]
     },
     "execution_count": 15,
     "metadata": {},
     "output_type": "execute_result"
    }
   ],
   "source": [
    "np.argmin(sample3)#求最小值的索引"
   ]
  },
  {
   "cell_type": "code",
   "execution_count": 16,
   "metadata": {},
   "outputs": [
    {
     "data": {
      "text/plain": [
       "0"
      ]
     },
     "execution_count": 16,
     "metadata": {},
     "output_type": "execute_result"
    }
   ],
   "source": [
    "np.argmax(sample3)#求最大值的索引"
   ]
  },
  {
   "cell_type": "code",
   "execution_count": 21,
   "metadata": {},
   "outputs": [
    {
     "name": "stdout",
     "output_type": "stream",
     "text": [
      "4.83333333333\n",
      "4.83333333333\n"
     ]
    }
   ],
   "source": [
    "# 求元素的平均值的两种方式\n",
    "print(np.mean(sample3))\n",
    "print(sample3.mean())"
   ]
  },
  {
   "cell_type": "code",
   "execution_count": 23,
   "metadata": {},
   "outputs": [
    {
     "data": {
      "text/plain": [
       "4.5"
      ]
     },
     "execution_count": 23,
     "metadata": {},
     "output_type": "execute_result"
    }
   ],
   "source": [
    "#求中位数\n",
    "np.median(sample3)"
   ]
  },
  {
   "cell_type": "code",
   "execution_count": 24,
   "metadata": {},
   "outputs": [
    {
     "data": {
      "text/plain": [
       "array([[ 2.82842712,  1.        ],\n",
       "       [ 2.23606798,  2.82842712],\n",
       "       [ 1.73205081,  2.        ]])"
      ]
     },
     "execution_count": 24,
     "metadata": {},
     "output_type": "execute_result"
    }
   ],
   "source": [
    "#求开方\n",
    "np.sqrt(sample3)"
   ]
  },
  {
   "cell_type": "code",
   "execution_count": 26,
   "metadata": {},
   "outputs": [
    {
     "name": "stdout",
     "output_type": "stream",
     "text": [
      "[[0 4 1 1 6 2 2 2 8 6]]\n"
     ]
    }
   ],
   "source": [
    "sample4=np.random.randint(0,10,size=(1,10))\n",
    "print(sample4)"
   ]
  },
  {
   "cell_type": "code",
   "execution_count": 27,
   "metadata": {},
   "outputs": [
    {
     "data": {
      "text/plain": [
       "array([[0, 1, 1, 2, 2, 2, 4, 6, 6, 8]])"
      ]
     },
     "execution_count": 27,
     "metadata": {},
     "output_type": "execute_result"
    }
   ],
   "source": [
    "np.sort(sample4)"
   ]
  },
  {
   "cell_type": "code",
   "execution_count": 28,
   "metadata": {},
   "outputs": [
    {
     "name": "stdout",
     "output_type": "stream",
     "text": [
      "[[8 1]\n",
      " [5 8]\n",
      " [3 4]]\n",
      "[[1 8]\n",
      " [5 8]\n",
      " [3 4]]\n"
     ]
    }
   ],
   "source": [
    "print(sample3)\n",
    "print(np.sort(sample3))#按行从小到大排序"
   ]
  },
  {
   "cell_type": "code",
   "execution_count": 29,
   "metadata": {},
   "outputs": [
    {
     "data": {
      "text/plain": [
       "array([[2, 4, 2, 2, 6, 2, 2, 2, 7, 6]])"
      ]
     },
     "execution_count": 29,
     "metadata": {},
     "output_type": "execute_result"
    }
   ],
   "source": [
    "np.clip(sample4,2,7)#小于2的变成2，大于的变成7"
   ]
  },
  {
   "cell_type": "code",
   "execution_count": null,
   "metadata": {},
   "outputs": [],
   "source": []
  }
 ],
 "metadata": {
  "kernelspec": {
   "display_name": "Python 3",
   "language": "python",
   "name": "python3"
  },
  "language_info": {
   "codemirror_mode": {
    "name": "ipython",
    "version": 3
   },
   "file_extension": ".py",
   "mimetype": "text/x-python",
   "name": "python",
   "nbconvert_exporter": "python",
   "pygments_lexer": "ipython3",
   "version": "3.6.4"
  }
 },
 "nbformat": 4,
 "nbformat_minor": 2
}
