{
 "cells": [
  {
   "cell_type": "code",
   "execution_count": 1,
   "metadata": {},
   "outputs": [],
   "source": [
    "import numpy as np"
   ]
  },
  {
   "cell_type": "code",
   "execution_count": 5,
   "metadata": {},
   "outputs": [
    {
     "name": "stdout",
     "output_type": "stream",
     "text": [
      "[[1 2 3]\n",
      " [4 5 6]]\n",
      "[[1 1 2]\n",
      " [2 3 3]]\n"
     ]
    }
   ],
   "source": [
    "arr1=np.array([[1,2,3],[4,5,6]])\n",
    "print(arr1)\n",
    "arr2=np.array([[1,1,2],[2,3,3]])\n",
    "print(arr2)"
   ]
  },
  {
   "cell_type": "code",
   "execution_count": 6,
   "metadata": {},
   "outputs": [
    {
     "name": "stdout",
     "output_type": "stream",
     "text": [
      "[[2 3 5]\n",
      " [6 8 9]]\n"
     ]
    }
   ],
   "source": [
    "print(arr1+arr2)#两个矩阵相加"
   ]
  },
  {
   "cell_type": "code",
   "execution_count": 7,
   "metadata": {},
   "outputs": [
    {
     "name": "stdout",
     "output_type": "stream",
     "text": [
      "[[0 1 1]\n",
      " [2 2 3]]\n"
     ]
    }
   ],
   "source": [
    "print(arr1-arr2)#两个矩阵相减"
   ]
  },
  {
   "cell_type": "code",
   "execution_count": 8,
   "metadata": {},
   "outputs": [
    {
     "name": "stdout",
     "output_type": "stream",
     "text": [
      "[[ 1  2  6]\n",
      " [ 8 15 18]]\n"
     ]
    }
   ],
   "source": [
    "print(arr1*arr2)#两个矩阵的元素的乘积"
   ]
  },
  {
   "cell_type": "code",
   "execution_count": 9,
   "metadata": {},
   "outputs": [
    {
     "name": "stdout",
     "output_type": "stream",
     "text": [
      "[[  1   2   9]\n",
      " [ 16 125 216]]\n"
     ]
    }
   ],
   "source": [
    "print(arr1**arr2)#arr1的元素的指数是arr2的元素"
   ]
  },
  {
   "cell_type": "code",
   "execution_count": 10,
   "metadata": {},
   "outputs": [
    {
     "name": "stdout",
     "output_type": "stream",
     "text": [
      "[[ 1.          2.          1.5       ]\n",
      " [ 2.          1.66666667  2.        ]]\n"
     ]
    }
   ],
   "source": [
    "print(arr1/arr2)#矩阵的元素相除"
   ]
  },
  {
   "cell_type": "code",
   "execution_count": 11,
   "metadata": {},
   "outputs": [
    {
     "name": "stdout",
     "output_type": "stream",
     "text": [
      "[[0 0 1]\n",
      " [0 2 0]]\n"
     ]
    }
   ],
   "source": [
    "print(arr1%arr2)#取余"
   ]
  },
  {
   "cell_type": "code",
   "execution_count": 12,
   "metadata": {},
   "outputs": [
    {
     "name": "stdout",
     "output_type": "stream",
     "text": [
      "[[1 2 1]\n",
      " [2 1 2]]\n"
     ]
    }
   ],
   "source": [
    "print(arr1//arr2)#取整的操作"
   ]
  },
  {
   "cell_type": "code",
   "execution_count": 13,
   "metadata": {},
   "outputs": [
    {
     "name": "stdout",
     "output_type": "stream",
     "text": [
      "[[3 4 5]\n",
      " [6 7 8]]\n"
     ]
    }
   ],
   "source": [
    "print(arr1+2)#矩阵所有的元素+2"
   ]
  },
  {
   "cell_type": "code",
   "execution_count": 14,
   "metadata": {},
   "outputs": [
    {
     "name": "stdout",
     "output_type": "stream",
     "text": [
      "[[10 20 30]\n",
      " [40 50 60]]\n"
     ]
    }
   ],
   "source": [
    "print(arr1*10)#矩阵所有的元素 X 10"
   ]
  },
  {
   "cell_type": "code",
   "execution_count": 17,
   "metadata": {},
   "outputs": [
    {
     "name": "stdout",
     "output_type": "stream",
     "text": [
      "[[False False False]\n",
      " [ True  True  True]]\n"
     ]
    }
   ],
   "source": [
    "arr3=arr1>3#判断arr1中 大于3或者小于3的元素\n",
    "print(arr3)"
   ]
  },
  {
   "cell_type": "code",
   "execution_count": 18,
   "metadata": {},
   "outputs": [
    {
     "name": "stdout",
     "output_type": "stream",
     "text": [
      "[[ 1.  1.  1.  1.  1.]\n",
      " [ 1.  1.  1.  1.  1.]\n",
      " [ 1.  1.  1.  1.  1.]]\n"
     ]
    }
   ],
   "source": [
    "arr4=np.ones((3,5))\n",
    "print(arr4)"
   ]
  },
  {
   "cell_type": "code",
   "execution_count": 19,
   "metadata": {},
   "outputs": [
    {
     "name": "stdout",
     "output_type": "stream",
     "text": [
      "[[1 2 3]\n",
      " [4 5 6]]\n"
     ]
    }
   ],
   "source": [
    "print(arr1)"
   ]
  },
  {
   "cell_type": "code",
   "execution_count": 21,
   "metadata": {},
   "outputs": [
    {
     "data": {
      "text/plain": [
       "array([[  6.,   6.,   6.,   6.,   6.],\n",
       "       [ 15.,  15.,  15.,  15.,  15.]])"
      ]
     },
     "execution_count": 21,
     "metadata": {},
     "output_type": "execute_result"
    }
   ],
   "source": [
    "np.dot(arr1,arr4)#矩阵的乘法"
   ]
  },
  {
   "cell_type": "code",
   "execution_count": 23,
   "metadata": {},
   "outputs": [
    {
     "name": "stdout",
     "output_type": "stream",
     "text": [
      "[[1 2 3]\n",
      " [4 5 6]]\n",
      "[[1 4]\n",
      " [2 5]\n",
      " [3 6]]\n",
      "[[1 4]\n",
      " [2 5]\n",
      " [3 6]]\n"
     ]
    }
   ],
   "source": [
    "print(arr1)\n",
    "print(arr1.T)\n",
    "print(np.transpose(arr1))"
   ]
  },
  {
   "cell_type": "code",
   "execution_count": 35,
   "metadata": {},
   "outputs": [
    {
     "name": "stdout",
     "output_type": "stream",
     "text": [
      "[[0, 0, 0], [0, 0, 0], [0, 0, 0]]\n",
      "491351488 491351488 491351488\n",
      "[[7, 8, 9], [7, 8, 9], [7, 8, 9]]\n"
     ]
    }
   ],
   "source": [
    "n = 3\n",
    "res = [[0] * n] * n\n",
    "print(res)\n",
    "print(id(res[0][0]),id(res[1][0]),id(res[0][1]))\n",
    "k = 1\n",
    "for i in range(n):    \n",
    "    for j in range(n):\n",
    "        res[i][j] = k\n",
    "        k += 1\n",
    "print(res)"
   ]
  },
  {
   "cell_type": "code",
   "execution_count": 41,
   "metadata": {},
   "outputs": [
    {
     "name": "stdout",
     "output_type": "stream",
     "text": [
      "Considering the challenge imposed by the aforementioned imbalance during the binary VPP method, we havenewly designed the VPP module. As stated before, the purpose of attaching the VPP task is to improve a scene representation that implies a global context to predict invisiblelanes due to occlusions or extreme illumination condition.The whole scene should be taken into account to efficientlyreflect global information inferring lane locations. We usea quadrant mask that divides the whole image into four sections. The intersection of these four sections is a VP. In thisway, we can infer the VP using four quadrant sections whichcover the structures of a global scene. To implement this,we define five channels for the output of the VPP task: oneabsence channel and four quadrant channels. Every pixel in the output image chooses to belong to one of the fivechannels. The absence channel is used to represent a pixelwith no VP, while the four quadrant channels stand for oneof the quadrant sections on the image. For example, if theVP is present in the image, every pixel should be assignedto one of the quadrant channels, while the absence channel cannot be chosen. Specifically, the third channel wouldbe guided by the upper right diagonal edges from the roadscene, and the fourth channel would extract the upper leftdiagonal edges from the road scene. On the other hand, ifthe VP is hard to be identified (e.g. intersection roads, occlusions), every pixel will tend to be classified as the absencechannel. In this case, the average confidence of the absencechannel would be high.\n"
     ]
    }
   ],
   "source": [
    "str='''Considering the challenge imposed by the aforementioned imbalance during the binary VPP method, we have\n",
    "newly designed the VPP module. As stated before, the purpose of attaching the VPP task is to improve a scene representation that implies a global context to predict invisible\n",
    "lanes due to occlusions or extreme illumination condition.\n",
    "The whole scene should be taken into account to efficiently\n",
    "reflect global information inferring lane locations. We use\n",
    "a quadrant mask that divides the whole image into four sections. The intersection of these four sections is a VP. In this\n",
    "way, we can infer the VP using four quadrant sections which\n",
    "cover the structures of a global scene. To implement this,\n",
    "we define five channels for the output of the VPP task: one\n",
    "absence channel and four quadrant channels. Every pixel in the output image chooses to belong to one of the five\n",
    "channels. The absence channel is used to represent a pixel\n",
    "with no VP, while the four quadrant channels stand for one\n",
    "of the quadrant sections on the image. For example, if the\n",
    "VP is present in the image, every pixel should be assigned\n",
    "to one of the quadrant channels, while the absence channel cannot be chosen. Specifically, the third channel would\n",
    "be guided by the upper right diagonal edges from the road\n",
    "scene, and the fourth channel would extract the upper left\n",
    "diagonal edges from the road scene. On the other hand, if\n",
    "the VP is hard to be identified (e.g. intersection roads, occlusions), every pixel will tend to be classified as the absence\n",
    "channel. In this case, the average confidence of the absence\n",
    "channel would be high.'''\n",
    "print(str.replace('\\n',''))"
   ]
  },
  {
   "cell_type": "code",
   "execution_count": null,
   "metadata": {},
   "outputs": [],
   "source": []
  }
 ],
 "metadata": {
  "kernelspec": {
   "display_name": "Python 3",
   "language": "python",
   "name": "python3"
  },
  "language_info": {
   "codemirror_mode": {
    "name": "ipython",
    "version": 3
   },
   "file_extension": ".py",
   "mimetype": "text/x-python",
   "name": "python",
   "nbconvert_exporter": "python",
   "pygments_lexer": "ipython3",
   "version": "3.6.4"
  }
 },
 "nbformat": 4,
 "nbformat_minor": 2
}
