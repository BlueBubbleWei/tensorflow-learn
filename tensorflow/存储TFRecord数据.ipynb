{
 "cells": [
  {
   "cell_type": "code",
   "execution_count": 1,
   "metadata": {},
   "outputs": [
    {
     "name": "stderr",
     "output_type": "stream",
     "text": [
      "C:\\Program Files (x86)\\software\\Anaconda\\lib\\site-packages\\h5py\\__init__.py:36: FutureWarning: Conversion of the second argument of issubdtype from `float` to `np.floating` is deprecated. In future, it will be treated as `np.float64 == np.dtype(float).type`.\n",
      "  from ._conv import register_converters as _register_converters\n"
     ]
    },
    {
     "name": "stdout",
     "output_type": "stream",
     "text": [
      "WARNING:tensorflow:From C:\\Program Files (x86)\\software\\Anaconda\\lib\\site-packages\\tensorflow\\contrib\\learn\\python\\learn\\datasets\\base.py:198: retry (from tensorflow.contrib.learn.python.learn.datasets.base) is deprecated and will be removed in a future version.\n",
      "Instructions for updating:\n",
      "Use the retry module or similar alternatives.\n"
     ]
    }
   ],
   "source": [
    "import tensorflow as tf\n",
    "from tensorflow.examples.tutorials.mnist import input_data\n",
    "import numpy as np"
   ]
  },
  {
   "cell_type": "code",
   "execution_count": 2,
   "metadata": {},
   "outputs": [
    {
     "name": "stdout",
     "output_type": "stream",
     "text": [
      "WARNING:tensorflow:From <ipython-input-2-08c4cf00c9cb>:9: read_data_sets (from tensorflow.contrib.learn.python.learn.datasets.mnist) is deprecated and will be removed in a future version.\n",
      "Instructions for updating:\n",
      "Please use alternatives such as official/mnist/dataset.py from tensorflow/models.\n",
      "WARNING:tensorflow:From C:\\Program Files (x86)\\software\\Anaconda\\lib\\site-packages\\tensorflow\\contrib\\learn\\python\\learn\\datasets\\mnist.py:260: maybe_download (from tensorflow.contrib.learn.python.learn.datasets.base) is deprecated and will be removed in a future version.\n",
      "Instructions for updating:\n",
      "Please write your own downloading logic.\n",
      "WARNING:tensorflow:From C:\\Program Files (x86)\\software\\Anaconda\\lib\\site-packages\\tensorflow\\contrib\\learn\\python\\learn\\datasets\\mnist.py:262: extract_images (from tensorflow.contrib.learn.python.learn.datasets.mnist) is deprecated and will be removed in a future version.\n",
      "Instructions for updating:\n",
      "Please use tf.data to implement this functionality.\n",
      "Extracting MNIST_data/train-images-idx3-ubyte.gz\n",
      "WARNING:tensorflow:From C:\\Program Files (x86)\\software\\Anaconda\\lib\\site-packages\\tensorflow\\contrib\\learn\\python\\learn\\datasets\\mnist.py:267: extract_labels (from tensorflow.contrib.learn.python.learn.datasets.mnist) is deprecated and will be removed in a future version.\n",
      "Instructions for updating:\n",
      "Please use tf.data to implement this functionality.\n",
      "Extracting MNIST_data/train-labels-idx1-ubyte.gz\n",
      "WARNING:tensorflow:From C:\\Program Files (x86)\\software\\Anaconda\\lib\\site-packages\\tensorflow\\contrib\\learn\\python\\learn\\datasets\\mnist.py:110: dense_to_one_hot (from tensorflow.contrib.learn.python.learn.datasets.mnist) is deprecated and will be removed in a future version.\n",
      "Instructions for updating:\n",
      "Please use tf.one_hot on tensors.\n",
      "Extracting MNIST_data/t10k-images-idx3-ubyte.gz\n",
      "Extracting MNIST_data/t10k-labels-idx1-ubyte.gz\n",
      "WARNING:tensorflow:From C:\\Program Files (x86)\\software\\Anaconda\\lib\\site-packages\\tensorflow\\contrib\\learn\\python\\learn\\datasets\\mnist.py:290: DataSet.__init__ (from tensorflow.contrib.learn.python.learn.datasets.mnist) is deprecated and will be removed in a future version.\n",
      "Instructions for updating:\n",
      "Please use alternatives such as official/mnist/dataset.py from tensorflow/models.\n",
      "pixels 784\n"
     ]
    }
   ],
   "source": [
    "# 生成整型数据的属性\n",
    "def _int64_feature(value):\n",
    "    return tf.train.Feature(int64_list=tf.train.Int64List(value=[value]))\n",
    "\n",
    "# 生成字符串型的属性\n",
    "def _byte_feature(value):\n",
    "    return tf.train.Feature(byte_list=tf.train.BytesList(value=[value]))\n",
    "\n",
    "mnist=input_data.read_data_sets('MNIST_data/',dtype=tf.uint8,one_hot=True)\n",
    "images=mnist.train.images\n",
    "labels=mnist.train.labels\n",
    "\n",
    "# 训练数据的图像分辨率\n",
    "pixels=images.shape[1]\n",
    "print('pixels',pixels)\n",
    "num_examples=mnist.train.num_examples\n",
    "\n",
    "# 输出TFRecords的地址\n",
    "tfrecord_path='save_tfrecords'\n",
    "# 创建一个writer来写TFRecord文件\n",
    "writer=tf.python_io.TFRecordWriter(tfrecord_path)\n",
    "for index in range(num_examples):\n",
    "#     将图像矩阵转化成一个字符串\n",
    "#     image_raw=tf.string(images[index])\n",
    "#     ss=_byte_feature(image_raw)\n",
    "#     print('ss:',ss)\n",
    "#     将一个样例转入到Example Protocal Buffer，并将所有的信息写入这个数据结构\n",
    "    example=tf.train.Example(features=tf.train.Features(feature={\n",
    "        'pixels':_int64_feature(pixels),\n",
    "        'label':_int64_feature(np.argmax(labels[index])),\n",
    "#         'image_raw':_byte_feature(image_raw)\n",
    "    }))\n",
    "    \n",
    "#     将一个Example写入TFRecord文件\n",
    "    writer.write(example.SerializeToString())\n",
    "writer.close()"
   ]
  },
  {
   "cell_type": "code",
   "execution_count": 5,
   "metadata": {},
   "outputs": [
    {
     "name": "stdout",
     "output_type": "stream",
     "text": [
      "[7, 784]\n",
      "[3, 784]\n",
      "[4, 784]\n",
      "[6, 784]\n",
      "[1, 784]\n",
      "[8, 784]\n",
      "[1, 784]\n",
      "[0, 784]\n",
      "[9, 784]\n",
      "[8, 784]\n"
     ]
    }
   ],
   "source": [
    "# 读取TFRecord\n",
    "import tensorflow as tf\n",
    "\n",
    "# 创建一个reader来读取TFRecord文件中的样例\n",
    "reader=tf.TFRecordReader()\n",
    "# 创建一个队列来维护输入文件列表，\n",
    "filename_queue=tf.train.string_input_producer(['save_tfrecords'])\n",
    "\n",
    "# 从文件中读取一个样例，也可以使用read_tup_to函数一次读取多个样例\n",
    "_,serialized_example=reader.read(filename_queue)\n",
    "\n",
    "# 解析读入的一个样例，如果需要解析多个样例，可以用parse_example函数\n",
    "features=tf.parse_single_example(serialized_example,\n",
    "                                features={\n",
    "                                  'pixels':tf.FixedLenFeature([],tf.int64),\n",
    "                                    'label':tf.FixedLenFeature([],tf.int64)\n",
    "                                })\n",
    "\n",
    "# tf.decode_raw可以将字符串解析成图相对于的像素组\n",
    "# image=tf.decode_raw(features[''])\n",
    "label=tf.cast(features['label'],tf.int32)\n",
    "pixels=tf.cast(features['pixels'],tf.int32)\n",
    "\n",
    "sess=tf.Session()\n",
    "# 启动多线程处理数据\n",
    "coord=tf.train.Coordinator()\n",
    "threads=tf.train.start_queue_runners(sess=sess,coord=coord)\n",
    "\n",
    "# 每次运行可以读取TFRecord文件中的一个样例，当所有样例都读完以后，在此样例中会重新读取\n",
    "for i in range(10):\n",
    "    print(sess.run([label,pixels]))"
   ]
  },
  {
   "cell_type": "code",
   "execution_count": null,
   "metadata": {},
   "outputs": [],
   "source": []
  }
 ],
 "metadata": {
  "kernelspec": {
   "display_name": "Python 3",
   "language": "python",
   "name": "python3"
  },
  "language_info": {
   "codemirror_mode": {
    "name": "ipython",
    "version": 3
   },
   "file_extension": ".py",
   "mimetype": "text/x-python",
   "name": "python",
   "nbconvert_exporter": "python",
   "pygments_lexer": "ipython3",
   "version": "3.6.4"
  }
 },
 "nbformat": 4,
 "nbformat_minor": 2
}
