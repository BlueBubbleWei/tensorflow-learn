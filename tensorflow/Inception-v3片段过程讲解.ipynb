{
 "cells": [
  {
   "cell_type": "code",
   "execution_count": 1,
   "metadata": {},
   "outputs": [],
   "source": [
    "# 直接使用tensorflow实现卷积层\n",
    "import tensorflow as tf\n",
    "with tf.variable_scope(scope_name):\n",
    "    weights=tf.get_variable(\"weights\",'....')\n",
    "    biases=tf.get_variable('bias','....')\n",
    "    conv=tf.nn.conv2d('....')\n",
    "    relu=tf.nn.relu(tf.nn.bias_ass(conv,biases))\n",
    "    \n",
    "#使用tensorflow-slim实现卷积层，通过tensorflow-slim可以在一行中实现一个卷积层\n",
    "# net=slim.conv2d(input,32,[3,3])"
   ]
  },
  {
   "cell_type": "code",
   "execution_count": null,
   "metadata": {},
   "outputs": [],
   "source": [
    "# Inception-v3模型中的部分实现\n",
    "# 加载slim库\n",
    "slim=tf.contrib.slim\n",
    "\n",
    "#slim.agr_scope函数可以设置默认的参数取值，slim.arg_scope函数的第一个参数是一个函数列表，在这个列表中的函数将使用默认的参数取值\n",
    "# 比如调用slim.conv2d(net,320,[1,1])函数时，会自动加上stride=1和padding='SAME'的参数，如果在函数调用时制定了stride，那么这里的默认值\n",
    "# 就不会再使用，通过这种方式可以进一步减少冗余的代码\n",
    "\n",
    "with slim.arg_scope([slim.conv2d,slim.max_pool2d,slim.avg_pool2d],stride=1,padding='VALID'):\n",
    "#     net=上一层的节点输出\n",
    "#     为一个inception模块声明一个统一的变量命名空间\n",
    "    with tf.variable_scope('Mixed_7c'):\n",
    "        with tf.variable_scope('Branch_0'):\n",
    "#             实现一个滤波器边长为1，深度为320的卷积层\n",
    "            branch0=sslim.conv2d(net,320,[1,1],scope='Conv2d_0x_1x1')\n",
    "#         Inception模块中的第二条路径，这条路径本身也是一个Inception结果\n",
    "        with tf.variable_scope('Branch_1'):\n",
    "            branch_1=slim.conv2d(net,384,[1,1],scope='Conv2d_0a_1x1')\n",
    "            branch_1=tf.concat(3,[\n",
    "                slim.conv2d(branch_1,384,[1,3],scope='Conv2d_0b_1x3'),\n",
    "                slim.conv2d(branch_1,384,[3,1],scope='Conv2d_0c_3x1')                \n",
    "            ])\n",
    "        with tf.variable_scope('Branch_2'):\n",
    "            branch_2=slim.conv2d(net,448,[1,1],scope='Conv2d_0a_1x1')\n",
    "            branch_2=slim.conv2d(branch_2,384,[3,3],scope='Conv2d_0b_3x3')\n",
    "            branch_2=tf.concat(3,[slim.conv2d(branch_2,384,[1,3],scope='Conv2d_0c_1x3'),\n",
    "                                 slim.conv2d(branch_2,384,[3,1],scope='Conv2d_0d_3x1')])\n",
    "        #Inception模块中第四条路径\n",
    "        with tf.variable_scope('Branch_3'):\n",
    "            branch_3=slim.avg_pool2d(net,[3,3],scope='AvgPool_0a_3x3')\n",
    "            branch_3=slim.conv2d(branch_3,192,[1,1],scope='Conv2d_0b_1x1')\n",
    "            \n",
    "        #当前Inception模块的最后输出是由上面4个计算结果拼接得到的\n",
    "        net=tf.concat(3,[branch0,branch_1,branch_2,branch_3])\n",
    "            "
   ]
  }
 ],
 "metadata": {
  "kernelspec": {
   "display_name": "Python 3",
   "language": "python",
   "name": "python3"
  },
  "language_info": {
   "codemirror_mode": {
    "name": "ipython",
    "version": 3
   },
   "file_extension": ".py",
   "mimetype": "text/x-python",
   "name": "python",
   "nbconvert_exporter": "python",
   "pygments_lexer": "ipython3",
   "version": "3.6.4"
  }
 },
 "nbformat": 4,
 "nbformat_minor": 2
}
