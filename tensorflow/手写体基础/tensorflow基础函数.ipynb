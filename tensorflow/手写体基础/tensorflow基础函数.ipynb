{
 "cells": [
  {
   "cell_type": "markdown",
   "metadata": {},
   "source": [
    "# tf.clip_by_value（）函数"
   ]
  },
  {
   "cell_type": "code",
   "execution_count": 1,
   "metadata": {},
   "outputs": [
    {
     "name": "stderr",
     "output_type": "stream",
     "text": [
      "C:\\Program Files (x86)\\software\\Anaconda\\lib\\site-packages\\h5py\\__init__.py:36: FutureWarning: Conversion of the second argument of issubdtype from `float` to `np.floating` is deprecated. In future, it will be treated as `np.float64 == np.dtype(float).type`.\n",
      "  from ._conv import register_converters as _register_converters\n"
     ]
    }
   ],
   "source": [
    "import tensorflow as tf\n",
    "sess=tf.InteractiveSession()"
   ]
  },
  {
   "cell_type": "code",
   "execution_count": 2,
   "metadata": {},
   "outputs": [],
   "source": [
    "# 定义一个list，填入一些数据\n",
    "a=[1.0,2.0,3.1,4.3,5.6,2.4,6.7,1e-6,1e-7,0]"
   ]
  },
  {
   "cell_type": "markdown",
   "metadata": {},
   "source": [
    "### 使用tf.clip_by_value函数进行处理，并返回处理过的tensor\n",
    "### clip_by_value(t, clip_value_min, clip_value_max,name=None)\n",
    "### t：待处理的tensor，或是一个list等\n",
    "### clip_value_min：需要过滤的最小值，若t中存在比该值还小的值，一律换成clip_value_min\n",
    "### clip_value_max：需要过滤的最大值，若t中存在比该值还大的值，一律换成clip_value_max\n",
    "### name：名称 "
   ]
  },
  {
   "cell_type": "code",
   "execution_count": 3,
   "metadata": {},
   "outputs": [
    {
     "name": "stdout",
     "output_type": "stream",
     "text": [
      "[1.0e+00 2.0e+00 3.1e+00 4.3e+00 5.0e+00 2.4e+00 5.0e+00 1.0e-05 1.0e-05\n",
      " 1.0e-05]\n"
     ]
    }
   ],
   "source": [
    "a=tf.clip_by_value(a,1e-5,5.0)\n",
    "print(a.eval())"
   ]
  },
  {
   "cell_type": "markdown",
   "metadata": {},
   "source": [
    "# tf.log（）函数\n",
    "## 以自然底数e为底求log\n",
    "## log(x, name=None)\n",
    "## x:待处理的数据，可以是一个数字，或是一个list，一个tensor\n",
    "## name:名称"
   ]
  },
  {
   "cell_type": "code",
   "execution_count": 5,
   "metadata": {},
   "outputs": [
    {
     "name": "stdout",
     "output_type": "stream",
     "text": [
      "1.1631508\n",
      "[0.1823216 1.252763  0.        3.4965076 1.5040774 6.9077554]\n"
     ]
    }
   ],
   "source": [
    "# tf.log处理数字\n",
    "a=tf.log(3.2)\n",
    "print(a.eval())\n",
    "\n",
    "# 定义一个list。注意：这里1e3中的e表示的是底数为10，即1e3 = 1000\n",
    "b = [1.2,3.5,1.0,33.0,4.5,1e3]\n",
    "# 处理并输出\n",
    "print(tf.log(b).eval())"
   ]
  },
  {
   "cell_type": "markdown",
   "metadata": {},
   "source": [
    "## tf.random_normal（）函数 \n",
    "## 此函数用于生成一个满足正态分布的随机矩阵。"
   ]
  },
  {
   "cell_type": "code",
   "execution_count": 6,
   "metadata": {},
   "outputs": [
    {
     "name": "stdout",
     "output_type": "stream",
     "text": [
      "[[ 0.42103493 -0.78315014 -0.6630816  -1.0379691 ]\n",
      " [-0.34434092  0.70581454  0.42035937 -1.4615947 ]\n",
      " [-0.06307134 -2.0253668   1.5485874  -0.17265217]\n",
      " [-0.7624369  -0.7700588   0.9921296   0.06359687]]\n"
     ]
    }
   ],
   "source": [
    "# 定义一个4*4大小的满足正态分布的随机数矩阵的tensor\n",
    "# random_normal(shape,mean=0.0,stddev=1.0,dtype=dtypes.float32,seed=None,name=None)\n",
    "# shape:需要使用的矩阵的大小，\n",
    "# mean:定义该正态分布的均值，默认为0.0\n",
    "# stddev:定义该正态分布的标准差，默认为1.0\n",
    "# dtype:定义该正态函数需要返回的数据类型，默认为dtypes.float32\n",
    "# seed:随机数种子\n",
    "# name:名称\n",
    "\n",
    "a = tf.random_normal(shape=[4,4],mean=0.0,stddev=1.0,dtype=tf.float32)\n",
    "\n",
    "# 初始化全局变量，这里初始化变量a\n",
    "# 注意：上面的代码只是定义了一个正态分布的tensor，并没有对其进行初始化操作。\n",
    "tf.global_variables_initializer().run()\n",
    "\n",
    "# 输出结果\n",
    "print(a.eval())"
   ]
  },
  {
   "cell_type": "markdown",
   "metadata": {},
   "source": [
    "# tf.truncated_normal（）函数 \n",
    "此函数生成一个满足正态分布的随机矩阵，但是若随机出来的值偏离平均值超过2个标准差，那么这个数将会被重新随机。"
   ]
  },
  {
   "cell_type": "code",
   "execution_count": 7,
   "metadata": {},
   "outputs": [
    {
     "name": "stdout",
     "output_type": "stream",
     "text": [
      "[[-0.15586424  1.6567829  -1.6921844  -0.19512472]\n",
      " [-0.5914971   1.0176795   0.49398646  0.9999007 ]\n",
      " [-0.9362021  -0.16295558 -0.24245857 -0.377929  ]\n",
      " [-1.0768274   1.1443577   0.2604361   1.8684555 ]]\n"
     ]
    }
   ],
   "source": [
    "# 定义一个4*4大小的满足正态分布的随机数矩阵的tensor,\n",
    "# 若随机出来的值偏离平均值超过2个标准差，这个数将会被重新随机。\n",
    "# truncated_normal(shape,mean=0.0,stddev=1.0,dtype=dtypes.float32，\n",
    "#                  seed=None,name=None)\n",
    "# shape:需要使用的矩阵的大小\n",
    "# mean:定义该正态分布的均值，默认为0.0\n",
    "# stddev:定义该正态分布的标准差，默认为1.0\n",
    "# dtype:定义该正态函数需要返回的数据类型，默认为dtypes.float32\n",
    "# seed:随机数种子\n",
    "# name:名称\n",
    "\n",
    "a = tf.truncated_normal(shape=[4,4],mean=0.0,stddev=1.0,dtype=tf.float32)\n",
    "\n",
    "# 初始化全局变量，这里初始化变量a\n",
    "# 注意：上面的代码只是定义了一个正态分布的tensor，并没有对其进行初始化操作。\n",
    "# tf.global_variables_initializer().run()\n",
    "\n",
    "# 输出结果\n",
    "print(a.eval())"
   ]
  },
  {
   "cell_type": "markdown",
   "metadata": {},
   "source": [
    "# tf.random_uniform（）函数 \n",
    "生成的值遵循“[minval，maxval)”范围内的均匀分布。 下限“minval”包含在范围内，而上限“maxval”被排除。\n",
    "\n",
    "对于浮点数，默认范围是[0，1）。 对于int，至少必须明确指定maxval。\n",
    "\n",
    "在整数的情况下，随机整数稍微有偏差，除非’maxval - minval`是两个精确的幂。 对于“maxval - minval”的值，偏差小于输出范围（“2^32”或“2^64”）的偏差。"
   ]
  },
  {
   "cell_type": "code",
   "execution_count": 8,
   "metadata": {},
   "outputs": [
    {
     "name": "stdout",
     "output_type": "stream",
     "text": [
      "[[-0.4210019  -0.24430275 -0.21048164  0.8688102 ]\n",
      " [ 2.6851234   1.0655475   0.00552797  0.9640131 ]\n",
      " [-0.7852216   1.7720866   2.593194    1.0956802 ]\n",
      " [ 0.61841536  1.25242     2.3069081   1.4856901 ]]\n"
     ]
    }
   ],
   "source": [
    "# 定义一个4*4大小的满足平均分布的随机数矩阵tensor\n",
    "# random_uniform(shape,minval=0,maxval=None,dtype=dtypes.float32,seed=None,name=None)\n",
    "# shape:需要使用的矩阵的大小，\n",
    "# minval:定义该平均分布的所使用的最小值，默认为0\n",
    "# maxval:定义该平均分布的所使用的最大值，默认为None\n",
    "# dtype:定义该平均分布需要返回的数据类型，默认为dtypes.float32\n",
    "# seed:随机数种子\n",
    "# name:名称\n",
    "\n",
    "a = tf.random_uniform(shape=[4,4],minval=-1.0,maxval=3.0,dtype=tf.float32)\n",
    "\n",
    "# 初始化全局变量，这里初始化变量a\n",
    "# 注意：上面的代码只是定义了一个平均分布的tensor，并没有对其进行初始化操作。\n",
    "tf.global_variables_initializer().run()\n",
    "\n",
    "# 输出结果\n",
    "print(a.eval())"
   ]
  },
  {
   "cell_type": "markdown",
   "metadata": {},
   "source": [
    "# tf.zeros（）和tf.ones（）函数"
   ]
  },
  {
   "cell_type": "code",
   "execution_count": 9,
   "metadata": {},
   "outputs": [
    {
     "name": "stdout",
     "output_type": "stream",
     "text": [
      "a矩阵如下:\n",
      " [[0. 0. 0. 0.]\n",
      " [0. 0. 0. 0.]\n",
      " [0. 0. 0. 0.]\n",
      " [0. 0. 0. 0.]]\n",
      "b矩阵如下:\n",
      " [[1. 1. 1. 1.]\n",
      " [1. 1. 1. 1.]\n",
      " [1. 1. 1. 1.]\n",
      " [1. 1. 1. 1.]]\n"
     ]
    }
   ],
   "source": [
    "# 返回一个指定大小矩阵的全为0的tensor\n",
    "# zeros(shape, dtype=dtypes.float32, name=None)\n",
    "# shape :需要使用的矩阵的大小\n",
    "# dtype :需要使用的数据的类型，默认为dtype.float32\n",
    "# name :名称\n",
    "a = tf.zeros(shape=[4,4],dtype=tf.float32)\n",
    "\n",
    "# 返回一个指定大小矩阵的全为1的tensor\n",
    "# ones(shape, dtype=dtypes.float32, name=None)\n",
    "# shape :需要使用的矩阵的大小\n",
    "# dtype :需要使用的数据的类型，默认为dtype.float32\n",
    "# name :名称\n",
    "b = tf.ones(shape=[4,4],dtype=tf.float32)\n",
    "\n",
    "# 初始化全局变量\n",
    "tf.global_variables_initializer().run()\n",
    "\n",
    "# 输出a\n",
    "print(\"a矩阵如下:\\n\",a.eval())\n",
    "\n",
    "# 输出b\n",
    "print(\"b矩阵如下:\\n\",b.eval())"
   ]
  },
  {
   "cell_type": "code",
   "execution_count": 10,
   "metadata": {},
   "outputs": [
    {
     "name": "stdout",
     "output_type": "stream",
     "text": [
      "变量a矩阵如下:\n",
      " [[0. 0. 0. 0. 0.]\n",
      " [0. 0. 0. 0. 0.]\n",
      " [0. 0. 0. 0. 0.]\n",
      " [0. 0. 0. 0. 0.]\n",
      " [0. 0. 0. 0. 0.]]\n"
     ]
    }
   ],
   "source": [
    "# tf.zeros()和tf.ones()更多的时候用来对变量进行初始化，如：\n",
    "# 返回一个指定大小矩阵的全为0的tensor变量a\n",
    "a = tf.Variable(tf.zeros(shape=[5,5],dtype=tf.float32))\n",
    "\n",
    "# 初始化全局变量\n",
    "tf.global_variables_initializer().run()\n",
    "\n",
    "# 输出a\n",
    "print(\"变量a矩阵如下:\\n\",a.eval())"
   ]
  },
  {
   "cell_type": "markdown",
   "metadata": {},
   "source": [
    "# tf.fill（）函数 \n",
    "此函数创建并返回一个指定维度的矩阵的tensor，并填充指定的数值。"
   ]
  },
  {
   "cell_type": "code",
   "execution_count": 11,
   "metadata": {},
   "outputs": [
    {
     "name": "stdout",
     "output_type": "stream",
     "text": [
      "a矩阵如下:\n",
      " [[9. 9. 9. 9.]\n",
      " [9. 9. 9. 9.]\n",
      " [9. 9. 9. 9.]]\n",
      "b矩阵如下:\n",
      " [[[8 8 8 8 8]\n",
      "  [8 8 8 8 8]\n",
      "  [8 8 8 8 8]\n",
      "  [8 8 8 8 8]]\n",
      "\n",
      " [[8 8 8 8 8]\n",
      "  [8 8 8 8 8]\n",
      "  [8 8 8 8 8]\n",
      "  [8 8 8 8 8]]\n",
      "\n",
      " [[8 8 8 8 8]\n",
      "  [8 8 8 8 8]\n",
      "  [8 8 8 8 8]\n",
      "  [8 8 8 8 8]]]\n"
     ]
    }
   ],
   "source": [
    "# 返回一个指定大小矩阵的全为0的tensor变量a\n",
    "# fill(dims, value, name=None)\n",
    "# dims:指定生成的矩阵的维度\n",
    "# value:指定生成的矩阵的数值\n",
    "# name:名称\n",
    "\n",
    "a = tf.fill(dims=[3,4],value=9.0)\n",
    "\n",
    "b = tf.fill(dims=[3,4,5],value=8)\n",
    "\n",
    "# 初始化全局变量\n",
    "tf.global_variables_initializer().run()\n",
    "\n",
    "# 输出a\n",
    "print(\"a矩阵如下:\\n\",a.eval())\n",
    "\n",
    "# 输出b\n",
    "print(\"b矩阵如下:\\n\",b.eval())"
   ]
  },
  {
   "cell_type": "markdown",
   "metadata": {},
   "source": [
    "# tf.constant（）函数 \n",
    "此函数创建一个常量tensor。这个常量可以使数字，字符串，list等数据类型。"
   ]
  },
  {
   "cell_type": "code",
   "execution_count": 12,
   "metadata": {},
   "outputs": [
    {
     "name": "stdout",
     "output_type": "stream",
     "text": [
      "a:\n",
      " 10.0\n",
      "b:\n",
      " b'hello world!'\n",
      "c:\n",
      " [[1. 2.]\n",
      " [3. 4.]\n",
      " [5. 6.]]\n",
      "d:\n",
      " [[-2. -2. -2.]\n",
      " [-2. -2. -2.]\n",
      " [-2. -2. -2.]]\n"
     ]
    }
   ],
   "source": [
    "# constant(value, dtype=None, shape=None, name=\"Const\", verify_shape=False)\n",
    "#\n",
    "# 结果tensor使用`dtype`类型的值填充，由参数`value`和（可选）`shape`指定（见下面的例子）。\n",
    "#\n",
    "# 参数`value`可以是一个常量值，也可以是'dtype'类型的值列表。 如果“value”是一个list，则list的长度必须小于或等于“shape”参数（如果指定）隐含的元素数。 在列表长度小于“shape”指定的元素数量的情况下，列表中的最后一个元素将用于填充剩余的条目。\n",
    "#\n",
    "# 参数`shape`是可选的。 如果存在，它指定所得张量的尺寸。 如果不存在，则使用“value”的形状。\n",
    "#\n",
    "# 如果没有指定参数`dtype`，那么从`value`的类型推断出类型。\n",
    "#\n",
    "# value:输出类型为'dtype'的常量值（或list）。\n",
    "# dtype:所得tensor的元素的类型。\n",
    "# shape:所得tensor的可选尺寸。\n",
    "# name:tensor的可选名称。\n",
    "# verify_shape:启用验证值形状的布尔值\n",
    "\n",
    "# 定义一个数值型常量\n",
    "a = tf.constant(10.0 ,dtype=tf.float32)\n",
    "\n",
    "# 定义一个string类型的字符串常量\n",
    "b = tf.constant(\"hello world!\",dtype=tf.string)\n",
    "\n",
    "# 定义一个矩阵常量，参考shape参数\n",
    "c = tf.constant([1.0,2.0,3.0,4.0,5.0,6.0], dtype=tf.float32,shape=[3,2])\n",
    "\n",
    "# 定义一个填充的矩阵变量\n",
    "d = tf.constant(-2.0,dtype=tf.float32, shape=[3,3])\n",
    "\n",
    "tf.global_variables_initializer().run()\n",
    "\n",
    "# 输出\n",
    "print(\"a:\\n\",a.eval())\n",
    "\n",
    "print(\"b:\\n\",b.eval())\n",
    "\n",
    "print(\"c:\\n\",c.eval())\n",
    "\n",
    "print(\"d:\\n\",d.eval())"
   ]
  },
  {
   "cell_type": "markdown",
   "metadata": {},
   "source": [
    "# tf.greater（）函数 \n",
    "tf.greater:对两个tensor或是list依次对每个元素进行比较，并返回相应的bool值。与此类似的还有tf.greater_equal（）、tf.less（）、tf.less_equal（）。 \n",
    "下面的实例以tf.greater（）函数为例。 \n",
    "注意：比较的两个tensor的维度必须相同，否则会报错。"
   ]
  },
  {
   "cell_type": "code",
   "execution_count": 13,
   "metadata": {},
   "outputs": [
    {
     "name": "stdout",
     "output_type": "stream",
     "text": [
      "[False False  True False  True  True False]\n"
     ]
    }
   ],
   "source": [
    "# 定义两个list\n",
    "a = [1   ,2  ,43  ,3.4 ,5.3 ,324 ,4 ]\n",
    "b = [2.2 ,34 ,3.4 ,4.4 ,3   ,56  ,8 ]\n",
    "\n",
    "# greater(x, y, name=None)\n",
    "# x: 一个 tensor或是一个list等。数据必须是以下的数据类型: `float32`, `float64`, `int32`, `int64`, `uint8`, `int16`, `int8`, `uint16`, `half`.\n",
    "# y: 一个 tensor或是一个list等，需要和x保持同样的数据类型。\n",
    "c = tf.greater(a,b)\n",
    "\n",
    "# 输出\n",
    "print(c.eval())"
   ]
  },
  {
   "cell_type": "code",
   "execution_count": null,
   "metadata": {},
   "outputs": [],
   "source": []
  }
 ],
 "metadata": {
  "kernelspec": {
   "display_name": "Python 3",
   "language": "python",
   "name": "python3"
  },
  "language_info": {
   "codemirror_mode": {
    "name": "ipython",
    "version": 3
   },
   "file_extension": ".py",
   "mimetype": "text/x-python",
   "name": "python",
   "nbconvert_exporter": "python",
   "pygments_lexer": "ipython3",
   "version": "3.6.4"
  }
 },
 "nbformat": 4,
 "nbformat_minor": 2
}
