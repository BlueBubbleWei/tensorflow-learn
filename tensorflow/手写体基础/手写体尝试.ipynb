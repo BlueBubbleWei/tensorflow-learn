{
 "cells": [
  {
   "cell_type": "code",
   "execution_count": 37,
   "metadata": {},
   "outputs": [],
   "source": [
    "from tensorflow.examples.tutorials.mnist import input_data\n",
    "import tensorflow as tf\n"
   ]
  },
  {
   "cell_type": "code",
   "execution_count": 38,
   "metadata": {},
   "outputs": [
    {
     "name": "stdout",
     "output_type": "stream",
     "text": [
      "Extracting MNIST_data/train-images-idx3-ubyte.gz\n",
      "Extracting MNIST_data/train-labels-idx1-ubyte.gz\n",
      "Extracting MNIST_data/t10k-images-idx3-ubyte.gz\n",
      "Extracting MNIST_data/t10k-labels-idx1-ubyte.gz\n",
      "(55000, 784)\n",
      "(55000, 10)\n",
      "(10000, 784)\n",
      "(10000, 10)\n"
     ]
    }
   ],
   "source": [
    "mnist=input_data.read_data_sets('MNIST_data/',one_hot=True)\n",
    "print(mnist.train.images.shape)\n",
    "print(mnist.train.labels.shape)\n",
    "print(mnist.test.images.shape)\n",
    "print(mnist.test.labels.shape)"
   ]
  },
  {
   "cell_type": "code",
   "execution_count": 5,
   "metadata": {},
   "outputs": [
    {
     "name": "stdout",
     "output_type": "stream",
     "text": [
      "0.8762\n"
     ]
    }
   ],
   "source": [
    "# 最普通常规写法\n",
    "batch_size=10\n",
    "x=tf.placeholder(tf.float32,shape=[None,784])\n",
    "w=tf.Variable(tf.zeros([784,10]))\n",
    "bias=tf.Variable(tf.zeros([10]))\n",
    "y_=tf.placeholder(tf.float32,shape=[None,10])\n",
    "y=tf.matmul(x,w)+bias\n",
    "y=tf.nn.softmax(y)\n",
    "\n",
    "cross_entropy=tf.reduce_mean(-tf.reduce_sum(y_ * tf.log(y),reduction_indices=[1]))\n",
    "train_step=tf.train.GradientDescentOptimizer(0.5).minimize(cross_entropy)\n",
    "sess=tf.InteractiveSession()\n",
    "tf.global_variables_initializer().run()\n",
    "\n",
    "for i in range(1000):\n",
    "    batch_xs,batch_ys=mnist.train.next_batch(batch_size)\n",
    "    train_step.run({x:batch_xs,y_:batch_ys})\n",
    "\n",
    "correction_prediction=tf.equal(tf.argmax(y,1),tf.argmax(y_,1))\n",
    "accuracy=tf.reduce_mean(tf.cast(correction_prediction,tf.float32))\n",
    "\n",
    "print(accuracy.eval({x:mnist.test.images,y_:mnist.test.labels}))"
   ]
  },
  {
   "cell_type": "code",
   "execution_count": 21,
   "metadata": {},
   "outputs": [
    {
     "name": "stdout",
     "output_type": "stream",
     "text": [
      "step 0,train accuracy 0.1\n",
      "test accuracy 0.1014\n"
     ]
    }
   ],
   "source": [
    "#神经网络版\n",
    "x = tf.placeholder(tf.float32,shape=[None,784])\n",
    "y_ =tf.placeholder(tf.float32,shape=[None,10])\n",
    "x_image=tf.reshape(x,[-1,28,28,1])\n",
    "\n",
    "\n",
    "\n",
    "def weight_Variable(shape):\n",
    "    initial=tf.truncated_normal(shape,stddev=0.1)\n",
    "    return tf.Variable(initial)\n",
    "\n",
    "def bias_Variable(shape):\n",
    "    initial=tf.constant(0.1,shape=shape)\n",
    "    return tf.Variable(initial)\n",
    "\n",
    "def conv2d(x,W):\n",
    "    return tf.nn.conv2d(x,W,strides=[1,1,1,1],padding='SAME')\n",
    "\n",
    "def max_pool_2x2(x):\n",
    "    return tf.nn.max_pool(x,ksize=[1,2,2,1],strides=[1,2,2,1],padding='SAME')\n",
    "\n",
    "W_conv1=weight_Variable([5,5,1,32])\n",
    "bias_conv1=bias_Variable([32])\n",
    "# 第一层卷积\n",
    "conv_1=tf.nn.relu(conv2d(x_image,W_conv1)+bias_conv1)\n",
    "pool_1=max_pool_2x2(conv_1)\n",
    "\n",
    "# 第二层\n",
    "W_conv2=weight_Variable([3,3,32,64])\n",
    "bias_conv2=bias_Variable([64])\n",
    "conv_2=tf.nn.relu(conv2d(pool_1,W_conv2)+bias_conv2)\n",
    "pool_conv2=max_pool_2x2(conv_2)\n",
    "\n",
    "# 平铺1\n",
    "W_fc1=weight_Variable([7*7*64,1024])\n",
    "bias_fc1=bias_Variable([1024])\n",
    "pool_fc1=tf.reshape(pool_conv2,[-1,7*7*64])\n",
    "fc1=tf.nn.relu(tf.matmul(pool_fc1,W_fc1) + bias_fc1)\n",
    "# 防止过拟合丢弃一部分隐藏层\n",
    "fc1_droput=tf.nn.dropout(fc1,0.5)\n",
    "\n",
    "# 平铺2\n",
    "W_fc2=weight_Variable([1024,10])\n",
    "bias_fc2=bias_Variable([10])\n",
    "fc2=tf.nn.softmax(tf.matmul(fc1_droput,W_fc2)+bias_fc2)\n",
    "\n",
    "cross_entropy=tf.reduce_mean(-tf.reduce_sum(y_*tf.log(fc2),reduction_indices=[1]))\n",
    "train_step=tf.train.GradientDescentOptimizer(0.01).minimize(cross_entropy)\n",
    "\n",
    "correction_prediction=tf.equal(tf.argmax(fc2,1),tf.argmax(y_,1))\n",
    "accuracy=tf.reduce_mean(tf.cast(correction_prediction,tf.float32))\n",
    "\n",
    "sess=tf.InteractiveSession()\n",
    "tf.global_variables_initializer().run()\n",
    "\n",
    "steps=5\n",
    "for i in range(steps):\n",
    "    batch=mnist.train.next_batch(batch_size)\n",
    "    if i % 100 == 0:\n",
    "        train_accuracy=accuracy.eval(feed_dict={x:batch[0],y_:batch[1]})\n",
    "        print(\"step %d,train accuracy %g\" %(i,train_accuracy))\n",
    "        train_step.run(feed_dict={x:batch[0],y_:batch[1]})\n",
    "        \n",
    "print(\"test accuracy %g\" %accuracy.eval(feed_dict={x:mnist.test.images,y_:mnist.test.labels}))\n"
   ]
  },
  {
   "cell_type": "code",
   "execution_count": 34,
   "metadata": {},
   "outputs": [
    {
     "name": "stdout",
     "output_type": "stream",
     "text": [
      "55000 total_x\n",
      "After 0 steps,                  mse_loss: 204.040558\n"
     ]
    }
   ],
   "source": [
    "# L2正则损失防止过拟合\n",
    "# 获取一层神经网络边上的权重，并将这个权重的L2正则化损失加入名称为'losses的集合中'\n",
    "def get_weight(shape,lambda1):\n",
    "# 生成一个变量\n",
    "    var = tf.Variable(tf.random_normal(shape),dtype=tf.float32)\n",
    "# add_to_collection函数将这个新生变量的L2正则化损失加入到集合\n",
    "    tf.add_to_collection('losses', tf.contrib.layers.l2_regularizer(lambda1)(var))\n",
    "# 返回生成的变量\n",
    "    return var\n",
    "\n",
    "\n",
    "batch_size=10\n",
    "x=tf.placeholder(tf.float32,[None,784])\n",
    "y_=tf.placeholder(tf.float32,[None,10])\n",
    "# x_image=tf.reshape(x,[-1,28,28,1])\n",
    "# 定义了每一层网络中节点的个数\n",
    "layer_dimension=[784,64,1024,10]\n",
    "# 神经网络的层数\n",
    "n_layers=len(layer_dimension)\n",
    "\n",
    "#这个变量维护前向传播时最深层的节点，开始的时候就是输入层\n",
    "cur_layer=x\n",
    "# 当前层的节点的个数\n",
    "in_dimension=layer_dimension[0]\n",
    "\n",
    "# 通过一个循环来生成5层全连接层的神经网络结构\n",
    "for i in range(1,n_layers):\n",
    "    #layer_dimension[i]为下一层的节点个数\n",
    "    out_dimension=layer_dimension[i]\n",
    "#     生成当前权重的变量，并将这个变量的L2正则化损失加入计算图上的集合\n",
    "    weight=get_weight([in_dimension,out_dimension],0.001)\n",
    "    bias=tf.Variable(tf.constant(0.1,shape=[out_dimension]))\n",
    "#     使用RELU激活函数\n",
    "    cur_layer=tf.nn.relu(tf.matmul(cur_layer,weight)+bias)\n",
    "#     cur_layer=tf.nn.max_pool(cur_layer,ksize=[1,2,2,1],strides=[1,2,2,1],padding='SAME')\n",
    "#     进入下一层之前将下一层的节点个数更新为当前层节点个数\n",
    "    in_dimension=layer_dimension[i]\n",
    "    total_x=mnist.train.images.shape[0]\n",
    "    y=cur_layer\n",
    "# 在定义神经网络前向传播的同时已经将所有的L2正则化损失加入了图上的集合\n",
    "# 这里只需要计算刻画模型在训练数据上表现的损失函数\n",
    "# mse_loss=tf.reduce_mean(tf.square(y_-y))\n",
    "print(total_x,'total_x')\n",
    "mse_loss=tf.reduce_sum(tf.pow(y_ - y,2))/total_x**2# mse_loss: 2832780.750000\n",
    "# 将均方误差损失函数加入到损失集合\n",
    "tf.add_to_collection('losses',mse_loss)\n",
    "# get_collection 返回一个列表，这个列表是所有这个集合中的元素，在这个样例中\n",
    "# 这些元素就是损失函数的不同部分,将它们加起来就可以得到最终的损失函数\n",
    "loss=tf.add_n(tf.get_collection('losses'))\n",
    "\n",
    "# 4. 训练不带正则项的损失函数mse_loss。\n",
    "# 定义训练的目标函数mse_loss，训练次数及训练模型\n",
    "train_op = tf.train.AdamOptimizer(0.001).minimize(mse_loss)\n",
    "TRAINING_STEPS =100\n",
    "\n",
    "with tf.Session() as sess:\n",
    "    tf.global_variables_initializer().run() # 初始化所有的变量\n",
    "    for i in range(TRAINING_STEPS):\n",
    "        sess.run(train_op, feed_dict={x: mnist.train.images, y_: mnist.train.labels})\n",
    "        if i % 100 == 0:\n",
    "            print(\"After %d steps,\\\n",
    "                  mse_loss: %f\" % (i,sess.run(mse_loss, feed_dict={x: mnist.train.images, y_: mnist.train.labels})))\n",
    "\n"
   ]
  },
  {
   "cell_type": "code",
   "execution_count": null,
   "metadata": {},
   "outputs": [],
   "source": []
  }
 ],
 "metadata": {
  "kernelspec": {
   "display_name": "Python 3",
   "language": "python",
   "name": "python3"
  },
  "language_info": {
   "codemirror_mode": {
    "name": "ipython",
    "version": 3
   },
   "file_extension": ".py",
   "mimetype": "text/x-python",
   "name": "python",
   "nbconvert_exporter": "python",
   "pygments_lexer": "ipython3",
   "version": "3.6.4"
  }
 },
 "nbformat": 4,
 "nbformat_minor": 2
}
