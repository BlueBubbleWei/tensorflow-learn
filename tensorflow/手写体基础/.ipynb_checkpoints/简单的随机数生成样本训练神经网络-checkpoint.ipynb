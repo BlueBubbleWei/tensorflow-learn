{
 "cells": [
  {
   "cell_type": "code",
   "execution_count": 1,
   "metadata": {},
   "outputs": [
    {
     "name": "stderr",
     "output_type": "stream",
     "text": [
      "C:\\Program Files (x86)\\software\\Anaconda\\lib\\site-packages\\h5py\\__init__.py:36: FutureWarning: Conversion of the second argument of issubdtype from `float` to `np.floating` is deprecated. In future, it will be treated as `np.float64 == np.dtype(float).type`.\n",
      "  from ._conv import register_converters as _register_converters\n"
     ]
    }
   ],
   "source": [
    "import tensorflow as tf\n",
    "from numpy.random import RandomState"
   ]
  },
  {
   "cell_type": "code",
   "execution_count": 2,
   "metadata": {},
   "outputs": [],
   "source": [
    "# 定义训练数据集batch的大小\n",
    "#定义神经网络的参数\n",
    "w1=tf.Variable(tf.random_normal([2,3],stddev=1.0,seed=1))\n",
    "w2=tf.Variable(tf.random_normal([3,1],stddev=1.0,seed=2))\n",
    "\n",
    "#在shape的一个维度上使用None，可以方便使用不同大小的batch，在训练数据时需要把数据分成\n",
    "#较小的batch,,但是在测试时，可以一次性使用全部的数据，当数据集比较小时这样方便测试，\n",
    "# 但当数据集较大时，将大量数据放入一个batch之中可能会导致内存溢出\n",
    "\n",
    "\n",
    "x=tf.placeholder(tf.float32,shape=(None,2),name='x-input')\n",
    "y_=tf.placeholder(tf.float32,shape=(None,1),name='y-input')\n",
    "\n",
    "#定义神经网络向前传播的过程\n",
    "a=tf.matmul(x,w1)\n",
    "y=tf.matmul(a,w2)\n",
    "\n",
    "#定义损失函数和反向传播的算法\n",
    "y=tf.sigmoid(y)\n",
    "cross_entropy=tf.reduce_mean(y_ * tf.log(tf.clip_by_value(y,1e-10,1.0))\n",
    "                             + (1-y) * tf.log(tf.clip_by_value(1-y,1e-10,11.0)))\n",
    "train_step=tf.train.AdamOptimizer(0.001).minimize(cross_entropy)\n"
   ]
  },
  {
   "cell_type": "code",
   "execution_count": 4,
   "metadata": {},
   "outputs": [],
   "source": [
    "# 通过随机数生成一个模拟数据集\n",
    "rdm=RandomState(1)\n",
    "dataset_size=128\n",
    "X=rdm.rand(dataset_size,2)\n",
    "# print(X,'X')\n",
    "#定义规则来给出样本的标签，在这里所有 x1 + x2 < 1的样本都被认为是正样本，\n",
    "# 而其他样本为负样本，在这里使用0来表示负样本，1来表示正样本。\n",
    "# 大部分解决分类问题的神经网络都会采用0和1的表示方法\n",
    "Y=[[int(x1+x2<1)] for (x1,x2) in X]\n"
   ]
  },
  {
   "cell_type": "code",
   "execution_count": 5,
   "metadata": {},
   "outputs": [
    {
     "name": "stdout",
     "output_type": "stream",
     "text": [
      "[[-0.8113182   1.4845988   0.06532937]\n",
      " [-2.4427042   0.0992484   0.5912243 ]]\n",
      "[[-0.85811085]\n",
      " [-0.19662298]\n",
      " [ 0.13895045]]\n"
     ]
    }
   ],
   "source": [
    "# 创建一个会话来运行tensorflow程序\n",
    "with tf.Session() as sess:\n",
    "    init_op=tf.global_variables_initializer()\n",
    "#     初始化变量\n",
    "    sess.run(init_op)\n",
    "    print(sess.run(w1))\n",
    "    print(sess.run(w2))\n",
    "'''\n",
    "训练之前网络参数的值\n",
    "w1=[[-0.8113182   1.4845988   0.06532937]\n",
    " [-2.4427042   0.0992484   0.5912243 ]]\n",
    "w2=[[-0.85811085]\n",
    " [-0.19662298]\n",
    " [ 0.13895045]]\n",
    "'''    "
   ]
  },
  {
   "cell_type": "code",
   "execution_count": null,
   "metadata": {},
   "outputs": [],
   "source": []
  }
 ],
 "metadata": {
  "kernelspec": {
   "display_name": "Python 3",
   "language": "python",
   "name": "python3"
  },
  "language_info": {
   "codemirror_mode": {
    "name": "ipython",
    "version": 3
   },
   "file_extension": ".py",
   "mimetype": "text/x-python",
   "name": "python",
   "nbconvert_exporter": "python",
   "pygments_lexer": "ipython3",
   "version": "3.6.4"
  }
 },
 "nbformat": 4,
 "nbformat_minor": 2
}
