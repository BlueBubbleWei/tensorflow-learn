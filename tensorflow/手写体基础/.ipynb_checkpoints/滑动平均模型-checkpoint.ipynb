{
 "cells": [
  {
   "cell_type": "markdown",
   "metadata": {},
   "source": [
    "# 在采用随机梯度下降算法训练神经网络时，使用 tf.train.ExponentialMovingAverage 滑动平均操作的意义在于提高模型在测试数据上的健壮性（robustness）。\n",
    "## tensorflow 下的 tf.train.ExponentialMovingAverage 需要提供一个衰减率（decay）。该衰减率用于控制模型更新的速度，ExponentialMovingAverage 对每一个（待更新训练学习的）变量（variable）都会维护一个影子变量（shadow variable）。影子变量的初始值就是这个变量的初始值， \n",
    "## shadow_variable=decay×shadow_variable+(1−decay)×variable\n",
    "\n",
    "## 由上述公式可知， decay 控制着模型更新的速度，越大越趋于稳定。实际运用中，decay 一般会设置为十分接近 1 的常数（0.99或0.999）。为了使得模型在训练的初始阶段更新得更快，ExponentialMovingAverage 还提供了 num_updates 参数来动态设置 decay 的大小： \n",
    "## decay=min{decay,1+num_updates10+num_updates}"
   ]
  },
  {
   "cell_type": "code",
   "execution_count": null,
   "metadata": {},
   "outputs": [],
   "source": [
    "import tensorflow as tf\n",
    "\n",
    "# 定义一个32位浮点数的变量，初始值位0.0\n",
    "v1 =tf.Variable(dtype=tf.float32, initial_value=0.)\n",
    "\n",
    "# 衰减率decay，初始值位0.99\n",
    "decay = 0.99\n",
    "\n",
    "# 定义num_updates，同样，初始值位0\n",
    "num_updates = tf.Variable(0, trainable=False)\n",
    "\n",
    "# 定义滑动平均模型的类，将衰减率decay和num_updates传入。\n",
    "ema = tf.train.ExponentialMovingAverage(decay=decay, num_updates=num_updates)\n",
    "\n",
    "# 定义更新变量列表\n",
    "update_var_list = [v1]\n",
    "\n",
    "# 使用滑动平均模型\n",
    "ema_apply = ema.apply(update_var_list)\n",
    "\n",
    "# Tensorflow会话\n",
    "with tf.Session() as sess:\n",
    "    # 初始化全局变量\n",
    "    sess.run(tf.global_variables_initializer())\n",
    "\n",
    "    # 输出初始值\n",
    "    print(sess.run([v1, ema.average(v1)]))      \n",
    "    # [0.0, 0.0]（此时 num_updates = 0 ⇒ decay = .1, ），\n",
    "    # shadow_variable = variable = 0.\n",
    "\n",
    "    # 将v1赋值为5\n",
    "    sess.run(tf.assign(v1, 5))\n",
    "\n",
    "    # 调用函数，使用滑动平均模型\n",
    "    sess.run(ema_apply)\n",
    "\n",
    "    # 再次输出\n",
    "    print(sess.run([v1, ema.average(v1)]))     \n",
    "    # 此时，num_updates = 0 ⇒ decay =0.1,  v1 = 5; \n",
    "    # shadow_variable = 0.1 * 0 + 0.9 * 5 = 4.5 ⇒ variable\n",
    "\n",
    "    # 将num_updates赋值为10000\n",
    "    sess.run(tf.assign(num_updates, 10000))\n",
    "\n",
    "    # 将v1赋值为10\n",
    "    sess.run(tf.assign(v1, 10))\n",
    "\n",
    "    # 调用函数，使用滑动平均模型\n",
    "    sess.run(ema_apply)\n",
    "\n",
    "    # 输出\n",
    "    print(sess.run([v1, ema.average(v1)]))      \n",
    "    # decay = 0.99,shadow_variable = 0.99 * 4.5 + .01*10 ⇒ 4.555\n",
    "\n",
    "    # 再次使用滑动平均模型\n",
    "    sess.run(ema_apply)\n",
    "\n",
    "    # 输出\n",
    "    print(sess.run([v1, ema.average(v1)]))      \n",
    "    # decay = 0.99，shadow_variable = .99*4.555 + .01*10 = 4.609"
   ]
  },
  {
   "cell_type": "code",
   "execution_count": null,
   "metadata": {},
   "outputs": [],
   "source": []
  }
 ],
 "metadata": {
  "kernelspec": {
   "display_name": "Python 3",
   "language": "python",
   "name": "python3"
  },
  "language_info": {
   "codemirror_mode": {
    "name": "ipython",
    "version": 3
   },
   "file_extension": ".py",
   "mimetype": "text/x-python",
   "name": "python",
   "nbconvert_exporter": "python",
   "pygments_lexer": "ipython3",
   "version": "3.6.4"
  }
 },
 "nbformat": 4,
 "nbformat_minor": 2
}
