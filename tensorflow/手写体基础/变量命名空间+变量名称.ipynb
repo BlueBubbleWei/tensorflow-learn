{
 "cells": [
  {
   "cell_type": "code",
   "execution_count": 1,
   "metadata": {},
   "outputs": [
    {
     "name": "stderr",
     "output_type": "stream",
     "text": [
      "C:\\Program Files (x86)\\software\\Anaconda\\lib\\site-packages\\h5py\\__init__.py:36: FutureWarning: Conversion of the second argument of issubdtype from `float` to `np.floating` is deprecated. In future, it will be treated as `np.float64 == np.dtype(float).type`.\n",
      "  from ._conv import register_converters as _register_converters\n"
     ]
    }
   ],
   "source": [
    "import tensorflow as tf"
   ]
  },
  {
   "cell_type": "markdown",
   "metadata": {},
   "source": [
    "# 变量命名空间"
   ]
  },
  {
   "cell_type": "code",
   "execution_count": 2,
   "metadata": {},
   "outputs": [],
   "source": [
    "# 在名字为foo的命名空间内创建名字为v的变量\n",
    "with tf.variable_scope('foo'):\n",
    "    v=tf.get_variable('v',[1],initializer=tf.constant_initializer(1.0))\n",
    "    \n",
    "# 因为在命名空间foo中已经存在名字为v的变量，所以下面代码会报错\n",
    "# with tf.variable_scope('foo'):\n",
    "#     v=tf.get_variable('v',[1])  "
   ]
  },
  {
   "cell_type": "code",
   "execution_count": 4,
   "metadata": {},
   "outputs": [
    {
     "name": "stdout",
     "output_type": "stream",
     "text": [
      "True\n"
     ]
    }
   ],
   "source": [
    "# 在生成上下文管理器时，将参数reuse设置为True,这样tf.get_variable函数将直接获取已经声明的变量\n",
    "with tf.variable_scope('foo',reuse=True):\n",
    "    v1=tf.get_variable('v',[1])\n",
    "    print(v==v1)\n",
    "#输出为True ，代表 v,v1是相同的TensorFlow中的变量"
   ]
  },
  {
   "cell_type": "code",
   "execution_count": 6,
   "metadata": {},
   "outputs": [],
   "source": [
    "# 将参数reuse设置为True时，tf.variable_scope将只能获取已经创建过的变量，因为在命名空间bar中还没有创建空间v,所以以下代码将会报错\n",
    "with tf.variable_scope('bar'):\n",
    "    v=tf.get_variable('v',[1])"
   ]
  },
  {
   "cell_type": "code",
   "execution_count": 7,
   "metadata": {},
   "outputs": [],
   "source": [
    "with tf.variable_scope('bar',reuse=True):\n",
    "    v=tf.get_variable('v',[1])\n"
   ]
  },
  {
   "cell_type": "code",
   "execution_count": 11,
   "metadata": {},
   "outputs": [
    {
     "name": "stdout",
     "output_type": "stream",
     "text": [
      "False\n",
      "True\n",
      "True\n",
      "False\n"
     ]
    }
   ],
   "source": [
    "with tf.variable_scope('root'):\n",
    "#     可以通过tf.get_variable_scope().reuse函数来获取当前上下文管理器中reuse参数的值\n",
    "    print(tf.get_variable_scope().reuse)\n",
    "    #输出False,即最外层reuse是False\n",
    "    \n",
    "#     新建一个嵌套的上下文管理器\n",
    "    with tf.variable_scope('foo',reuse=True):\n",
    "        print(tf.get_variable_scope().reuse)\n",
    "        #指定reuse为Ture,即输出为True\n",
    "        \n",
    "#         新建一个嵌套的上下文管理器\n",
    "        with tf.variable_scope('bar'):\n",
    "            print(tf.get_variable_scope().reuse)\n",
    "            #不指定reuse,这是reuse的取值会和外面一层保持一致，输出为True\n",
    "            \n",
    "    print(tf.get_variable_scope().reuse)\n",
    "#     输出为False。退出reuse设置为True的上下文之后,reuse的值又回到了False\n"
   ]
  },
  {
   "cell_type": "markdown",
   "metadata": {},
   "source": [
    "# 变量名称"
   ]
  },
  {
   "cell_type": "code",
   "execution_count": 2,
   "metadata": {},
   "outputs": [
    {
     "name": "stdout",
     "output_type": "stream",
     "text": [
      "v:0\n"
     ]
    }
   ],
   "source": [
    "v1=tf.get_variable('v',[1])\n",
    "print(v1.name)\n",
    "# 输出v:0 ，v是变量的名称，0 表示这个变量时生成变量这个运算的第一个结果"
   ]
  },
  {
   "cell_type": "code",
   "execution_count": 3,
   "metadata": {},
   "outputs": [
    {
     "name": "stdout",
     "output_type": "stream",
     "text": [
      "foo/v:0\n"
     ]
    }
   ],
   "source": [
    "with tf.variable_scope('foo'):\n",
    "    v2=tf.get_variable('v',[1])\n",
    "    print(v2.name)\n",
    "#     输出 foo/v:0  ，在tf.variable_scope中创建的变量，名称前面会加入命名空间的名称"
   ]
  },
  {
   "cell_type": "code",
   "execution_count": 2,
   "metadata": {},
   "outputs": [
    {
     "name": "stdout",
     "output_type": "stream",
     "text": [
      "fool/bar/v:0\n",
      "fool/v1:0\n"
     ]
    }
   ],
   "source": [
    "with tf.variable_scope('fool'):\n",
    "    with tf.variable_scope('bar'):\n",
    "        v3=tf.get_variable('v',[1])\n",
    "        print(v3.name)\n",
    "        #输出 fool/bar/v:0 命名空间可以嵌套，同事变量的名称也会加入所有命名空间的名称作为前缀\n",
    "    v4=tf.get_variable('v1',[1])\n",
    "    print(v4.name)\n",
    "#     输出 fool/v1:0  ，当命名空间退出后，变量名称也就不会再被加入其前缀了"
   ]
  },
  {
   "cell_type": "code",
   "execution_count": 4,
   "metadata": {},
   "outputs": [
    {
     "name": "stdout",
     "output_type": "stream",
     "text": [
      "True\n",
      "True\n"
     ]
    }
   ],
   "source": [
    "# 创建一个名称为空的命名空间，并设置reuse=True\n",
    "with tf.variable_scope('',reuse=True):\n",
    "    v5=tf.get_variable('fool/bar/v',[1])\n",
    "#     可以通过带命名空间名称的变量名来获取其他命名空间下的变量\n",
    "    print(v5 == v3)\n",
    "    \n",
    "    v6=tf.get_variable('fool/v1',[1])\n",
    "    print(v6 == v4)"
   ]
  },
  {
   "cell_type": "code",
   "execution_count": null,
   "metadata": {},
   "outputs": [],
   "source": []
  }
 ],
 "metadata": {
  "kernelspec": {
   "display_name": "Python 3",
   "language": "python",
   "name": "python3"
  },
  "language_info": {
   "codemirror_mode": {
    "name": "ipython",
    "version": 3
   },
   "file_extension": ".py",
   "mimetype": "text/x-python",
   "name": "python",
   "nbconvert_exporter": "python",
   "pygments_lexer": "ipython3",
   "version": "3.6.4"
  }
 },
 "nbformat": 4,
 "nbformat_minor": 2
}
