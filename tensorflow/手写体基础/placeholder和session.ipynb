{
 "cells": [
  {
   "cell_type": "code",
   "execution_count": 1,
   "metadata": {},
   "outputs": [
    {
     "name": "stderr",
     "output_type": "stream",
     "text": [
      "C:\\Program Files (x86)\\software\\Anaconda\\lib\\site-packages\\h5py\\__init__.py:36: FutureWarning: Conversion of the second argument of issubdtype from `float` to `np.floating` is deprecated. In future, it will be treated as `np.float64 == np.dtype(float).type`.\n",
      "  from ._conv import register_converters as _register_converters\n"
     ]
    }
   ],
   "source": [
    "import tensorflow as tf\n"
   ]
  },
  {
   "cell_type": "code",
   "execution_count": 3,
   "metadata": {},
   "outputs": [],
   "source": [
    "#Tensorflow默认会话\n",
    "sess=tf.InteractiveSession()"
   ]
  },
  {
   "cell_type": "code",
   "execution_count": 4,
   "metadata": {},
   "outputs": [],
   "source": [
    "#建立两个矩阵变量w1和w2\n",
    "#tf.random_normal(shape,\n",
    "#                 mean=0.0,\n",
    "#                 stddev=1.0,\n",
    "#                 dtype=dtypes.float32,\n",
    "#                 seed=None,\n",
    "#                 name=None)\n",
    "#产生随机正态分布\n",
    "#shape表示矩阵的维度，例如：\n",
    "#tf.random_normal([2,3],mean=1.0, stddev=1.0)是一个2行3列的矩阵，\n",
    "#mean表示均值，默认为0.0，stddev表示标准差，默认为1.0\n",
    "w1=tf.Variable(tf.random_normal([2,3],mean=1.0,stddev=1.0))\n",
    "w2=tf.Variable(tf.random_normal([3,1],mean=1.0,stddev=1.0))"
   ]
  },
  {
   "cell_type": "markdown",
   "metadata": {},
   "source": [
    "#定义一个placeholder，用于保存相应的数据。\n",
    "#placeholder(dtype, shape=None, name=None)\n",
    "#dtype:表示需要存放的数据的类型，一般可以使用tf.float32\n",
    "#shape:表示需要存放的数据的大小结构，简单可以理解为是一个多维数组，默认为None，可以不指定，根据实际需要，大小会自动调整。\n",
    "#name:名称，默认为None\n",
    "#在这里只是定义了这个placeholder的结构，并没有对其进行赋值（feed）操作。"
   ]
  },
  {
   "cell_type": "code",
   "execution_count": 5,
   "metadata": {},
   "outputs": [],
   "source": [
    "\n",
    "#定义一个placeholder，用于保存相应的数据。\n",
    "#placeholder(dtype, shape=None, name=None)\n",
    "#dtype:表示需要存放的数据的类型，一般可以使用tf.float32\n",
    "#shape:表示需要存放的数据的大小结构，简单可以理解为是一个多维数组，\n",
    "#默认为None，可以不指定，根据实际需要，大小会自动调整。\n",
    "#name:名称，默认为None\n",
    "#在这里只是定义了这个placeholder的结构，并没有对其进行赋值（feed）操作。\n",
    "x=tf.placeholder(dtype=tf.float32,shape=[1,2],name='input')\n"
   ]
  },
  {
   "cell_type": "code",
   "execution_count": 13,
   "metadata": {},
   "outputs": [],
   "source": [
    "#初始化全局变量，这里由于只有w1和w2没有被初始化\n",
    "# （之前只是定义了w1和w2的tensor，并没有被初始化）\n",
    "#tf.initialize_all_variables().run()    #这种写法也可，官方推荐使用上面的写法\n",
    "tf.global_variables_initializer().run()"
   ]
  },
  {
   "cell_type": "code",
   "execution_count": 8,
   "metadata": {},
   "outputs": [],
   "source": [
    "a=tf.matmul(x,w1)\n",
    "y=tf.matmul(a,w2)"
   ]
  },
  {
   "cell_type": "code",
   "execution_count": 12,
   "metadata": {},
   "outputs": [
    {
     "name": "stdout",
     "output_type": "stream",
     "text": [
      "[[4.710078]]\n"
     ]
    }
   ],
   "source": [
    "print(sess.run(y,feed_dict={x:[[0.7,0.9]]}))"
   ]
  },
  {
   "cell_type": "markdown",
   "metadata": {},
   "source": [
    "\n",
    "\n",
    "我们也可以不指定placeholder的大小，其大小会根据实际情况确定。"
   ]
  },
  {
   "cell_type": "code",
   "execution_count": 15,
   "metadata": {},
   "outputs": [],
   "source": [
    "import tensorflow as tf\n",
    "#Tensorflow默认会话\n",
    "sess=tf.InteractiveSession()\n",
    "w1=tf.Variable(tf.random_normal([2,3],mean=1.0,stddev=1.0))\n",
    "w2=tf.Variable(tf.random_normal([3,1],mean=1.0,stddev=1.0))\n",
    "#定义一个placeholder，用于保存相应的数据。\n",
    "#placeholder(dtype, shape=None, name=None)\n",
    "#dtype:表示需要存放的数据的类型，一般可以使用tf.float32\n",
    "#shape:表示需要存放的数据的大小结构，简单可以理解为是一个多维数组，\n",
    "# 默认为None，可以不指定，根据实际需要，大小会自动调整。\n",
    "#name:名称，默认为None\n",
    "#在这里只是定义了这个placeholder的结构，并没有对其进行赋值（feed）操作。\n",
    "#注意：这里并没有指定这个placeholder的大小。\n",
    "x=tf.placeholder(dtype=tf.float32,name='input')"
   ]
  },
  {
   "cell_type": "code",
   "execution_count": 18,
   "metadata": {},
   "outputs": [],
   "source": [
    "#初始化全局变量，这里由于只有w1和w2没有被初始化\n",
    "# （之前只是定义了w1和w2的tensor，并没有被初始化）\n",
    "tf.global_variables_initializer().run()"
   ]
  },
  {
   "cell_type": "code",
   "execution_count": 19,
   "metadata": {},
   "outputs": [],
   "source": [
    "a=tf.matmul(x,w1)\n",
    "y=tf.matmul(a,w2)"
   ]
  },
  {
   "cell_type": "code",
   "execution_count": 20,
   "metadata": {},
   "outputs": [
    {
     "name": "stdout",
     "output_type": "stream",
     "text": [
      "[[ 5.249315  ]\n",
      " [ 0.86277163]\n",
      " [16.29518   ]]\n"
     ]
    }
   ],
   "source": [
    "#现在，通过feed_dict参数，传入一个3行2列的矩阵，并将这个矩阵赋值给x。\n",
    "#由于y的计算依赖于x的取值，因此必须使用feed_dict参数（该参数本质上是一个Python字典）。\n",
    "#最后在默认会话下执行run方法，计算y的值，并输出。\n",
    "#run方法返回的是最后的计算结果，在这里是一个3行1列的二维矩阵。\n",
    "print(sess.run(y,feed_dict={x:[[0.7,0.9],[0.8, 0.3],[1.3,2.6]]}))"
   ]
  },
  {
   "cell_type": "code",
   "execution_count": null,
   "metadata": {},
   "outputs": [],
   "source": []
  }
 ],
 "metadata": {
  "kernelspec": {
   "display_name": "Python 3",
   "language": "python",
   "name": "python3"
  },
  "language_info": {
   "codemirror_mode": {
    "name": "ipython",
    "version": 3
   },
   "file_extension": ".py",
   "mimetype": "text/x-python",
   "name": "python",
   "nbconvert_exporter": "python",
   "pygments_lexer": "ipython3",
   "version": "3.6.4"
  }
 },
 "nbformat": 4,
 "nbformat_minor": 2
}
