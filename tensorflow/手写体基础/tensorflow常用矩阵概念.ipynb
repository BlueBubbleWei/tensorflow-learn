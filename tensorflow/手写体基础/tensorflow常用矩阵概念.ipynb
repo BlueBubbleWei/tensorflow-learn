{
 "cells": [
  {
   "cell_type": "code",
   "execution_count": 1,
   "metadata": {},
   "outputs": [
    {
     "name": "stderr",
     "output_type": "stream",
     "text": [
      "C:\\Program Files (x86)\\software\\Anaconda\\lib\\site-packages\\h5py\\__init__.py:36: FutureWarning: Conversion of the second argument of issubdtype from `float` to `np.floating` is deprecated. In future, it will be treated as `np.float64 == np.dtype(float).type`.\n",
      "  from ._conv import register_converters as _register_converters\n"
     ]
    }
   ],
   "source": [
    "import tensorflow as tf\n"
   ]
  },
  {
   "cell_type": "code",
   "execution_count": 2,
   "metadata": {},
   "outputs": [],
   "source": [
    "sess=tf.InteractiveSession()\n"
   ]
  },
  {
   "cell_type": "code",
   "execution_count": 8,
   "metadata": {},
   "outputs": [
    {
     "name": "stdout",
     "output_type": "stream",
     "text": [
      "[[0.7 0.9]]\n",
      "[[0.7 0.9]]\n"
     ]
    }
   ],
   "source": [
    "#建立两个矩阵变量w1和w2\n",
    "#tf.random_normal(shape,\n",
    "#                 mean=0.0,\n",
    "#                 stddev=1.0,\n",
    "#                 dtype=dtypes.float32,\n",
    "#                 seed=None,\n",
    "#                 name=None)\n",
    "#产生随机正态分布\n",
    "#shape表示矩阵的维度，例如：\n",
    "#tf.random_normal([2,3],mean=1.0, stddev=1.0)是一个2行3列的矩阵，\n",
    "#mean表示均值，默认为0.0，stddev表示标准差，默认为1.0\n",
    "#seed表示随机数种子，默认为None\n",
    "w1=tf.Variable(tf.random_normal([2,3],mean=1.0,stddev=1.0))\n",
    "w2=tf.Variable(tf.random_normal([3,1],mean=1,stddev=1.0))\n",
    "\n",
    "x=tf.constant([[0.7,0.9]])\n",
    "\n",
    "# print(w1.eval())\n",
    "# 所有的f.Variable()在初始化之前是没有值的，只有占位大小\n",
    "tf.global_variables_initializer().run()\n",
    "print(w1.eval())\n",
    "a=tf.matmul(x,w1)\n",
    "y=tf.matmul(a,w2)\n",
    "\n",
    "print(y.eval())\n"
   ]
  },
  {
   "cell_type": "code",
   "execution_count": null,
   "metadata": {},
   "outputs": [],
   "source": []
  }
 ],
 "metadata": {
  "kernelspec": {
   "display_name": "Python 3",
   "language": "python",
   "name": "python3"
  },
  "language_info": {
   "codemirror_mode": {
    "name": "ipython",
    "version": 3
   },
   "file_extension": ".py",
   "mimetype": "text/x-python",
   "name": "python",
   "nbconvert_exporter": "python",
   "pygments_lexer": "ipython3",
   "version": "3.6.4"
  }
 },
 "nbformat": 4,
 "nbformat_minor": 2
}
