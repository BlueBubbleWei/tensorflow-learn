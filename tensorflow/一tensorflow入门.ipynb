{
 "cells": [
  {
   "cell_type": "markdown",
   "metadata": {},
   "source": [
    "深度学习介绍<br>\n",
    "传统机器学习算法： <br>\n",
    "输入—>人工特征提取—>权重学习—>预测结果 <br>\n",
    "深度学习算法 <br>\n",
    "输入—>基础特征提取—>多层复杂特征提取—>权重学习—>预测结果 "
   ]
  },
  {
   "cell_type": "code",
   "execution_count": 1,
   "metadata": {},
   "outputs": [
    {
     "name": "stdout",
     "output_type": "stream",
     "text": [
      "[ 3.  5.]\n"
     ]
    }
   ],
   "source": [
    "import tensorflow as tf;\n",
    "a=tf.constant([1.0,2.0],name=\"a\");\n",
    "b=tf.constant([2.0,3.0],name=\"b\");\n",
    "result=a+b\n",
    "sess=tf.Session()\n",
    "print(sess.run(result))"
   ]
  },
  {
   "cell_type": "code",
   "execution_count": 7,
   "metadata": {},
   "outputs": [
    {
     "name": "stdout",
     "output_type": "stream",
     "text": [
      "Tensor(\"Add_1:0\", shape=(2,), dtype=float32)\n",
      "[ 3.  5.]\n"
     ]
    }
   ],
   "source": [
    "import tensorflow as tf\n",
    "a = tf.constant([1,2.0],name='a')\n",
    "b = tf.constant([2.0,3],name='b')\n",
    "result = tf.add(a,b)\n",
    "print(result)\n",
    "with tf.Session() as sess:\n",
    "    print(sess.run(result))"
   ]
  },
  {
   "cell_type": "code",
   "execution_count": 9,
   "metadata": {},
   "outputs": [
    {
     "name": "stdout",
     "output_type": "stream",
     "text": [
      "3\n"
     ]
    }
   ],
   "source": [
    "import numpy as np\n",
    "group = np.array([[3,3], [4,3], [1,1]])  \n",
    "print(group.shape[0])"
   ]
  },
  {
   "cell_type": "code",
   "execution_count": 15,
   "metadata": {},
   "outputs": [
    {
     "name": "stdout",
     "output_type": "stream",
     "text": [
      "[[ 1.01934695]\n",
      " [ 1.04280889]]\n"
     ]
    }
   ],
   "source": [
    "#自定义损失函数\n",
    "import tensorflow as tf\n",
    "from numpy.random import RandomState\n",
    "\n",
    "batch_size = 8\n",
    "x = tf.placeholder(tf.float32,shape=(None,2),name='x-input')\n",
    "y_ = tf.placeholder(tf.float32,shape=(None,1),name='y-input')\n",
    "\n",
    "w1 = tf.Variable(tf.random_normal([2,1],stddev=1,seed=1))\n",
    "y = tf.matmul(x,w1)\n",
    "\n",
    "#定义预测多了和预测少了的成本\n",
    "loss_less = 10\n",
    "loss_more = 1\n",
    "loss = tf.reduce_sum(tf.where(tf.greater(y,y_),(y-y_)*loss_more,(y_ - y) * loss_less))\n",
    "train_step = tf.train.AdamOptimizer(0.001).minimize(loss)\n",
    "\n",
    "#通过随机数生成一个模拟数据集\n",
    "rdm = RandomState(1)\n",
    "dataset_size = 128\n",
    "X = rdm.rand(dataset_size,2)\n",
    "Y = [[x1 +x2 + rdm.rand()/10 -0.05] for (x1,x2) in X]\n",
    "\n",
    "#训练神经网络\n",
    "with tf.Session() as sess:\n",
    "    init_op = tf.global_variables_initializer()\n",
    "    sess.run(init_op)\n",
    "    STEPS = 5000\n",
    "    for i in range(STEPS):\n",
    "        start = (i*batch_size)%dataset_size\n",
    "        end = min(start+batch_size,dataset_size)\n",
    "        sess.run(train_step,feed_dict={x:X[start:end],y_:Y[start:end]})\n",
    "    print(sess.run(w1))"
   ]
  },
  {
   "cell_type": "code",
   "execution_count": null,
   "metadata": {},
   "outputs": [],
   "source": [
    "#神经网络优化算法\n",
    "# 反向传播和梯度下降\n",
    "# batch的选择：1、加快迭代次数  2、比单个迭代的时间要快  \n",
    "#  Batch_size不宜选的太小，太小了容易不收敛，或者需要经过很大的epoch才能收敛；\n",
    "# 也没必要选的太大，太大的话首先显存受不了，其次可能会因为迭代次数的减少而造成参数修正变的缓慢。\n",
    "\n",
    "\n",
    "# 神经网络的进一步优化\n",
    "# 通过指数衰减的方法设置学习率，在训练前期快速接近最优解，从而更加接近局部最优解\n",
    "\n",
    "decayed_learning_rate = learning_rate * decay_rate^(gloabal_step/decay_steps)\n",
    "# learning_rate 初始学习率    decay_rate 衰减系数  decay_steps衰减速度"
   ]
  }
 ],
 "metadata": {
  "kernelspec": {
   "display_name": "Python 3",
   "language": "python",
   "name": "python3"
  },
  "language_info": {
   "codemirror_mode": {
    "name": "ipython",
    "version": 3
   },
   "file_extension": ".py",
   "mimetype": "text/x-python",
   "name": "python",
   "nbconvert_exporter": "python",
   "pygments_lexer": "ipython3",
   "version": "3.6.4"
  }
 },
 "nbformat": 4,
 "nbformat_minor": 2
}
